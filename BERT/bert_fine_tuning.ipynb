{
  "nbformat": 4,
  "nbformat_minor": 0,
  "metadata": {
    "colab": {
      "name": "bert-fine-tuning.ipynb",
      "provenance": [],
      "collapsed_sections": [
        "amqKJ614xT7O",
        "uwpkVND7xYlF",
        "kSmZ5W4t9C5z",
        "HeZvWkvKxiHZ"
      ]
    },
    "kernelspec": {
      "name": "python3",
      "display_name": "Python 3"
    },
    "language_info": {
      "name": "python"
    }
  },
  "cells": [
    {
      "cell_type": "markdown",
      "source": [
        "# Sentiment Classification with BERT"
      ],
      "metadata": {
        "id": "L4ORJK6OxI7r"
      }
    },
    {
      "cell_type": "markdown",
      "source": [
        "## Preprocessing"
      ],
      "metadata": {
        "id": "xFLUWZmVxQU9"
      }
    },
    {
      "cell_type": "markdown",
      "source": [
        "### Download libraries"
      ],
      "metadata": {
        "id": "amqKJ614xT7O"
      }
    },
    {
      "cell_type": "code",
      "execution_count": null,
      "metadata": {
        "colab": {
          "base_uri": "https://localhost:8080/"
        },
        "id": "Qb3-G-azQr30",
        "outputId": "687e5338-a5ed-42e1-91b4-ba88f9719fca"
      },
      "outputs": [
        {
          "output_type": "stream",
          "name": "stdout",
          "text": [
            "Collecting scikit-plot\n",
            "  Downloading scikit_plot-0.3.7-py3-none-any.whl (33 kB)\n",
            "Requirement already satisfied: joblib>=0.10 in /usr/local/lib/python3.7/dist-packages (from scikit-plot) (1.1.0)\n",
            "Requirement already satisfied: scipy>=0.9 in /usr/local/lib/python3.7/dist-packages (from scikit-plot) (1.4.1)\n",
            "Requirement already satisfied: scikit-learn>=0.18 in /usr/local/lib/python3.7/dist-packages (from scikit-plot) (1.0.2)\n",
            "Requirement already satisfied: matplotlib>=1.4.0 in /usr/local/lib/python3.7/dist-packages (from scikit-plot) (3.2.2)\n",
            "Requirement already satisfied: kiwisolver>=1.0.1 in /usr/local/lib/python3.7/dist-packages (from matplotlib>=1.4.0->scikit-plot) (1.3.2)\n",
            "Requirement already satisfied: python-dateutil>=2.1 in /usr/local/lib/python3.7/dist-packages (from matplotlib>=1.4.0->scikit-plot) (2.8.2)\n",
            "Requirement already satisfied: pyparsing!=2.0.4,!=2.1.2,!=2.1.6,>=2.0.1 in /usr/local/lib/python3.7/dist-packages (from matplotlib>=1.4.0->scikit-plot) (3.0.7)\n",
            "Requirement already satisfied: numpy>=1.11 in /usr/local/lib/python3.7/dist-packages (from matplotlib>=1.4.0->scikit-plot) (1.21.5)\n",
            "Requirement already satisfied: cycler>=0.10 in /usr/local/lib/python3.7/dist-packages (from matplotlib>=1.4.0->scikit-plot) (0.11.0)\n",
            "Requirement already satisfied: six>=1.5 in /usr/local/lib/python3.7/dist-packages (from python-dateutil>=2.1->matplotlib>=1.4.0->scikit-plot) (1.15.0)\n",
            "Requirement already satisfied: threadpoolctl>=2.0.0 in /usr/local/lib/python3.7/dist-packages (from scikit-learn>=0.18->scikit-plot) (3.1.0)\n",
            "Installing collected packages: scikit-plot\n",
            "Successfully installed scikit-plot-0.3.7\n"
          ]
        }
      ],
      "source": [
        "!pip install scikit-plot"
      ]
    },
    {
      "cell_type": "code",
      "source": [
        "!pip install transformers"
      ],
      "metadata": {
        "colab": {
          "base_uri": "https://localhost:8080/"
        },
        "id": "RvMum5gpR99x",
        "outputId": "587c70c1-3315-4317-e4e7-e61671a158fa"
      },
      "execution_count": null,
      "outputs": [
        {
          "output_type": "stream",
          "name": "stdout",
          "text": [
            "Collecting transformers\n",
            "  Downloading transformers-4.17.0-py3-none-any.whl (3.8 MB)\n",
            "\u001b[K     |████████████████████████████████| 3.8 MB 7.5 MB/s \n",
            "\u001b[?25hRequirement already satisfied: tqdm>=4.27 in /usr/local/lib/python3.7/dist-packages (from transformers) (4.63.0)\n",
            "Requirement already satisfied: importlib-metadata in /usr/local/lib/python3.7/dist-packages (from transformers) (4.11.2)\n",
            "Requirement already satisfied: numpy>=1.17 in /usr/local/lib/python3.7/dist-packages (from transformers) (1.21.5)\n",
            "Collecting pyyaml>=5.1\n",
            "  Downloading PyYAML-6.0-cp37-cp37m-manylinux_2_5_x86_64.manylinux1_x86_64.manylinux_2_12_x86_64.manylinux2010_x86_64.whl (596 kB)\n",
            "\u001b[K     |████████████████████████████████| 596 kB 68.0 MB/s \n",
            "\u001b[?25hCollecting sacremoses\n",
            "  Downloading sacremoses-0.0.49-py3-none-any.whl (895 kB)\n",
            "\u001b[K     |████████████████████████████████| 895 kB 68.7 MB/s \n",
            "\u001b[?25hCollecting huggingface-hub<1.0,>=0.1.0\n",
            "  Downloading huggingface_hub-0.4.0-py3-none-any.whl (67 kB)\n",
            "\u001b[K     |████████████████████████████████| 67 kB 5.7 MB/s \n",
            "\u001b[?25hRequirement already satisfied: requests in /usr/local/lib/python3.7/dist-packages (from transformers) (2.23.0)\n",
            "Requirement already satisfied: packaging>=20.0 in /usr/local/lib/python3.7/dist-packages (from transformers) (21.3)\n",
            "Collecting tokenizers!=0.11.3,>=0.11.1\n",
            "  Downloading tokenizers-0.11.6-cp37-cp37m-manylinux_2_12_x86_64.manylinux2010_x86_64.whl (6.5 MB)\n",
            "\u001b[K     |████████████████████████████████| 6.5 MB 55.6 MB/s \n",
            "\u001b[?25hRequirement already satisfied: filelock in /usr/local/lib/python3.7/dist-packages (from transformers) (3.6.0)\n",
            "Requirement already satisfied: regex!=2019.12.17 in /usr/local/lib/python3.7/dist-packages (from transformers) (2019.12.20)\n",
            "Requirement already satisfied: typing-extensions>=3.7.4.3 in /usr/local/lib/python3.7/dist-packages (from huggingface-hub<1.0,>=0.1.0->transformers) (3.10.0.2)\n",
            "Requirement already satisfied: pyparsing!=3.0.5,>=2.0.2 in /usr/local/lib/python3.7/dist-packages (from packaging>=20.0->transformers) (3.0.7)\n",
            "Requirement already satisfied: zipp>=0.5 in /usr/local/lib/python3.7/dist-packages (from importlib-metadata->transformers) (3.7.0)\n",
            "Requirement already satisfied: chardet<4,>=3.0.2 in /usr/local/lib/python3.7/dist-packages (from requests->transformers) (3.0.4)\n",
            "Requirement already satisfied: urllib3!=1.25.0,!=1.25.1,<1.26,>=1.21.1 in /usr/local/lib/python3.7/dist-packages (from requests->transformers) (1.24.3)\n",
            "Requirement already satisfied: idna<3,>=2.5 in /usr/local/lib/python3.7/dist-packages (from requests->transformers) (2.10)\n",
            "Requirement already satisfied: certifi>=2017.4.17 in /usr/local/lib/python3.7/dist-packages (from requests->transformers) (2021.10.8)\n",
            "Requirement already satisfied: six in /usr/local/lib/python3.7/dist-packages (from sacremoses->transformers) (1.15.0)\n",
            "Requirement already satisfied: click in /usr/local/lib/python3.7/dist-packages (from sacremoses->transformers) (7.1.2)\n",
            "Requirement already satisfied: joblib in /usr/local/lib/python3.7/dist-packages (from sacremoses->transformers) (1.1.0)\n",
            "Installing collected packages: pyyaml, tokenizers, sacremoses, huggingface-hub, transformers\n",
            "  Attempting uninstall: pyyaml\n",
            "    Found existing installation: PyYAML 3.13\n",
            "    Uninstalling PyYAML-3.13:\n",
            "      Successfully uninstalled PyYAML-3.13\n",
            "Successfully installed huggingface-hub-0.4.0 pyyaml-6.0 sacremoses-0.0.49 tokenizers-0.11.6 transformers-4.17.0\n"
          ]
        }
      ]
    },
    {
      "cell_type": "markdown",
      "source": [
        "### Load Datasets"
      ],
      "metadata": {
        "id": "uwpkVND7xYlF"
      }
    },
    {
      "cell_type": "code",
      "source": [
        "from google.colab import drive\n",
        "drive.mount('/content/gdrive')"
      ],
      "metadata": {
        "colab": {
          "base_uri": "https://localhost:8080/"
        },
        "id": "CIp33bgxRLh3",
        "outputId": "5529a37c-8659-4818-ad6c-285bebc6b38f"
      },
      "execution_count": null,
      "outputs": [
        {
          "output_type": "stream",
          "name": "stdout",
          "text": [
            "Mounted at /content/gdrive\n"
          ]
        }
      ]
    },
    {
      "cell_type": "code",
      "source": [
        "train_csv = '/content/gdrive/My Drive/datasets/vaccine_train_set.csv'\n",
        "\n",
        "test_csv = '/content/gdrive/My Drive/datasets/vaccine_validation_set.csv'"
      ],
      "metadata": {
        "id": "yKxkXU0KROiG"
      },
      "execution_count": null,
      "outputs": []
    },
    {
      "cell_type": "code",
      "source": [
        "import pandas as pd\n",
        "\n",
        "df_train = pd.read_csv(train_csv)\n",
        "df_train = df_train.drop(['Unnamed: 0'], axis=1)\n",
        "\n",
        "df_train.head()"
      ],
      "metadata": {
        "colab": {
          "base_uri": "https://localhost:8080/",
          "height": 206
        },
        "id": "EmMSP84PReEa",
        "outputId": "0e526af8-e737-432d-c00d-f4c66618c5d0"
      },
      "execution_count": null,
      "outputs": [
        {
          "output_type": "execute_result",
          "data": {
            "text/plain": [
              "                                               tweet  label\n",
              "0  Sip N Shop Come thru right now #Marjais #Popul...      0\n",
              "1  I don't know about you but My family and I wil...      1\n",
              "2  @MSignorile Immunizations should be mandatory....      2\n",
              "3  President Obama spoke in favor of vaccination ...      0\n",
              "4  \"@myfoxla: Arizona monitoring hundreds for mea...      0"
            ],
            "text/html": [
              "\n",
              "  <div id=\"df-be5376f1-1dae-49b7-9370-4940dc4163a7\">\n",
              "    <div class=\"colab-df-container\">\n",
              "      <div>\n",
              "<style scoped>\n",
              "    .dataframe tbody tr th:only-of-type {\n",
              "        vertical-align: middle;\n",
              "    }\n",
              "\n",
              "    .dataframe tbody tr th {\n",
              "        vertical-align: top;\n",
              "    }\n",
              "\n",
              "    .dataframe thead th {\n",
              "        text-align: right;\n",
              "    }\n",
              "</style>\n",
              "<table border=\"1\" class=\"dataframe\">\n",
              "  <thead>\n",
              "    <tr style=\"text-align: right;\">\n",
              "      <th></th>\n",
              "      <th>tweet</th>\n",
              "      <th>label</th>\n",
              "    </tr>\n",
              "  </thead>\n",
              "  <tbody>\n",
              "    <tr>\n",
              "      <th>0</th>\n",
              "      <td>Sip N Shop Come thru right now #Marjais #Popul...</td>\n",
              "      <td>0</td>\n",
              "    </tr>\n",
              "    <tr>\n",
              "      <th>1</th>\n",
              "      <td>I don't know about you but My family and I wil...</td>\n",
              "      <td>1</td>\n",
              "    </tr>\n",
              "    <tr>\n",
              "      <th>2</th>\n",
              "      <td>@MSignorile Immunizations should be mandatory....</td>\n",
              "      <td>2</td>\n",
              "    </tr>\n",
              "    <tr>\n",
              "      <th>3</th>\n",
              "      <td>President Obama spoke in favor of vaccination ...</td>\n",
              "      <td>0</td>\n",
              "    </tr>\n",
              "    <tr>\n",
              "      <th>4</th>\n",
              "      <td>\"@myfoxla: Arizona monitoring hundreds for mea...</td>\n",
              "      <td>0</td>\n",
              "    </tr>\n",
              "  </tbody>\n",
              "</table>\n",
              "</div>\n",
              "      <button class=\"colab-df-convert\" onclick=\"convertToInteractive('df-be5376f1-1dae-49b7-9370-4940dc4163a7')\"\n",
              "              title=\"Convert this dataframe to an interactive table.\"\n",
              "              style=\"display:none;\">\n",
              "        \n",
              "  <svg xmlns=\"http://www.w3.org/2000/svg\" height=\"24px\"viewBox=\"0 0 24 24\"\n",
              "       width=\"24px\">\n",
              "    <path d=\"M0 0h24v24H0V0z\" fill=\"none\"/>\n",
              "    <path d=\"M18.56 5.44l.94 2.06.94-2.06 2.06-.94-2.06-.94-.94-2.06-.94 2.06-2.06.94zm-11 1L8.5 8.5l.94-2.06 2.06-.94-2.06-.94L8.5 2.5l-.94 2.06-2.06.94zm10 10l.94 2.06.94-2.06 2.06-.94-2.06-.94-.94-2.06-.94 2.06-2.06.94z\"/><path d=\"M17.41 7.96l-1.37-1.37c-.4-.4-.92-.59-1.43-.59-.52 0-1.04.2-1.43.59L10.3 9.45l-7.72 7.72c-.78.78-.78 2.05 0 2.83L4 21.41c.39.39.9.59 1.41.59.51 0 1.02-.2 1.41-.59l7.78-7.78 2.81-2.81c.8-.78.8-2.07 0-2.86zM5.41 20L4 18.59l7.72-7.72 1.47 1.35L5.41 20z\"/>\n",
              "  </svg>\n",
              "      </button>\n",
              "      \n",
              "  <style>\n",
              "    .colab-df-container {\n",
              "      display:flex;\n",
              "      flex-wrap:wrap;\n",
              "      gap: 12px;\n",
              "    }\n",
              "\n",
              "    .colab-df-convert {\n",
              "      background-color: #E8F0FE;\n",
              "      border: none;\n",
              "      border-radius: 50%;\n",
              "      cursor: pointer;\n",
              "      display: none;\n",
              "      fill: #1967D2;\n",
              "      height: 32px;\n",
              "      padding: 0 0 0 0;\n",
              "      width: 32px;\n",
              "    }\n",
              "\n",
              "    .colab-df-convert:hover {\n",
              "      background-color: #E2EBFA;\n",
              "      box-shadow: 0px 1px 2px rgba(60, 64, 67, 0.3), 0px 1px 3px 1px rgba(60, 64, 67, 0.15);\n",
              "      fill: #174EA6;\n",
              "    }\n",
              "\n",
              "    [theme=dark] .colab-df-convert {\n",
              "      background-color: #3B4455;\n",
              "      fill: #D2E3FC;\n",
              "    }\n",
              "\n",
              "    [theme=dark] .colab-df-convert:hover {\n",
              "      background-color: #434B5C;\n",
              "      box-shadow: 0px 1px 3px 1px rgba(0, 0, 0, 0.15);\n",
              "      filter: drop-shadow(0px 1px 2px rgba(0, 0, 0, 0.3));\n",
              "      fill: #FFFFFF;\n",
              "    }\n",
              "  </style>\n",
              "\n",
              "      <script>\n",
              "        const buttonEl =\n",
              "          document.querySelector('#df-be5376f1-1dae-49b7-9370-4940dc4163a7 button.colab-df-convert');\n",
              "        buttonEl.style.display =\n",
              "          google.colab.kernel.accessAllowed ? 'block' : 'none';\n",
              "\n",
              "        async function convertToInteractive(key) {\n",
              "          const element = document.querySelector('#df-be5376f1-1dae-49b7-9370-4940dc4163a7');\n",
              "          const dataTable =\n",
              "            await google.colab.kernel.invokeFunction('convertToInteractive',\n",
              "                                                     [key], {});\n",
              "          if (!dataTable) return;\n",
              "\n",
              "          const docLinkHtml = 'Like what you see? Visit the ' +\n",
              "            '<a target=\"_blank\" href=https://colab.research.google.com/notebooks/data_table.ipynb>data table notebook</a>'\n",
              "            + ' to learn more about interactive tables.';\n",
              "          element.innerHTML = '';\n",
              "          dataTable['output_type'] = 'display_data';\n",
              "          await google.colab.output.renderOutput(dataTable, element);\n",
              "          const docLink = document.createElement('div');\n",
              "          docLink.innerHTML = docLinkHtml;\n",
              "          element.appendChild(docLink);\n",
              "        }\n",
              "      </script>\n",
              "    </div>\n",
              "  </div>\n",
              "  "
            ]
          },
          "metadata": {},
          "execution_count": 7
        }
      ]
    },
    {
      "cell_type": "code",
      "source": [
        "df_train.shape"
      ],
      "metadata": {
        "colab": {
          "base_uri": "https://localhost:8080/"
        },
        "id": "OgJetPbIRg3Z",
        "outputId": "04ad89b9-ab08-455f-fa83-b2431c686d55"
      },
      "execution_count": null,
      "outputs": [
        {
          "output_type": "execute_result",
          "data": {
            "text/plain": [
              "(15976, 2)"
            ]
          },
          "metadata": {},
          "execution_count": 8
        }
      ]
    },
    {
      "cell_type": "code",
      "source": [
        "df_test = pd.read_csv(test_csv)\n",
        "df_test = df_test.drop(['Unnamed: 0'], axis=1)\n",
        "\n",
        "df_test.head()"
      ],
      "metadata": {
        "colab": {
          "base_uri": "https://localhost:8080/",
          "height": 206
        },
        "id": "uX1JbKZ0RjOY",
        "outputId": "0e1d6f43-81a1-44ee-f570-c1e8d75c3920"
      },
      "execution_count": null,
      "outputs": [
        {
          "output_type": "execute_result",
          "data": {
            "text/plain": [
              "                                               tweet  label\n",
              "0  @user They had a massive surge in with covid d...      1\n",
              "1  Required vaccines for school: Parents and guar...      0\n",
              "2  “@KCStar: Two more Johnson County children hav...      0\n",
              "3  NV can do better. Which states are the best (a...      2\n",
              "4  Nothing like killing ourselves w/ our own fear...      2"
            ],
            "text/html": [
              "\n",
              "  <div id=\"df-05adcc13-cd3a-47c5-b757-e7b1e29b3dce\">\n",
              "    <div class=\"colab-df-container\">\n",
              "      <div>\n",
              "<style scoped>\n",
              "    .dataframe tbody tr th:only-of-type {\n",
              "        vertical-align: middle;\n",
              "    }\n",
              "\n",
              "    .dataframe tbody tr th {\n",
              "        vertical-align: top;\n",
              "    }\n",
              "\n",
              "    .dataframe thead th {\n",
              "        text-align: right;\n",
              "    }\n",
              "</style>\n",
              "<table border=\"1\" class=\"dataframe\">\n",
              "  <thead>\n",
              "    <tr style=\"text-align: right;\">\n",
              "      <th></th>\n",
              "      <th>tweet</th>\n",
              "      <th>label</th>\n",
              "    </tr>\n",
              "  </thead>\n",
              "  <tbody>\n",
              "    <tr>\n",
              "      <th>0</th>\n",
              "      <td>@user They had a massive surge in with covid d...</td>\n",
              "      <td>1</td>\n",
              "    </tr>\n",
              "    <tr>\n",
              "      <th>1</th>\n",
              "      <td>Required vaccines for school: Parents and guar...</td>\n",
              "      <td>0</td>\n",
              "    </tr>\n",
              "    <tr>\n",
              "      <th>2</th>\n",
              "      <td>“@KCStar: Two more Johnson County children hav...</td>\n",
              "      <td>0</td>\n",
              "    </tr>\n",
              "    <tr>\n",
              "      <th>3</th>\n",
              "      <td>NV can do better. Which states are the best (a...</td>\n",
              "      <td>2</td>\n",
              "    </tr>\n",
              "    <tr>\n",
              "      <th>4</th>\n",
              "      <td>Nothing like killing ourselves w/ our own fear...</td>\n",
              "      <td>2</td>\n",
              "    </tr>\n",
              "  </tbody>\n",
              "</table>\n",
              "</div>\n",
              "      <button class=\"colab-df-convert\" onclick=\"convertToInteractive('df-05adcc13-cd3a-47c5-b757-e7b1e29b3dce')\"\n",
              "              title=\"Convert this dataframe to an interactive table.\"\n",
              "              style=\"display:none;\">\n",
              "        \n",
              "  <svg xmlns=\"http://www.w3.org/2000/svg\" height=\"24px\"viewBox=\"0 0 24 24\"\n",
              "       width=\"24px\">\n",
              "    <path d=\"M0 0h24v24H0V0z\" fill=\"none\"/>\n",
              "    <path d=\"M18.56 5.44l.94 2.06.94-2.06 2.06-.94-2.06-.94-.94-2.06-.94 2.06-2.06.94zm-11 1L8.5 8.5l.94-2.06 2.06-.94-2.06-.94L8.5 2.5l-.94 2.06-2.06.94zm10 10l.94 2.06.94-2.06 2.06-.94-2.06-.94-.94-2.06-.94 2.06-2.06.94z\"/><path d=\"M17.41 7.96l-1.37-1.37c-.4-.4-.92-.59-1.43-.59-.52 0-1.04.2-1.43.59L10.3 9.45l-7.72 7.72c-.78.78-.78 2.05 0 2.83L4 21.41c.39.39.9.59 1.41.59.51 0 1.02-.2 1.41-.59l7.78-7.78 2.81-2.81c.8-.78.8-2.07 0-2.86zM5.41 20L4 18.59l7.72-7.72 1.47 1.35L5.41 20z\"/>\n",
              "  </svg>\n",
              "      </button>\n",
              "      \n",
              "  <style>\n",
              "    .colab-df-container {\n",
              "      display:flex;\n",
              "      flex-wrap:wrap;\n",
              "      gap: 12px;\n",
              "    }\n",
              "\n",
              "    .colab-df-convert {\n",
              "      background-color: #E8F0FE;\n",
              "      border: none;\n",
              "      border-radius: 50%;\n",
              "      cursor: pointer;\n",
              "      display: none;\n",
              "      fill: #1967D2;\n",
              "      height: 32px;\n",
              "      padding: 0 0 0 0;\n",
              "      width: 32px;\n",
              "    }\n",
              "\n",
              "    .colab-df-convert:hover {\n",
              "      background-color: #E2EBFA;\n",
              "      box-shadow: 0px 1px 2px rgba(60, 64, 67, 0.3), 0px 1px 3px 1px rgba(60, 64, 67, 0.15);\n",
              "      fill: #174EA6;\n",
              "    }\n",
              "\n",
              "    [theme=dark] .colab-df-convert {\n",
              "      background-color: #3B4455;\n",
              "      fill: #D2E3FC;\n",
              "    }\n",
              "\n",
              "    [theme=dark] .colab-df-convert:hover {\n",
              "      background-color: #434B5C;\n",
              "      box-shadow: 0px 1px 3px 1px rgba(0, 0, 0, 0.15);\n",
              "      filter: drop-shadow(0px 1px 2px rgba(0, 0, 0, 0.3));\n",
              "      fill: #FFFFFF;\n",
              "    }\n",
              "  </style>\n",
              "\n",
              "      <script>\n",
              "        const buttonEl =\n",
              "          document.querySelector('#df-05adcc13-cd3a-47c5-b757-e7b1e29b3dce button.colab-df-convert');\n",
              "        buttonEl.style.display =\n",
              "          google.colab.kernel.accessAllowed ? 'block' : 'none';\n",
              "\n",
              "        async function convertToInteractive(key) {\n",
              "          const element = document.querySelector('#df-05adcc13-cd3a-47c5-b757-e7b1e29b3dce');\n",
              "          const dataTable =\n",
              "            await google.colab.kernel.invokeFunction('convertToInteractive',\n",
              "                                                     [key], {});\n",
              "          if (!dataTable) return;\n",
              "\n",
              "          const docLinkHtml = 'Like what you see? Visit the ' +\n",
              "            '<a target=\"_blank\" href=https://colab.research.google.com/notebooks/data_table.ipynb>data table notebook</a>'\n",
              "            + ' to learn more about interactive tables.';\n",
              "          element.innerHTML = '';\n",
              "          dataTable['output_type'] = 'display_data';\n",
              "          await google.colab.output.renderOutput(dataTable, element);\n",
              "          const docLink = document.createElement('div');\n",
              "          docLink.innerHTML = docLinkHtml;\n",
              "          element.appendChild(docLink);\n",
              "        }\n",
              "      </script>\n",
              "    </div>\n",
              "  </div>\n",
              "  "
            ]
          },
          "metadata": {},
          "execution_count": 9
        }
      ]
    },
    {
      "cell_type": "code",
      "source": [
        "df_test.shape"
      ],
      "metadata": {
        "colab": {
          "base_uri": "https://localhost:8080/"
        },
        "id": "dGb7a2bqRuVP",
        "outputId": "77e807c4-2abe-4752-b437-62c7e1ef9070"
      },
      "execution_count": null,
      "outputs": [
        {
          "output_type": "execute_result",
          "data": {
            "text/plain": [
              "(2282, 2)"
            ]
          },
          "metadata": {},
          "execution_count": 10
        }
      ]
    },
    {
      "cell_type": "markdown",
      "source": [
        "### Data Cleaning\n",
        "\n",
        "Removing:\n",
        "*   http/https links\n",
        "*   account mentions\n",
        "*   multiple spaces\n",
        "\n",
        "A light process of data cleaning has been chosen for this task, since BERT can take advantage from the rest of the information. "
      ],
      "metadata": {
        "id": "kSmZ5W4t9C5z"
      }
    },
    {
      "cell_type": "code",
      "source": [
        "import re\n",
        "\n",
        "def data_cleaning(df):\n",
        "  df['cleaned_tweet'] = df['tweet'].apply(lambda x : re.sub(r'http\\S+', '', x))\n",
        "  df['cleaned_tweet'] = df['cleaned_tweet'].apply(lambda x : re.sub(r'https\\S+', '', x))\n",
        "  df['cleaned_tweet'] = df['cleaned_tweet'].apply(lambda x : re.sub(\"@[A-Za-z0-9]+\", '', x))\n",
        "  df['cleaned_tweet'] = df['cleaned_tweet'].apply(lambda x : re.sub(\"&[A-Za-z0-9]+\", '', x))\n",
        "  df['cleaned_tweet'] = df['cleaned_tweet'].apply(lambda x : re.sub(r'[^\\w\\s]', '', x))\n",
        "  df['cleaned_tweet'] = df['cleaned_tweet'].apply(lambda x : re.sub(r'\\s+',' ', x))"
      ],
      "metadata": {
        "id": "4ZxFoMxSRyW8"
      },
      "execution_count": null,
      "outputs": []
    },
    {
      "cell_type": "code",
      "source": [
        "data_cleaning(df_train)\n",
        "data_cleaning(df_test)"
      ],
      "metadata": {
        "id": "kdfWG2gFR0hN"
      },
      "execution_count": null,
      "outputs": []
    },
    {
      "cell_type": "code",
      "source": [
        "item = df_train.sample()\n",
        "\n",
        "print('Original tweet:', list(item.tweet))\n",
        "print('After light cleaning:', list(item.cleaned_tweet))"
      ],
      "metadata": {
        "colab": {
          "base_uri": "https://localhost:8080/"
        },
        "id": "setZoMfrR2gT",
        "outputId": "aa139bd6-3463-4925-e33a-f332fc1cca38"
      },
      "execution_count": null,
      "outputs": [
        {
          "output_type": "stream",
          "name": "stdout",
          "text": [
            "Original tweet: [\"Measels outbreak? Isn't that a mandatory vaccine you receive as an infant? Parents get your shit together\"]\n",
            "After light cleaning: ['Measels outbreak Isnt that a mandatory vaccine you receive as an infant Parents get your shit together']\n"
          ]
        }
      ]
    },
    {
      "cell_type": "markdown",
      "source": [
        "### Use GPU"
      ],
      "metadata": {
        "id": "HeZvWkvKxiHZ"
      }
    },
    {
      "cell_type": "code",
      "source": [
        "import torch\n",
        "\n",
        "device = torch.device('cuda' if torch.cuda.is_available() else 'cpu')\n",
        "print('Device available for running: ')\n",
        "print(device)"
      ],
      "metadata": {
        "colab": {
          "base_uri": "https://localhost:8080/"
        },
        "id": "ptFQFa61R4bL",
        "outputId": "8cb66417-0c28-4e77-bf6b-fdeb04601acd"
      },
      "execution_count": null,
      "outputs": [
        {
          "output_type": "stream",
          "name": "stdout",
          "text": [
            "Device available for running: \n",
            "cpu\n"
          ]
        }
      ]
    },
    {
      "cell_type": "markdown",
      "source": [
        "### Tokenize sentances\n",
        "\n",
        "Using [`bert-base-uncased`](https://https://huggingface.co/bert-base-uncased) model from `HuggingFace` \n",
        "\n",
        "Due to Google Colab's restrictions, the MAX_LEN of the sentances was set to 64, therefore the larger ones were trunkated. However, as the plot bellow illustrates, the majority of the tweets contain less than 60 tokens, so this restriction is not going to affect greatly the final results."
      ],
      "metadata": {
        "id": "HP59Tg6BxlVt"
      }
    },
    {
      "cell_type": "code",
      "source": [
        "from transformers import BertTokenizerFast, BertTokenizerFast, BertModel\n",
        "\n",
        "BERT_MODEL = 'bert-base-uncased'\n",
        "tokenizer = BertTokenizerFast.from_pretrained(BERT_MODEL)"
      ],
      "metadata": {
        "id": "f52WZBEGR6WO"
      },
      "execution_count": null,
      "outputs": []
    },
    {
      "cell_type": "code",
      "source": [
        "import numpy as np\n",
        "\n",
        "# Find the the maximum number of tokens\n",
        "all_tweets = np.concatenate([df_train.cleaned_tweet.values, df_test.cleaned_tweet.values])\n",
        "encoded_tweets = [tokenizer.encode(entry, add_special_tokens=True) for entry in all_tweets]\n",
        "\n",
        "n_tokens = [len(entry) for entry in encoded_tweets]\n",
        "print('Min # tokens: \\t', min(n_tokens))\n",
        "print('Avg # tokens:  \\t {:.2f}'.format(np.mean(n_tokens)))\n",
        "print('Max # tokens: \\t', max(n_tokens))"
      ],
      "metadata": {
        "colab": {
          "base_uri": "https://localhost:8080/"
        },
        "id": "AxBm32TVSCNZ",
        "outputId": "cda61504-4696-4e73-a341-fcfa60c01786"
      },
      "execution_count": null,
      "outputs": [
        {
          "output_type": "stream",
          "name": "stdout",
          "text": [
            "Min # tokens: \t 3\n",
            "Avg # tokens:  \t 23.47\n",
            "Max # tokens: \t 102\n"
          ]
        }
      ]
    },
    {
      "cell_type": "code",
      "source": [
        "import seaborn as sns\n",
        "import matplotlib.pyplot as plt\n",
        "\n",
        "sns.histplot(n_tokens)\n",
        "plt.xlim([0, 64]);"
      ],
      "metadata": {
        "colab": {
          "base_uri": "https://localhost:8080/",
          "height": 265
        },
        "id": "cKIyZyezfaXB",
        "outputId": "fb40070b-c8b4-4caa-b679-4f883dd366ca"
      },
      "execution_count": null,
      "outputs": [
        {
          "output_type": "display_data",
          "data": {
            "text/plain": [
              "<Figure size 432x288 with 1 Axes>"
            ],
            "image/png": "[encoded data removed]"
          },
          "metadata": {
            "needs_background": "light"
          }
        }
      ]
    },
    {
      "cell_type": "markdown",
      "source": [
        "### Define a custom `BERT_Dataset` class to process datasets\n",
        "\n",
        "`Bert_Dataset` class assists at the encoding process of the datasets and enabling also the construction of the respective dataloaders"
      ],
      "metadata": {
        "id": "KPB-r5poDJge"
      }
    },
    {
      "cell_type": "code",
      "source": [
        "from transformers import BertTokenizerFast, BertModel\n",
        "from torch.utils.data import TensorDataset, DataLoader, RandomSampler, SequentialSampler\n",
        "\n",
        "### BERT_Dataset class aims to store the encoded datasets\n",
        "class BERT_Dataset():\n",
        "  def __init__(self, dataset, tokenizer, max_len=64):\n",
        "    # list of tweets\n",
        "    self.tweets = dataset.cleaned_tweet.values\n",
        "    # tensor of labels\n",
        "    self.labels = torch.tensor(dataset.label.values)\n",
        "    # tokenization model\n",
        "    self.tokenizer = tokenizer\n",
        "    # maximum len of sentances\n",
        "    self.max_len = max_len\n",
        "    self.input_ids, self.attention_masks = self.encoding()\n",
        "  \n",
        "  ## returns the content, input_ids, attention_mask and label of an encoded tweet\n",
        "  def __getitem__(self, idx):\n",
        "    return self.tweets[idx], self.input_ids[idx], self.attention_masks[idx], self.labels[idx]\n",
        "  \n",
        "  ## returns the size of dataset\n",
        "  def __len__(self):\n",
        "    return len(self.tweets)\n",
        "\n",
        "  ## encodes dataset using `BertTokenizerFast`\n",
        "  def encoding(self):\n",
        "    input_ids = []\n",
        "    attention_masks = []\n",
        "    for entry in self.tweets:\n",
        "      encoding = self.tokenizer.encode_plus(entry, \n",
        "                                            add_special_tokens=True, \n",
        "                                            max_length=self.max_len, \n",
        "                                            return_token_type_ids=False, \n",
        "                                            padding='max_length', \n",
        "                                            truncation = True,\n",
        "                                            # pad_to_max_length=True,\n",
        "                                            return_attention_mask=True)\n",
        "      \n",
        "      input_ids.append(encoding['input_ids'])\n",
        "      attention_masks.append(encoding['attention_mask'])\n",
        "    return torch.tensor(input_ids), torch.tensor(attention_masks)\n",
        "  \n",
        "  ## returns a dataloader to process the dataset in batches\n",
        "  def get_DataLoader(self, batch_size=16, sampler='RandomSampler'):\n",
        "    # creat a tensor of target values\n",
        "    tensor = TensorDataset(self.input_ids, self.attention_masks, self.labels)\n",
        "    # choose sampler and return dataloader\n",
        "    if sampler == 'RandomSampler':\n",
        "      return DataLoader(tensor, sampler=RandomSampler(tensor), batch_size=batch_size)\n",
        "    elif sampler == 'SequentialSampler':\n",
        "      return DataLoader(tensor, sampler=SequentialSampler(tensor), batch_size=batch_size)\n",
        "    else:\n",
        "      return DataLoader(tensor, batch_size=batch_size, shuffle=True)"
      ],
      "metadata": {
        "id": "KKikj2fBSFGR"
      },
      "execution_count": null,
      "outputs": []
    },
    {
      "cell_type": "markdown",
      "source": [
        "### Parse datasets"
      ],
      "metadata": {
        "id": "kBmofYhbFJwq"
      }
    },
    {
      "cell_type": "code",
      "source": [
        "train_data = BERT_Dataset(dataset=df_train, tokenizer=tokenizer)\n",
        "test_data = BERT_Dataset(dataset=df_test, tokenizer=tokenizer)"
      ],
      "metadata": {
        "id": "n3cuDCD_SPNC"
      },
      "execution_count": null,
      "outputs": []
    },
    {
      "cell_type": "code",
      "source": [
        "sample = train_data[0]\n",
        "print(sample[0])\n",
        "print(tokenizer.convert_ids_to_tokens(sample[1].squeeze()))"
      ],
      "metadata": {
        "colab": {
          "base_uri": "https://localhost:8080/"
        },
        "id": "E7jSGRa7KlmP",
        "outputId": "ffe6cc2e-3bf3-4e1b-df7d-b21d1ed68e99"
      },
      "execution_count": null,
      "outputs": [
        {
          "output_type": "stream",
          "name": "stdout",
          "text": [
            "Sip N Shop Come thru right now #Marjais #PopularNobodies #MMR 🙌🙌🙌🙌 @ Marjais SipNShop \n",
            "['[CLS]', 'sip', 'n', 'shop', 'come', 'thru', 'right', 'now', '#', 'mar', '##ja', '##is', '#', 'popular', '##nob', '##odies', '#', 'mm', '##r', '[UNK]', '@', 'mar', '##ja', '##is', 'sip', '##ns', '##hop', '[SEP]', '[PAD]', '[PAD]', '[PAD]', '[PAD]', '[PAD]', '[PAD]', '[PAD]', '[PAD]', '[PAD]', '[PAD]', '[PAD]', '[PAD]', '[PAD]', '[PAD]', '[PAD]', '[PAD]', '[PAD]', '[PAD]', '[PAD]', '[PAD]', '[PAD]', '[PAD]', '[PAD]', '[PAD]', '[PAD]', '[PAD]', '[PAD]', '[PAD]', '[PAD]', '[PAD]', '[PAD]', '[PAD]', '[PAD]', '[PAD]', '[PAD]', '[PAD]']\n"
          ]
        }
      ]
    },
    {
      "cell_type": "markdown",
      "source": [
        "## Classification"
      ],
      "metadata": {
        "id": "mpj_EzGtFScx"
      }
    },
    {
      "cell_type": "markdown",
      "source": [
        "### Defining a custom Classifier\n",
        "\n",
        "The class `BertClassifier` utilizes a simple Feed Forward Network (from Assignment 2) for classification and a Bert Model (as defined above) to extract the last hidden layer of the `[CLS]` token."
      ],
      "metadata": {
        "id": "hdLKfAX-FVEp"
      }
    },
    {
      "cell_type": "code",
      "source": [
        "import torch\n",
        "import torch.nn as nn\n",
        "from transformers import BertModel\n",
        "\n",
        "class BertClassifier(nn.Module):\n",
        "    def __init__(self, hidden_size, output_dim, dropout_prob, freeze_bert=False, input_dim=768):\n",
        "        super(BertClassifier, self).__init__()\n",
        "        # input dimensions (768)\n",
        "        self.input_dim = input_dim\n",
        "        # hidden dimensions (50)\n",
        "        self.hidden_size = hidden_size\n",
        "        # output dimensions (3)\n",
        "        self.output_dim = output_dim\n",
        "        # loading pre trained bert\n",
        "        self.bert = BertModel.from_pretrained(BERT_MODEL)\n",
        "        # declare a simple feed forward network for classification\n",
        "        self.classifier = nn.Sequential(\n",
        "            nn.Linear(self.input_dim, self.hidden_size),\n",
        "            nn.ReLU(),\n",
        "            nn.Dropout(dropout_prob),\n",
        "            nn.Linear(self.hidden_size, self.output_dim)\n",
        "        )\n",
        "        # `set freeze_bert` to False to fine tune the pretrained model\n",
        "        if freeze_bert:\n",
        "            for param in self.bert.parameters():\n",
        "                param.requires_grad = False\n",
        "        \n",
        "    def forward(self, input_ids, attention_mask):\n",
        "        # get bert predictions\n",
        "        out = self.bert(input_ids=input_ids, attention_mask=attention_mask)\n",
        "        # retrieve the last hidden state\n",
        "        h_n = out[0][:, 0, :]\n",
        "        # get the final logits\n",
        "        out = self.classifier(h_n)\n",
        "        # retun logits\n",
        "        return out"
      ],
      "metadata": {
        "id": "Pma8RLNsSZ3H"
      },
      "execution_count": null,
      "outputs": []
    },
    {
      "cell_type": "markdown",
      "source": [
        "### Defining a class to perform experiments\n",
        "\n",
        "The `Experiments` class (implemented in all previous Assignments) encapsulates the training, evaluation and score reporting methods of a specific model."
      ],
      "metadata": {
        "id": "fgnsZjZwG9XY"
      }
    },
    {
      "cell_type": "code",
      "source": [
        "from sklearn.metrics import f1_score, precision_score, recall_score\n",
        "from sklearn.metrics import classification_report\n",
        "import scikitplot as skplt\n",
        "import torch.nn.functional as F\n",
        "import matplotlib.pyplot as plt\n",
        "\n",
        "class Experiments():\n",
        "  def __init__(self, model, epochs, criterion, optimizer, train_data, test_data):\n",
        "    # bert model\n",
        "    self.model = model\n",
        "    # train parameters\n",
        "    self.epochs = epochs\n",
        "    self.criterion = criterion\n",
        "    self.optimizer = optimizer\n",
        "    # datasets\n",
        "    self.train_dataset = train_data\n",
        "    self.test_dataset = test_data\n",
        "    # create dataloaders to process datasets in batches\n",
        "    self.train_dataloader = train_data.get_DataLoader(sampler='RandomSampler')\n",
        "    self.test_dataloader = test_data.get_DataLoader(sampler='SequentialSampler')\n",
        "    # stats\n",
        "    self.train_scores = {'loss':[], 'accuracy':[], 'predicted_labels':[]}\n",
        "    self.val_scores = {'loss':[], 'accuracy':[], 'predicted_labels':[]}\n",
        "\n",
        "  def get_pred_labels(self, out):\n",
        "    # apply softmax before obtaining results\n",
        "    soft_pred = torch.log_softmax(out, dim=1)\n",
        "    # get prediction labels\n",
        "    _, pred = torch.max(soft_pred, dim=1)\n",
        "    return pred\n",
        "  \n",
        "  def compute_accuracy(self, labels, pred):\n",
        "    correct = (pred == labels).float()\n",
        "    accuracy = correct.sum() / len(correct)\n",
        "    return accuracy\n",
        "  \n",
        "  def compute_scores(self, accuracy, loss, n, pred, contrainer):\n",
        "    contrainer['accuracy'].append(accuracy/n)\n",
        "    contrainer['loss'].append(loss/n)\n",
        "    contrainer['predicted_labels'].append(np.concatenate(pred).ravel().tolist())\n",
        "\n",
        "  def get_train_scores(self):\n",
        "    return self.train_scores\n",
        "  \n",
        "  def get_validation_scores(self):\n",
        "    return self.val_scores\n",
        "  \n",
        "  def epoch_report(self, epoch, labels):\n",
        "      print('====')\n",
        "      print('Classification report on validation set')\n",
        "      print('====')\n",
        "      print(classification_report(labels, self.val_scores['predicted_labels'][epoch-1]))\n",
        "\n",
        "  def plot_roc_curves(self):\n",
        "    pred = []\n",
        "    # perform a final evaluation loop to get the prediction logits\n",
        "    for _, (ids, att_mask, _) in enumerate(self.test_dataloader):\n",
        "      ids = ids.to(device)\n",
        "      att_mask = att_mask.to(device)\n",
        "      # get predictions\n",
        "      with torch.no_grad():\n",
        "        out = self.model.forward(ids, att_mask)\n",
        "      pred.append(out)\n",
        "    pred = torch.cat(pred, dim=0)\n",
        "    # apply softmax\n",
        "    soft_pred = torch.log_softmax(pred, dim=1).cpu().numpy()\n",
        "    # output the roc curve given the test labels and predicted logits\n",
        "    skplt.metrics.plot_roc(self.test_dataset.labels, soft_pred)\n",
        "\n",
        "  def plot_loss_curves(self):\n",
        "    plt.figure(figsize=(10,10))\n",
        "    plt.title(\"Training / Validation Loss Curves\")\n",
        "    plt.plot(self.train_scores['loss'],'-b')\n",
        "    plt.plot(self.val_scores['loss'],'-g')\n",
        "    plt.xlabel(\"epochs\")\n",
        "    plt.ylabel(\"loss\")\n",
        "    plt.legend(('Training','Validation'), loc='upper right', fontsize='x-large')\n",
        "    plt.show()\n",
        "\n",
        "  def run(self):\n",
        "    # iterate for each epoch\n",
        "    for epoch in range(self.epochs):\n",
        "      # train mode\n",
        "      self.model.train()\n",
        "      train_loss = 0\n",
        "      train_pred = []\n",
        "      train_accuracy = 0\n",
        "      # train per batches\n",
        "      for idx, (ids, att_mask, y) in enumerate(self.train_dataloader):\n",
        "        ids = ids.to(device)\n",
        "        att_mask = att_mask.to(device)\n",
        "        y = y.to(device)\n",
        "        # forward pass\n",
        "        out = self.model.forward(ids, att_mask)\n",
        "        loss = self.criterion(out, y)\n",
        "        # backward pass and update\n",
        "        self.optimizer.zero_grad()\n",
        "        loss.backward(retain_graph=True)\n",
        "        self.optimizer.step()\n",
        "        # stats\n",
        "        batch_pred = self.get_pred_labels(out)\n",
        "        train_accuracy += self.compute_accuracy(y, batch_pred)\n",
        "        train_loss += loss.item()\n",
        "        train_pred.append(batch_pred.cpu().numpy())\n",
        "      # compute final stats\n",
        "      self.compute_scores(train_accuracy, train_loss, len(self.train_dataloader), train_pred, self.train_scores)\n",
        "\n",
        "      # predict on validation set\n",
        "      with torch.no_grad():\n",
        "        # evaluation mode\n",
        "        self.model.eval()\n",
        "        val_loss = 0\n",
        "        val_pred = []\n",
        "        val_accuracy = 0\n",
        "        # evaluate per batches\n",
        "        for idx, (ids_val, att_mask_val, y_val) in enumerate(self.test_dataloader):\n",
        "          ids_val = ids_val.to(device)\n",
        "          att_mask_val = att_mask_val.to(device)\n",
        "          y_val = y_val.to(device)\n",
        "          # get predictions\n",
        "          out = self.model.forward(ids_val, att_mask_val)\n",
        "          loss = self.criterion(out, y_val)\n",
        "          # stats\n",
        "          batch_pred = self.get_pred_labels(out)\n",
        "          val_accuracy += self.compute_accuracy(y_val, batch_pred)\n",
        "          val_loss += loss.item()\n",
        "          val_pred.append(batch_pred.cpu().numpy())\n",
        "        # compute final stats\n",
        "        self.compute_scores(val_accuracy, val_loss, len(self.test_dataloader), val_pred, self.val_scores)\n",
        "\n",
        "        # verbose\n",
        "        print('Epoch: {}. Train Loss: {}. Val Loss: {}. Train Accuracy: {}. Val Accuracy: {}.'.format(epoch+1, (train_loss/len(self.train_dataloader)), (val_loss/len(self.test_dataloader)), (train_accuracy/len(self.train_dataloader)), (val_accuracy/len(self.test_dataloader))))"
      ],
      "metadata": {
        "id": "p4AmILaaSbjs"
      },
      "execution_count": null,
      "outputs": []
    },
    {
      "cell_type": "markdown",
      "source": [
        "### Experiments"
      ],
      "metadata": {
        "id": "fPt-soawKIls"
      }
    },
    {
      "cell_type": "code",
      "source": [
        "# Define Classifiers parameters\n",
        "input_dim = 768\n",
        "output_dim = 3\n",
        "hidden_dim = 50"
      ],
      "metadata": {
        "id": "p38QWuv1vnDt"
      },
      "execution_count": null,
      "outputs": []
    },
    {
      "cell_type": "markdown",
      "source": [
        "#### Grid Search\n",
        "\n",
        "In this section, a Grid Search algorithm was performed to determine the \"best\" parameters.\n",
        "\n",
        "To that extent, the parameters and the respective values examined are the following:\n",
        "\n",
        "\n",
        "*   Number of epochs: 2, 3, 4\n",
        "*   Dropout Probability: 0.3, 0.5, 0.7\n",
        "*   Learning Rate: 5e-5, 3e-5, 2e-5\n",
        "\n"
      ],
      "metadata": {
        "id": "TrmqaxrzKPZj"
      }
    },
    {
      "cell_type": "code",
      "source": [
        "\"\"\"\n",
        "from transformers import AdamW, get_linear_schedule_with_warmup\n",
        "from torch.optim import AdamW\n",
        "from sklearn.utils import class_weight\n",
        "import numpy as np\n",
        "\n",
        "n_epochs = [2, 3, 4]\n",
        "dropout_probs = [0.3, 0.5, 0.7]\n",
        "learning_rates = [5e-5, 3e-5, 2e-5]\n",
        "\n",
        "for epochs in n_epochs:\n",
        "  for dp in dropout_probs:\n",
        "    for lr in learning_rates:\n",
        "      model = BertClassifier(50, 3, dp)\n",
        "      model = model.to(device)\n",
        "\n",
        "      class_weights = class_weight.compute_class_weight(class_weight='balanced', classes=np.unique(df_train.label), y=df_train.label)\n",
        "      class_weights = torch.tensor(class_weights,dtype=torch.float)\n",
        "\n",
        "      criterion = nn.CrossEntropyLoss(weight=class_weights, reduction='mean')\n",
        "      criterion = criterion.to(device)\n",
        "\n",
        "      optimizer = AdamW(model.parameters(), lr=lr, eps=1e-8)\n",
        "\n",
        "      exp = Experiments(model, epochs, criterion, optimizer, train_data, test_data)\n",
        "      exp.run()\n",
        "      exp.epoch_report(epochs, test_data.labels, 'val')\n",
        "\"\"\""
      ],
      "metadata": {
        "colab": {
          "base_uri": "https://localhost:8080/",
          "height": 90
        },
        "id": "21iKae77b8Cg",
        "outputId": "9e39b65b-b0e5-4a79-80ff-608bb2a79d0f"
      },
      "execution_count": null,
      "outputs": [
        {
          "output_type": "execute_result",
          "data": {
            "text/plain": [
              "\"\\nfrom transformers import AdamW, get_linear_schedule_with_warmup\\nfrom torch.optim import AdamW\\nfrom sklearn.utils import class_weight\\nimport numpy as np\\n\\nn_epochs = [2, 3, 4]\\ndropout_probs = [0.3, 0.5, 0.7]\\nlearning_rates = [5e-5, 3e-5, 2e-5]\\n\\nfor epochs in n_epochs:\\n  for dp in dropout_probs:\\n    for lr in learning_rates:\\n      model = BertClassifier(50, 3, dp)\\n      model = model.to(device)\\n\\n      class_weights = class_weight.compute_class_weight(class_weight='balanced', classes=np.unique(df_train.label), y=df_train.label)\\n      class_weights = torch.tensor(class_weights,dtype=torch.float)\\n\\n      criterion = nn.CrossEntropyLoss(weight=class_weights, reduction='mean')\\n      criterion = criterion.to(device)\\n\\n      optimizer = AdamW(model.parameters(), lr=lr, eps=1e-8)\\n\\n      exp = Experiments(model, epochs, criterion, optimizer, train_data, test_data)\\n      exp.run()\\n      exp.epoch_report(epochs, test_data.labels, 'val')\\n\""
            ],
            "application/vnd.google.colaboratory.intrinsic+json": {
              "type": "string"
            }
          },
          "metadata": {},
          "execution_count": 21
        }
      ]
    },
    {
      "cell_type": "markdown",
      "source": [
        "#### Best Model\n",
        "\n",
        "The best model's parameters are the following:\n",
        "\n",
        "\n",
        "*   Number of epochs: 3\n",
        "*   Dropout Probability: 0.5\n",
        "*   Learning Rate: 3e-5\n"
      ],
      "metadata": {
        "id": "6-7AWZY3vcKT"
      }
    },
    {
      "cell_type": "code",
      "source": [
        "from transformers import AdamW, get_linear_schedule_with_warmup\n",
        "from torch.optim import AdamW\n",
        "from sklearn.utils import class_weight\n",
        "import numpy as np\n",
        "\n",
        "n_epochs = 3\n",
        "dropout = 0.5\n",
        "learning_rate = 3e-5\n",
        "\n",
        "\n",
        "model = BertClassifier(hidden_dim, output_dim, dropout)\n",
        "model = model.to(device)\n",
        "\n",
        "class_weights = class_weight.compute_class_weight(class_weight='balanced', classes=np.unique(df_train.label), y=df_train.label)\n",
        "class_weights = torch.tensor(class_weights,dtype=torch.float)\n",
        "\n",
        "criterion = nn.CrossEntropyLoss(weight=class_weights, reduction='mean')\n",
        "criterion = criterion.to(device)\n",
        "\n",
        "optimizer = AdamW(model.parameters(), lr=learning_rate, eps=1e-8)"
      ],
      "metadata": {
        "colab": {
          "base_uri": "https://localhost:8080/"
        },
        "id": "tFHtigu2ved5",
        "outputId": "b35b671e-cce7-4be8-f665-746c6b52b53a"
      },
      "execution_count": null,
      "outputs": [
        {
          "output_type": "stream",
          "name": "stderr",
          "text": [
            "Some weights of the model checkpoint at bert-base-uncased were not used when initializing BertModel: ['cls.seq_relationship.bias', 'cls.predictions.transform.dense.weight', 'cls.predictions.transform.LayerNorm.weight', 'cls.predictions.decoder.weight', 'cls.predictions.transform.LayerNorm.bias', 'cls.predictions.transform.dense.bias', 'cls.predictions.bias', 'cls.seq_relationship.weight']\n",
            "- This IS expected if you are initializing BertModel from the checkpoint of a model trained on another task or with another architecture (e.g. initializing a BertForSequenceClassification model from a BertForPreTraining model).\n",
            "- This IS NOT expected if you are initializing BertModel from the checkpoint of a model that you expect to be exactly identical (initializing a BertForSequenceClassification model from a BertForSequenceClassification model).\n"
          ]
        }
      ]
    },
    {
      "cell_type": "code",
      "source": [
        "exp = Experiments(model, n_epochs, criterion, optimizer, train_data, test_data)\n",
        "exp.run()"
      ],
      "metadata": {
        "colab": {
          "base_uri": "https://localhost:8080/"
        },
        "id": "X58Lp7xVwbum",
        "outputId": "889a0749-d612-485f-d508-fa87a073105b"
      },
      "execution_count": null,
      "outputs": [
        {
          "output_type": "stream",
          "name": "stdout",
          "text": [
            "Epoch: 0. Train Loss: 0.7903335786259568. Val Loss: 0.642061586354996. Train Accuracy: 0.6665415167808533. Val Accuracy: 0.7112762331962585.\n",
            "Epoch: 1. Train Loss: 0.5543822542325154. Val Loss: 0.5875113646050433. Train Accuracy: 0.7925425171852112. Val Accuracy: 0.7679196000099182.\n",
            "Epoch: 2. Train Loss: 0.3822241114327559. Val Loss: 0.7161607922582359. Train Accuracy: 0.8601101040840149. Val Accuracy: 0.7661713361740112.\n"
          ]
        }
      ]
    },
    {
      "cell_type": "code",
      "source": [
        "# Classification Results after running for 1 epoch\n",
        "exp.epoch_report(1, test_data.labels)"
      ],
      "metadata": {
        "colab": {
          "base_uri": "https://localhost:8080/"
        },
        "id": "mI9OsIuT7S-2",
        "outputId": "7a11ce74-d5d5-40da-8700-6e5c2ec675a3"
      },
      "execution_count": null,
      "outputs": [
        {
          "output_type": "stream",
          "name": "stdout",
          "text": [
            "====\n",
            "Classification report on validation set\n",
            "====\n",
            "              precision    recall  f1-score   support\n",
            "\n",
            "           0       0.87      0.73      0.80      1065\n",
            "           1       0.39      0.82      0.53       296\n",
            "           2       0.78      0.65      0.71       921\n",
            "\n",
            "    accuracy                           0.71      2282\n",
            "   macro avg       0.68      0.73      0.68      2282\n",
            "weighted avg       0.77      0.71      0.73      2282\n",
            "\n"
          ]
        }
      ]
    },
    {
      "cell_type": "code",
      "source": [
        "# Classification Results after running for 2 epochs\n",
        "exp.epoch_report(2, test_data.labels)"
      ],
      "metadata": {
        "colab": {
          "base_uri": "https://localhost:8080/"
        },
        "id": "T2XuUCrQ7DuI",
        "outputId": "b8d8f036-98e2-409e-9581-1b80983816a7"
      },
      "execution_count": null,
      "outputs": [
        {
          "output_type": "stream",
          "name": "stdout",
          "text": [
            "====\n",
            "Classification report on validation set\n",
            "====\n",
            "              precision    recall  f1-score   support\n",
            "\n",
            "           0       0.89      0.75      0.81      1065\n",
            "           1       0.52      0.78      0.63       296\n",
            "           2       0.76      0.78      0.77       921\n",
            "\n",
            "    accuracy                           0.77      2282\n",
            "   macro avg       0.73      0.77      0.74      2282\n",
            "weighted avg       0.79      0.77      0.77      2282\n",
            "\n"
          ]
        }
      ]
    },
    {
      "cell_type": "code",
      "source": [
        "# Classification Results after running for 3 epochs\n",
        "exp.epoch_report(n_epochs, test_data.labels)"
      ],
      "metadata": {
        "colab": {
          "base_uri": "https://localhost:8080/"
        },
        "id": "2oyWHqadwXa6",
        "outputId": "568c090f-92c8-4756-c868-801f4b43c5dc"
      },
      "execution_count": null,
      "outputs": [
        {
          "output_type": "stream",
          "name": "stdout",
          "text": [
            "====\n",
            "Classification report on validation set\n",
            "====\n",
            "              precision    recall  f1-score   support\n",
            "\n",
            "           0       0.82      0.80      0.81      1065\n",
            "           1       0.61      0.64      0.63       296\n",
            "           2       0.75      0.77      0.76       921\n",
            "\n",
            "    accuracy                           0.77      2282\n",
            "   macro avg       0.73      0.74      0.73      2282\n",
            "weighted avg       0.77      0.77      0.77      2282\n",
            "\n"
          ]
        }
      ]
    },
    {
      "cell_type": "code",
      "source": [
        "# plor roc curves on validation set\n",
        "exp.plot_roc_curves()"
      ],
      "metadata": {
        "colab": {
          "base_uri": "https://localhost:8080/",
          "height": 295
        },
        "id": "3IttdKZPwdjf",
        "outputId": "c452a8ff-14ba-4625-cc03-d8824b9d2873"
      },
      "execution_count": null,
      "outputs": [
        {
          "output_type": "display_data",
          "data": {
            "text/plain": [
              "<Figure size 432x288 with 1 Axes>"
            ],
            "image/png": "[encoded data removed]"
          },
          "metadata": {
            "needs_background": "light"
          }
        }
      ]
    }
  ]
}
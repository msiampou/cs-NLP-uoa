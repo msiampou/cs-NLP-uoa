{
  "cells": [
    {
      "cell_type": "markdown",
      "source": [
        "## Preprocessing"
      ],
      "metadata": {
        "id": "1JkEnTE8mMdN"
      }
    },
    {
      "cell_type": "markdown",
      "source": [
        "#### Download Libraries"
      ],
      "metadata": {
        "id": "sW_gApNkmo5d"
      }
    },
    {
      "cell_type": "code",
      "execution_count": 1,
      "metadata": {
        "colab": {
          "base_uri": "https://localhost:8080/"
        },
        "id": "T3rLsX-pPPdW",
        "outputId": "f65e8081-1e5f-4101-b933-673bf22f305b"
      },
      "outputs": [
        {
          "output_type": "stream",
          "name": "stdout",
          "text": [
            "Mounted at /content/gdrive\n"
          ]
        }
      ],
      "source": [
        "from google.colab import drive\n",
        "drive.mount('/content/gdrive')"
      ]
    },
    {
      "cell_type": "code",
      "execution_count": 2,
      "metadata": {
        "colab": {
          "base_uri": "https://localhost:8080/"
        },
        "id": "iu0SqcoAPgIZ",
        "outputId": "31dea799-bf7b-47db-e2f5-695f821f4f33"
      },
      "outputs": [
        {
          "output_type": "stream",
          "name": "stdout",
          "text": [
            "[nltk_data] Downloading package stopwords to /root/nltk_data...\n",
            "[nltk_data]   Unzipping corpora/stopwords.zip.\n",
            "[nltk_data] Downloading package punkt to /root/nltk_data...\n",
            "[nltk_data]   Unzipping tokenizers/punkt.zip.\n"
          ]
        }
      ],
      "source": [
        "import nltk\n",
        "nltk.download('stopwords')\n",
        "\n",
        "import nltk\n",
        "nltk.download('punkt')\n",
        "\n",
        "from nltk.stem.porter import PorterStemmer\n",
        "from nltk.stem import WordNetLemmatizer\n",
        "from nltk.stem.snowball import SnowballStemmer"
      ]
    },
    {
      "cell_type": "code",
      "source": [
        "!pip install scikit-plot"
      ],
      "metadata": {
        "colab": {
          "base_uri": "https://localhost:8080/"
        },
        "id": "rYaVfVZhmAT8",
        "outputId": "d32cf74e-7142-4ce6-86c0-1f8cff9ecf0c"
      },
      "execution_count": 3,
      "outputs": [
        {
          "output_type": "stream",
          "name": "stdout",
          "text": [
            "Collecting scikit-plot\n",
            "  Downloading scikit_plot-0.3.7-py3-none-any.whl (33 kB)\n",
            "Requirement already satisfied: scikit-learn>=0.18 in /usr/local/lib/python3.7/dist-packages (from scikit-plot) (1.0.2)\n",
            "Requirement already satisfied: matplotlib>=1.4.0 in /usr/local/lib/python3.7/dist-packages (from scikit-plot) (3.2.2)\n",
            "Requirement already satisfied: joblib>=0.10 in /usr/local/lib/python3.7/dist-packages (from scikit-plot) (1.1.0)\n",
            "Requirement already satisfied: scipy>=0.9 in /usr/local/lib/python3.7/dist-packages (from scikit-plot) (1.4.1)\n",
            "Requirement already satisfied: kiwisolver>=1.0.1 in /usr/local/lib/python3.7/dist-packages (from matplotlib>=1.4.0->scikit-plot) (1.3.2)\n",
            "Requirement already satisfied: python-dateutil>=2.1 in /usr/local/lib/python3.7/dist-packages (from matplotlib>=1.4.0->scikit-plot) (2.8.2)\n",
            "Requirement already satisfied: cycler>=0.10 in /usr/local/lib/python3.7/dist-packages (from matplotlib>=1.4.0->scikit-plot) (0.11.0)\n",
            "Requirement already satisfied: pyparsing!=2.0.4,!=2.1.2,!=2.1.6,>=2.0.1 in /usr/local/lib/python3.7/dist-packages (from matplotlib>=1.4.0->scikit-plot) (3.0.7)\n",
            "Requirement already satisfied: numpy>=1.11 in /usr/local/lib/python3.7/dist-packages (from matplotlib>=1.4.0->scikit-plot) (1.21.5)\n",
            "Requirement already satisfied: six>=1.5 in /usr/local/lib/python3.7/dist-packages (from python-dateutil>=2.1->matplotlib>=1.4.0->scikit-plot) (1.15.0)\n",
            "Requirement already satisfied: threadpoolctl>=2.0.0 in /usr/local/lib/python3.7/dist-packages (from scikit-learn>=0.18->scikit-plot) (3.1.0)\n",
            "Installing collected packages: scikit-plot\n",
            "Successfully installed scikit-plot-0.3.7\n"
          ]
        }
      ]
    },
    {
      "cell_type": "code",
      "execution_count": 4,
      "metadata": {
        "colab": {
          "base_uri": "https://localhost:8080/"
        },
        "id": "7Hj4VsEPPniO",
        "outputId": "4628cda0-df08-4078-cf4d-b5706378f972"
      },
      "outputs": [
        {
          "output_type": "stream",
          "name": "stdout",
          "text": [
            "[nltk_data] Downloading package stopwords to /root/nltk_data...\n",
            "[nltk_data]   Package stopwords is already up-to-date!\n",
            "[nltk_data] Downloading package punkt to /root/nltk_data...\n",
            "[nltk_data]   Package punkt is already up-to-date!\n",
            "[nltk_data] Downloading package wordnet to /root/nltk_data...\n",
            "[nltk_data]   Unzipping corpora/wordnet.zip.\n"
          ]
        }
      ],
      "source": [
        "nltk.download('stopwords')\n",
        "nltk.download('punkt')\n",
        "nltk.download('wordnet')\n",
        "stemmerPorter = PorterStemmer()\n",
        "stemmerSnow = nltk.SnowballStemmer(language='english')\n",
        "lemmatizer = WordNetLemmatizer()"
      ]
    },
    {
      "cell_type": "code",
      "execution_count": 5,
      "metadata": {
        "id": "sBFNyLcvPsZX"
      },
      "outputs": [],
      "source": [
        "import numpy as np\n",
        "import matplotlib.pyplot as plt\n",
        "import statistics\n",
        "from scipy.interpolate import make_interp_spline, BSpline"
      ]
    },
    {
      "cell_type": "markdown",
      "metadata": {
        "id": "KPYiEUlMP5ld"
      },
      "source": [
        "#### Load and explore datasets"
      ]
    },
    {
      "cell_type": "code",
      "execution_count": 6,
      "metadata": {
        "id": "Mp8NPGHzP7Ri"
      },
      "outputs": [],
      "source": [
        "train_csv = '/content/gdrive/My Drive/datasets/vaccine_train_set.csv'\n",
        "\n",
        "test_csv = '/content/gdrive/My Drive/datasets/vaccine_validation_set.csv'"
      ]
    },
    {
      "cell_type": "code",
      "execution_count": 7,
      "metadata": {
        "colab": {
          "base_uri": "https://localhost:8080/",
          "height": 206
        },
        "id": "QJ2buUdgP-JL",
        "outputId": "d759dd9e-8832-484c-f959-35cda35be73a"
      },
      "outputs": [
        {
          "output_type": "execute_result",
          "data": {
            "text/plain": [
              "                                               tweet  label\n",
              "0  Sip N Shop Come thru right now #Marjais #Popul...      0\n",
              "1  I don't know about you but My family and I wil...      1\n",
              "2  @MSignorile Immunizations should be mandatory....      2\n",
              "3  President Obama spoke in favor of vaccination ...      0\n",
              "4  \"@myfoxla: Arizona monitoring hundreds for mea...      0"
            ],
            "text/html": [
              "\n",
              "  <div id=\"df-565b6c9b-eb86-4e55-86a1-bccd730fc3a0\">\n",
              "    <div class=\"colab-df-container\">\n",
              "      <div>\n",
              "<style scoped>\n",
              "    .dataframe tbody tr th:only-of-type {\n",
              "        vertical-align: middle;\n",
              "    }\n",
              "\n",
              "    .dataframe tbody tr th {\n",
              "        vertical-align: top;\n",
              "    }\n",
              "\n",
              "    .dataframe thead th {\n",
              "        text-align: right;\n",
              "    }\n",
              "</style>\n",
              "<table border=\"1\" class=\"dataframe\">\n",
              "  <thead>\n",
              "    <tr style=\"text-align: right;\">\n",
              "      <th></th>\n",
              "      <th>tweet</th>\n",
              "      <th>label</th>\n",
              "    </tr>\n",
              "  </thead>\n",
              "  <tbody>\n",
              "    <tr>\n",
              "      <th>0</th>\n",
              "      <td>Sip N Shop Come thru right now #Marjais #Popul...</td>\n",
              "      <td>0</td>\n",
              "    </tr>\n",
              "    <tr>\n",
              "      <th>1</th>\n",
              "      <td>I don't know about you but My family and I wil...</td>\n",
              "      <td>1</td>\n",
              "    </tr>\n",
              "    <tr>\n",
              "      <th>2</th>\n",
              "      <td>@MSignorile Immunizations should be mandatory....</td>\n",
              "      <td>2</td>\n",
              "    </tr>\n",
              "    <tr>\n",
              "      <th>3</th>\n",
              "      <td>President Obama spoke in favor of vaccination ...</td>\n",
              "      <td>0</td>\n",
              "    </tr>\n",
              "    <tr>\n",
              "      <th>4</th>\n",
              "      <td>\"@myfoxla: Arizona monitoring hundreds for mea...</td>\n",
              "      <td>0</td>\n",
              "    </tr>\n",
              "  </tbody>\n",
              "</table>\n",
              "</div>\n",
              "      <button class=\"colab-df-convert\" onclick=\"convertToInteractive('df-565b6c9b-eb86-4e55-86a1-bccd730fc3a0')\"\n",
              "              title=\"Convert this dataframe to an interactive table.\"\n",
              "              style=\"display:none;\">\n",
              "        \n",
              "  <svg xmlns=\"http://www.w3.org/2000/svg\" height=\"24px\"viewBox=\"0 0 24 24\"\n",
              "       width=\"24px\">\n",
              "    <path d=\"M0 0h24v24H0V0z\" fill=\"none\"/>\n",
              "    <path d=\"M18.56 5.44l.94 2.06.94-2.06 2.06-.94-2.06-.94-.94-2.06-.94 2.06-2.06.94zm-11 1L8.5 8.5l.94-2.06 2.06-.94-2.06-.94L8.5 2.5l-.94 2.06-2.06.94zm10 10l.94 2.06.94-2.06 2.06-.94-2.06-.94-.94-2.06-.94 2.06-2.06.94z\"/><path d=\"M17.41 7.96l-1.37-1.37c-.4-.4-.92-.59-1.43-.59-.52 0-1.04.2-1.43.59L10.3 9.45l-7.72 7.72c-.78.78-.78 2.05 0 2.83L4 21.41c.39.39.9.59 1.41.59.51 0 1.02-.2 1.41-.59l7.78-7.78 2.81-2.81c.8-.78.8-2.07 0-2.86zM5.41 20L4 18.59l7.72-7.72 1.47 1.35L5.41 20z\"/>\n",
              "  </svg>\n",
              "      </button>\n",
              "      \n",
              "  <style>\n",
              "    .colab-df-container {\n",
              "      display:flex;\n",
              "      flex-wrap:wrap;\n",
              "      gap: 12px;\n",
              "    }\n",
              "\n",
              "    .colab-df-convert {\n",
              "      background-color: #E8F0FE;\n",
              "      border: none;\n",
              "      border-radius: 50%;\n",
              "      cursor: pointer;\n",
              "      display: none;\n",
              "      fill: #1967D2;\n",
              "      height: 32px;\n",
              "      padding: 0 0 0 0;\n",
              "      width: 32px;\n",
              "    }\n",
              "\n",
              "    .colab-df-convert:hover {\n",
              "      background-color: #E2EBFA;\n",
              "      box-shadow: 0px 1px 2px rgba(60, 64, 67, 0.3), 0px 1px 3px 1px rgba(60, 64, 67, 0.15);\n",
              "      fill: #174EA6;\n",
              "    }\n",
              "\n",
              "    [theme=dark] .colab-df-convert {\n",
              "      background-color: #3B4455;\n",
              "      fill: #D2E3FC;\n",
              "    }\n",
              "\n",
              "    [theme=dark] .colab-df-convert:hover {\n",
              "      background-color: #434B5C;\n",
              "      box-shadow: 0px 1px 3px 1px rgba(0, 0, 0, 0.15);\n",
              "      filter: drop-shadow(0px 1px 2px rgba(0, 0, 0, 0.3));\n",
              "      fill: #FFFFFF;\n",
              "    }\n",
              "  </style>\n",
              "\n",
              "      <script>\n",
              "        const buttonEl =\n",
              "          document.querySelector('#df-565b6c9b-eb86-4e55-86a1-bccd730fc3a0 button.colab-df-convert');\n",
              "        buttonEl.style.display =\n",
              "          google.colab.kernel.accessAllowed ? 'block' : 'none';\n",
              "\n",
              "        async function convertToInteractive(key) {\n",
              "          const element = document.querySelector('#df-565b6c9b-eb86-4e55-86a1-bccd730fc3a0');\n",
              "          const dataTable =\n",
              "            await google.colab.kernel.invokeFunction('convertToInteractive',\n",
              "                                                     [key], {});\n",
              "          if (!dataTable) return;\n",
              "\n",
              "          const docLinkHtml = 'Like what you see? Visit the ' +\n",
              "            '<a target=\"_blank\" href=https://colab.research.google.com/notebooks/data_table.ipynb>data table notebook</a>'\n",
              "            + ' to learn more about interactive tables.';\n",
              "          element.innerHTML = '';\n",
              "          dataTable['output_type'] = 'display_data';\n",
              "          await google.colab.output.renderOutput(dataTable, element);\n",
              "          const docLink = document.createElement('div');\n",
              "          docLink.innerHTML = docLinkHtml;\n",
              "          element.appendChild(docLink);\n",
              "        }\n",
              "      </script>\n",
              "    </div>\n",
              "  </div>\n",
              "  "
            ]
          },
          "metadata": {},
          "execution_count": 7
        }
      ],
      "source": [
        "import pandas as pd\n",
        "\n",
        "df_train = pd.read_csv(train_csv)\n",
        "df_train = df_train.drop(['Unnamed: 0'], axis=1)\n",
        "\n",
        "df_train.head()"
      ]
    },
    {
      "cell_type": "code",
      "execution_count": 8,
      "metadata": {
        "colab": {
          "base_uri": "https://localhost:8080/"
        },
        "id": "tJaJDiJ7QCjL",
        "outputId": "8164ed32-0a13-472e-8602-867ea84979fa"
      },
      "outputs": [
        {
          "output_type": "execute_result",
          "data": {
            "text/plain": [
              "(15976, 2)"
            ]
          },
          "metadata": {},
          "execution_count": 8
        }
      ],
      "source": [
        "df_train.shape"
      ]
    },
    {
      "cell_type": "code",
      "execution_count": 9,
      "metadata": {
        "colab": {
          "base_uri": "https://localhost:8080/",
          "height": 206
        },
        "id": "xoQylBhIQOFH",
        "outputId": "f0b0fba9-0adb-44d5-a02d-c4f406a2f303"
      },
      "outputs": [
        {
          "output_type": "execute_result",
          "data": {
            "text/plain": [
              "                                               tweet  label\n",
              "0  @user They had a massive surge in with covid d...      1\n",
              "1  Required vaccines for school: Parents and guar...      0\n",
              "2  “@KCStar: Two more Johnson County children hav...      0\n",
              "3  NV can do better. Which states are the best (a...      2\n",
              "4  Nothing like killing ourselves w/ our own fear...      2"
            ],
            "text/html": [
              "\n",
              "  <div id=\"df-2638776a-d346-4028-85d3-3a67302ad599\">\n",
              "    <div class=\"colab-df-container\">\n",
              "      <div>\n",
              "<style scoped>\n",
              "    .dataframe tbody tr th:only-of-type {\n",
              "        vertical-align: middle;\n",
              "    }\n",
              "\n",
              "    .dataframe tbody tr th {\n",
              "        vertical-align: top;\n",
              "    }\n",
              "\n",
              "    .dataframe thead th {\n",
              "        text-align: right;\n",
              "    }\n",
              "</style>\n",
              "<table border=\"1\" class=\"dataframe\">\n",
              "  <thead>\n",
              "    <tr style=\"text-align: right;\">\n",
              "      <th></th>\n",
              "      <th>tweet</th>\n",
              "      <th>label</th>\n",
              "    </tr>\n",
              "  </thead>\n",
              "  <tbody>\n",
              "    <tr>\n",
              "      <th>0</th>\n",
              "      <td>@user They had a massive surge in with covid d...</td>\n",
              "      <td>1</td>\n",
              "    </tr>\n",
              "    <tr>\n",
              "      <th>1</th>\n",
              "      <td>Required vaccines for school: Parents and guar...</td>\n",
              "      <td>0</td>\n",
              "    </tr>\n",
              "    <tr>\n",
              "      <th>2</th>\n",
              "      <td>“@KCStar: Two more Johnson County children hav...</td>\n",
              "      <td>0</td>\n",
              "    </tr>\n",
              "    <tr>\n",
              "      <th>3</th>\n",
              "      <td>NV can do better. Which states are the best (a...</td>\n",
              "      <td>2</td>\n",
              "    </tr>\n",
              "    <tr>\n",
              "      <th>4</th>\n",
              "      <td>Nothing like killing ourselves w/ our own fear...</td>\n",
              "      <td>2</td>\n",
              "    </tr>\n",
              "  </tbody>\n",
              "</table>\n",
              "</div>\n",
              "      <button class=\"colab-df-convert\" onclick=\"convertToInteractive('df-2638776a-d346-4028-85d3-3a67302ad599')\"\n",
              "              title=\"Convert this dataframe to an interactive table.\"\n",
              "              style=\"display:none;\">\n",
              "        \n",
              "  <svg xmlns=\"http://www.w3.org/2000/svg\" height=\"24px\"viewBox=\"0 0 24 24\"\n",
              "       width=\"24px\">\n",
              "    <path d=\"M0 0h24v24H0V0z\" fill=\"none\"/>\n",
              "    <path d=\"M18.56 5.44l.94 2.06.94-2.06 2.06-.94-2.06-.94-.94-2.06-.94 2.06-2.06.94zm-11 1L8.5 8.5l.94-2.06 2.06-.94-2.06-.94L8.5 2.5l-.94 2.06-2.06.94zm10 10l.94 2.06.94-2.06 2.06-.94-2.06-.94-.94-2.06-.94 2.06-2.06.94z\"/><path d=\"M17.41 7.96l-1.37-1.37c-.4-.4-.92-.59-1.43-.59-.52 0-1.04.2-1.43.59L10.3 9.45l-7.72 7.72c-.78.78-.78 2.05 0 2.83L4 21.41c.39.39.9.59 1.41.59.51 0 1.02-.2 1.41-.59l7.78-7.78 2.81-2.81c.8-.78.8-2.07 0-2.86zM5.41 20L4 18.59l7.72-7.72 1.47 1.35L5.41 20z\"/>\n",
              "  </svg>\n",
              "      </button>\n",
              "      \n",
              "  <style>\n",
              "    .colab-df-container {\n",
              "      display:flex;\n",
              "      flex-wrap:wrap;\n",
              "      gap: 12px;\n",
              "    }\n",
              "\n",
              "    .colab-df-convert {\n",
              "      background-color: #E8F0FE;\n",
              "      border: none;\n",
              "      border-radius: 50%;\n",
              "      cursor: pointer;\n",
              "      display: none;\n",
              "      fill: #1967D2;\n",
              "      height: 32px;\n",
              "      padding: 0 0 0 0;\n",
              "      width: 32px;\n",
              "    }\n",
              "\n",
              "    .colab-df-convert:hover {\n",
              "      background-color: #E2EBFA;\n",
              "      box-shadow: 0px 1px 2px rgba(60, 64, 67, 0.3), 0px 1px 3px 1px rgba(60, 64, 67, 0.15);\n",
              "      fill: #174EA6;\n",
              "    }\n",
              "\n",
              "    [theme=dark] .colab-df-convert {\n",
              "      background-color: #3B4455;\n",
              "      fill: #D2E3FC;\n",
              "    }\n",
              "\n",
              "    [theme=dark] .colab-df-convert:hover {\n",
              "      background-color: #434B5C;\n",
              "      box-shadow: 0px 1px 3px 1px rgba(0, 0, 0, 0.15);\n",
              "      filter: drop-shadow(0px 1px 2px rgba(0, 0, 0, 0.3));\n",
              "      fill: #FFFFFF;\n",
              "    }\n",
              "  </style>\n",
              "\n",
              "      <script>\n",
              "        const buttonEl =\n",
              "          document.querySelector('#df-2638776a-d346-4028-85d3-3a67302ad599 button.colab-df-convert');\n",
              "        buttonEl.style.display =\n",
              "          google.colab.kernel.accessAllowed ? 'block' : 'none';\n",
              "\n",
              "        async function convertToInteractive(key) {\n",
              "          const element = document.querySelector('#df-2638776a-d346-4028-85d3-3a67302ad599');\n",
              "          const dataTable =\n",
              "            await google.colab.kernel.invokeFunction('convertToInteractive',\n",
              "                                                     [key], {});\n",
              "          if (!dataTable) return;\n",
              "\n",
              "          const docLinkHtml = 'Like what you see? Visit the ' +\n",
              "            '<a target=\"_blank\" href=https://colab.research.google.com/notebooks/data_table.ipynb>data table notebook</a>'\n",
              "            + ' to learn more about interactive tables.';\n",
              "          element.innerHTML = '';\n",
              "          dataTable['output_type'] = 'display_data';\n",
              "          await google.colab.output.renderOutput(dataTable, element);\n",
              "          const docLink = document.createElement('div');\n",
              "          docLink.innerHTML = docLinkHtml;\n",
              "          element.appendChild(docLink);\n",
              "        }\n",
              "      </script>\n",
              "    </div>\n",
              "  </div>\n",
              "  "
            ]
          },
          "metadata": {},
          "execution_count": 9
        }
      ],
      "source": [
        "df_test = pd.read_csv(test_csv)\n",
        "df_test = df_test.drop(['Unnamed: 0'], axis=1)\n",
        "\n",
        "df_test.head()"
      ]
    },
    {
      "cell_type": "code",
      "execution_count": 10,
      "metadata": {
        "colab": {
          "base_uri": "https://localhost:8080/"
        },
        "id": "t4bnAV-MQvGW",
        "outputId": "5acca4e2-8727-47e5-e9a5-1d9f6b65b758"
      },
      "outputs": [
        {
          "output_type": "execute_result",
          "data": {
            "text/plain": [
              "(2282, 2)"
            ]
          },
          "metadata": {},
          "execution_count": 10
        }
      ],
      "source": [
        "df_test.shape"
      ]
    },
    {
      "cell_type": "markdown",
      "metadata": {
        "id": "yNRAWuUdRsWU"
      },
      "source": [
        "#### Data Cleaning"
      ]
    },
    {
      "cell_type": "code",
      "execution_count": 11,
      "metadata": {
        "id": "haijlTuFRcbr"
      },
      "outputs": [],
      "source": [
        "from nltk.corpus import stopwords\n",
        "import re\n",
        "from bs4 import BeautifulSoup\n",
        "from nltk.tokenize import word_tokenize as wt\n",
        "\n",
        "stopWords = set(stopwords.words('english'))"
      ]
    },
    {
      "cell_type": "code",
      "execution_count": 12,
      "metadata": {
        "id": "7w3R4TbYR1ee"
      },
      "outputs": [],
      "source": [
        "def stem(data):\n",
        "  f_data = []\n",
        "  for row in range(data.shape[0]):\n",
        "    merge = data.iloc[row, 0]\n",
        "    tokenized_text = wt(merge)\n",
        "    cleaned_text = []\n",
        "    for word in tokenized_text:\n",
        "      if word not in stopWords:\n",
        "        cleaned_text.append(stemmerSnow.stem(word))\n",
        "    final_text = ' '.join(cleaned_text)\n",
        "    f_data.append(final_text)\n",
        "  return data\n",
        "\n",
        "def data_cleaning(df):\n",
        "  df['tweet'] = df['tweet'].apply(lambda x : re.sub(r'http\\S+', ' ', x))\n",
        "  df['tweet'] = df['tweet'].apply(lambda x : re.sub(r'https\\S+', ' ', x))\n",
        "  # df['cleaned_tweet'] = df['cleaned_tweet'].apply(lambda x : re.sub(r'@\\S+', ' ', x))\n",
        "  # df['cleaned_tweet'] = df['cleaned_tweet'].apply(lambda x : re.sub(r'#\\S+', ' ', x))\n",
        "  df['tweet'] = df['tweet'].str.lower()\n",
        "  # df['cleaned_tweet'] = df['cleaned_tweet'].str.encode('ascii', 'ignore').str.decode('ascii')\n",
        "  # df['cleaned_tweet'] = df['cleaned_tweet'].str.replace('[^\\w\\s@/:%.,_-]', ' ', flags=re.UNICODE)\n",
        "  df['tweet'] = df['tweet'].str.replace(r'[^\\w\\s]+', ' ', regex=True)\n",
        "  # df['cleaned_tweet'] = df['cleaned_tweet'].str.replace(r'<[^>]+>', ' ', regex=True)\n",
        "  # df['cleaned_tweet'] = df['cleaned_tweet'].apply(lambda x: re.sub(r\"@[A-Za-z0-9]+\", ' ', x))\n",
        "  df['tweet'] = df['tweet'].apply(lambda x: ' '.join([word for word in x.split() if word not in (stopWords)]))\n",
        "  # df['cleaned_tweet'] = df['cleaned_tweet'].str.replace(r'\\s+[a-zA-Z]\\s+', ' ', regex=True)\n",
        "  # df['cleaned_tweet'] = df['cleaned_tweet'].apply(lambda x : re.sub('<.*?>',' ', x))\n",
        "  # df['cleaned_tweet'] = df['cleaned_tweet'].str.replace(r'\\d+', ' ', regex=True)\n",
        "  # df['cleaned_tweet'] = df['cleaned_tweet'].str.replace(r'\\s+', ' ', regex=True)\n",
        "  stem(df)"
      ]
    },
    {
      "cell_type": "code",
      "execution_count": 13,
      "metadata": {
        "id": "P23IrEo-R4eb"
      },
      "outputs": [],
      "source": [
        "data_cleaning(df_train)\n",
        "data_cleaning(df_test)"
      ]
    },
    {
      "cell_type": "code",
      "execution_count": 14,
      "metadata": {
        "colab": {
          "base_uri": "https://localhost:8080/",
          "height": 206
        },
        "id": "qQwI9QNOIx9P",
        "outputId": "ff3e9b51-f42b-4063-f9a7-86f546451422"
      },
      "outputs": [
        {
          "output_type": "execute_result",
          "data": {
            "text/plain": [
              "                                               tweet  label\n",
              "0  sip n shop come thru right marjais popularnobo...      0\n",
              "1      know family take covid19 vaccine anytime soon      1\n",
              "2  msignorile immunizations mandatory period okla...      2\n",
              "3  president obama spoke favor vaccination childr...      0\n",
              "4  myfoxla arizona monitoring hundreds measles li...      0"
            ],
            "text/html": [
              "\n",
              "  <div id=\"df-46228929-51df-493f-a2de-232b822d30fe\">\n",
              "    <div class=\"colab-df-container\">\n",
              "      <div>\n",
              "<style scoped>\n",
              "    .dataframe tbody tr th:only-of-type {\n",
              "        vertical-align: middle;\n",
              "    }\n",
              "\n",
              "    .dataframe tbody tr th {\n",
              "        vertical-align: top;\n",
              "    }\n",
              "\n",
              "    .dataframe thead th {\n",
              "        text-align: right;\n",
              "    }\n",
              "</style>\n",
              "<table border=\"1\" class=\"dataframe\">\n",
              "  <thead>\n",
              "    <tr style=\"text-align: right;\">\n",
              "      <th></th>\n",
              "      <th>tweet</th>\n",
              "      <th>label</th>\n",
              "    </tr>\n",
              "  </thead>\n",
              "  <tbody>\n",
              "    <tr>\n",
              "      <th>0</th>\n",
              "      <td>sip n shop come thru right marjais popularnobo...</td>\n",
              "      <td>0</td>\n",
              "    </tr>\n",
              "    <tr>\n",
              "      <th>1</th>\n",
              "      <td>know family take covid19 vaccine anytime soon</td>\n",
              "      <td>1</td>\n",
              "    </tr>\n",
              "    <tr>\n",
              "      <th>2</th>\n",
              "      <td>msignorile immunizations mandatory period okla...</td>\n",
              "      <td>2</td>\n",
              "    </tr>\n",
              "    <tr>\n",
              "      <th>3</th>\n",
              "      <td>president obama spoke favor vaccination childr...</td>\n",
              "      <td>0</td>\n",
              "    </tr>\n",
              "    <tr>\n",
              "      <th>4</th>\n",
              "      <td>myfoxla arizona monitoring hundreds measles li...</td>\n",
              "      <td>0</td>\n",
              "    </tr>\n",
              "  </tbody>\n",
              "</table>\n",
              "</div>\n",
              "      <button class=\"colab-df-convert\" onclick=\"convertToInteractive('df-46228929-51df-493f-a2de-232b822d30fe')\"\n",
              "              title=\"Convert this dataframe to an interactive table.\"\n",
              "              style=\"display:none;\">\n",
              "        \n",
              "  <svg xmlns=\"http://www.w3.org/2000/svg\" height=\"24px\"viewBox=\"0 0 24 24\"\n",
              "       width=\"24px\">\n",
              "    <path d=\"M0 0h24v24H0V0z\" fill=\"none\"/>\n",
              "    <path d=\"M18.56 5.44l.94 2.06.94-2.06 2.06-.94-2.06-.94-.94-2.06-.94 2.06-2.06.94zm-11 1L8.5 8.5l.94-2.06 2.06-.94-2.06-.94L8.5 2.5l-.94 2.06-2.06.94zm10 10l.94 2.06.94-2.06 2.06-.94-2.06-.94-.94-2.06-.94 2.06-2.06.94z\"/><path d=\"M17.41 7.96l-1.37-1.37c-.4-.4-.92-.59-1.43-.59-.52 0-1.04.2-1.43.59L10.3 9.45l-7.72 7.72c-.78.78-.78 2.05 0 2.83L4 21.41c.39.39.9.59 1.41.59.51 0 1.02-.2 1.41-.59l7.78-7.78 2.81-2.81c.8-.78.8-2.07 0-2.86zM5.41 20L4 18.59l7.72-7.72 1.47 1.35L5.41 20z\"/>\n",
              "  </svg>\n",
              "      </button>\n",
              "      \n",
              "  <style>\n",
              "    .colab-df-container {\n",
              "      display:flex;\n",
              "      flex-wrap:wrap;\n",
              "      gap: 12px;\n",
              "    }\n",
              "\n",
              "    .colab-df-convert {\n",
              "      background-color: #E8F0FE;\n",
              "      border: none;\n",
              "      border-radius: 50%;\n",
              "      cursor: pointer;\n",
              "      display: none;\n",
              "      fill: #1967D2;\n",
              "      height: 32px;\n",
              "      padding: 0 0 0 0;\n",
              "      width: 32px;\n",
              "    }\n",
              "\n",
              "    .colab-df-convert:hover {\n",
              "      background-color: #E2EBFA;\n",
              "      box-shadow: 0px 1px 2px rgba(60, 64, 67, 0.3), 0px 1px 3px 1px rgba(60, 64, 67, 0.15);\n",
              "      fill: #174EA6;\n",
              "    }\n",
              "\n",
              "    [theme=dark] .colab-df-convert {\n",
              "      background-color: #3B4455;\n",
              "      fill: #D2E3FC;\n",
              "    }\n",
              "\n",
              "    [theme=dark] .colab-df-convert:hover {\n",
              "      background-color: #434B5C;\n",
              "      box-shadow: 0px 1px 3px 1px rgba(0, 0, 0, 0.15);\n",
              "      filter: drop-shadow(0px 1px 2px rgba(0, 0, 0, 0.3));\n",
              "      fill: #FFFFFF;\n",
              "    }\n",
              "  </style>\n",
              "\n",
              "      <script>\n",
              "        const buttonEl =\n",
              "          document.querySelector('#df-46228929-51df-493f-a2de-232b822d30fe button.colab-df-convert');\n",
              "        buttonEl.style.display =\n",
              "          google.colab.kernel.accessAllowed ? 'block' : 'none';\n",
              "\n",
              "        async function convertToInteractive(key) {\n",
              "          const element = document.querySelector('#df-46228929-51df-493f-a2de-232b822d30fe');\n",
              "          const dataTable =\n",
              "            await google.colab.kernel.invokeFunction('convertToInteractive',\n",
              "                                                     [key], {});\n",
              "          if (!dataTable) return;\n",
              "\n",
              "          const docLinkHtml = 'Like what you see? Visit the ' +\n",
              "            '<a target=\"_blank\" href=https://colab.research.google.com/notebooks/data_table.ipynb>data table notebook</a>'\n",
              "            + ' to learn more about interactive tables.';\n",
              "          element.innerHTML = '';\n",
              "          dataTable['output_type'] = 'display_data';\n",
              "          await google.colab.output.renderOutput(dataTable, element);\n",
              "          const docLink = document.createElement('div');\n",
              "          docLink.innerHTML = docLinkHtml;\n",
              "          element.appendChild(docLink);\n",
              "        }\n",
              "      </script>\n",
              "    </div>\n",
              "  </div>\n",
              "  "
            ]
          },
          "metadata": {},
          "execution_count": 14
        }
      ],
      "source": [
        "df_train.head()"
      ]
    },
    {
      "cell_type": "code",
      "execution_count": 15,
      "metadata": {
        "colab": {
          "base_uri": "https://localhost:8080/",
          "height": 206
        },
        "id": "fahwzixzR8vc",
        "outputId": "e65763a5-125b-4a56-bc87-685a66e5311f"
      },
      "outputs": [
        {
          "output_type": "execute_result",
          "data": {
            "text/plain": [
              "                                               tweet  label\n",
              "0  user massive surge covid deaths immediately va...      1\n",
              "1  required vaccines school parents guardians chi...      0\n",
              "2  kcstar two johnson county children measles set...      0\n",
              "3       nv better states best worst vaccinating kids      2\n",
              "4  nothing like killing w fear mt alyssa_milano v...      2"
            ],
            "text/html": [
              "\n",
              "  <div id=\"df-deb3da3c-e06d-4de4-a9c5-0af71ccb9e60\">\n",
              "    <div class=\"colab-df-container\">\n",
              "      <div>\n",
              "<style scoped>\n",
              "    .dataframe tbody tr th:only-of-type {\n",
              "        vertical-align: middle;\n",
              "    }\n",
              "\n",
              "    .dataframe tbody tr th {\n",
              "        vertical-align: top;\n",
              "    }\n",
              "\n",
              "    .dataframe thead th {\n",
              "        text-align: right;\n",
              "    }\n",
              "</style>\n",
              "<table border=\"1\" class=\"dataframe\">\n",
              "  <thead>\n",
              "    <tr style=\"text-align: right;\">\n",
              "      <th></th>\n",
              "      <th>tweet</th>\n",
              "      <th>label</th>\n",
              "    </tr>\n",
              "  </thead>\n",
              "  <tbody>\n",
              "    <tr>\n",
              "      <th>0</th>\n",
              "      <td>user massive surge covid deaths immediately va...</td>\n",
              "      <td>1</td>\n",
              "    </tr>\n",
              "    <tr>\n",
              "      <th>1</th>\n",
              "      <td>required vaccines school parents guardians chi...</td>\n",
              "      <td>0</td>\n",
              "    </tr>\n",
              "    <tr>\n",
              "      <th>2</th>\n",
              "      <td>kcstar two johnson county children measles set...</td>\n",
              "      <td>0</td>\n",
              "    </tr>\n",
              "    <tr>\n",
              "      <th>3</th>\n",
              "      <td>nv better states best worst vaccinating kids</td>\n",
              "      <td>2</td>\n",
              "    </tr>\n",
              "    <tr>\n",
              "      <th>4</th>\n",
              "      <td>nothing like killing w fear mt alyssa_milano v...</td>\n",
              "      <td>2</td>\n",
              "    </tr>\n",
              "  </tbody>\n",
              "</table>\n",
              "</div>\n",
              "      <button class=\"colab-df-convert\" onclick=\"convertToInteractive('df-deb3da3c-e06d-4de4-a9c5-0af71ccb9e60')\"\n",
              "              title=\"Convert this dataframe to an interactive table.\"\n",
              "              style=\"display:none;\">\n",
              "        \n",
              "  <svg xmlns=\"http://www.w3.org/2000/svg\" height=\"24px\"viewBox=\"0 0 24 24\"\n",
              "       width=\"24px\">\n",
              "    <path d=\"M0 0h24v24H0V0z\" fill=\"none\"/>\n",
              "    <path d=\"M18.56 5.44l.94 2.06.94-2.06 2.06-.94-2.06-.94-.94-2.06-.94 2.06-2.06.94zm-11 1L8.5 8.5l.94-2.06 2.06-.94-2.06-.94L8.5 2.5l-.94 2.06-2.06.94zm10 10l.94 2.06.94-2.06 2.06-.94-2.06-.94-.94-2.06-.94 2.06-2.06.94z\"/><path d=\"M17.41 7.96l-1.37-1.37c-.4-.4-.92-.59-1.43-.59-.52 0-1.04.2-1.43.59L10.3 9.45l-7.72 7.72c-.78.78-.78 2.05 0 2.83L4 21.41c.39.39.9.59 1.41.59.51 0 1.02-.2 1.41-.59l7.78-7.78 2.81-2.81c.8-.78.8-2.07 0-2.86zM5.41 20L4 18.59l7.72-7.72 1.47 1.35L5.41 20z\"/>\n",
              "  </svg>\n",
              "      </button>\n",
              "      \n",
              "  <style>\n",
              "    .colab-df-container {\n",
              "      display:flex;\n",
              "      flex-wrap:wrap;\n",
              "      gap: 12px;\n",
              "    }\n",
              "\n",
              "    .colab-df-convert {\n",
              "      background-color: #E8F0FE;\n",
              "      border: none;\n",
              "      border-radius: 50%;\n",
              "      cursor: pointer;\n",
              "      display: none;\n",
              "      fill: #1967D2;\n",
              "      height: 32px;\n",
              "      padding: 0 0 0 0;\n",
              "      width: 32px;\n",
              "    }\n",
              "\n",
              "    .colab-df-convert:hover {\n",
              "      background-color: #E2EBFA;\n",
              "      box-shadow: 0px 1px 2px rgba(60, 64, 67, 0.3), 0px 1px 3px 1px rgba(60, 64, 67, 0.15);\n",
              "      fill: #174EA6;\n",
              "    }\n",
              "\n",
              "    [theme=dark] .colab-df-convert {\n",
              "      background-color: #3B4455;\n",
              "      fill: #D2E3FC;\n",
              "    }\n",
              "\n",
              "    [theme=dark] .colab-df-convert:hover {\n",
              "      background-color: #434B5C;\n",
              "      box-shadow: 0px 1px 3px 1px rgba(0, 0, 0, 0.15);\n",
              "      filter: drop-shadow(0px 1px 2px rgba(0, 0, 0, 0.3));\n",
              "      fill: #FFFFFF;\n",
              "    }\n",
              "  </style>\n",
              "\n",
              "      <script>\n",
              "        const buttonEl =\n",
              "          document.querySelector('#df-deb3da3c-e06d-4de4-a9c5-0af71ccb9e60 button.colab-df-convert');\n",
              "        buttonEl.style.display =\n",
              "          google.colab.kernel.accessAllowed ? 'block' : 'none';\n",
              "\n",
              "        async function convertToInteractive(key) {\n",
              "          const element = document.querySelector('#df-deb3da3c-e06d-4de4-a9c5-0af71ccb9e60');\n",
              "          const dataTable =\n",
              "            await google.colab.kernel.invokeFunction('convertToInteractive',\n",
              "                                                     [key], {});\n",
              "          if (!dataTable) return;\n",
              "\n",
              "          const docLinkHtml = 'Like what you see? Visit the ' +\n",
              "            '<a target=\"_blank\" href=https://colab.research.google.com/notebooks/data_table.ipynb>data table notebook</a>'\n",
              "            + ' to learn more about interactive tables.';\n",
              "          element.innerHTML = '';\n",
              "          dataTable['output_type'] = 'display_data';\n",
              "          await google.colab.output.renderOutput(dataTable, element);\n",
              "          const docLink = document.createElement('div');\n",
              "          docLink.innerHTML = docLinkHtml;\n",
              "          element.appendChild(docLink);\n",
              "        }\n",
              "      </script>\n",
              "    </div>\n",
              "  </div>\n",
              "  "
            ]
          },
          "metadata": {},
          "execution_count": 15
        }
      ],
      "source": [
        "df_test.head()"
      ]
    },
    {
      "cell_type": "markdown",
      "source": [
        "#### Store new datasets"
      ],
      "metadata": {
        "id": "yw0ASDRNm6Lm"
      }
    },
    {
      "cell_type": "code",
      "execution_count": 16,
      "metadata": {
        "id": "Jm-DlUgMgEN4"
      },
      "outputs": [],
      "source": [
        "df_train.to_csv('cleaned_train.csv', index=False)\n",
        "df_test.to_csv('cleaned_test.csv', index=False)"
      ]
    },
    {
      "cell_type": "markdown",
      "metadata": {
        "id": "TB_r3x5nSNlK"
      },
      "source": [
        "## Glove Embeddings"
      ]
    },
    {
      "cell_type": "code",
      "execution_count": 17,
      "metadata": {
        "colab": {
          "base_uri": "https://localhost:8080/"
        },
        "id": "2a2FihtBSSP2",
        "outputId": "76bc81f1-dc25-4cab-bd12-520ef5f8d220"
      },
      "outputs": [
        {
          "output_type": "stream",
          "name": "stdout",
          "text": [
            "--2022-03-14 21:56:39--  https://nlp.stanford.edu/data/glove.6B.zip\n",
            "Resolving nlp.stanford.edu (nlp.stanford.edu)... 171.64.67.140\n",
            "Connecting to nlp.stanford.edu (nlp.stanford.edu)|171.64.67.140|:443... connected.\n",
            "HTTP request sent, awaiting response... 301 Moved Permanently\n",
            "Location: http://downloads.cs.stanford.edu/nlp/data/glove.6B.zip [following]\n",
            "--2022-03-14 21:56:39--  http://downloads.cs.stanford.edu/nlp/data/glove.6B.zip\n",
            "Resolving downloads.cs.stanford.edu (downloads.cs.stanford.edu)... 171.64.64.22\n",
            "Connecting to downloads.cs.stanford.edu (downloads.cs.stanford.edu)|171.64.64.22|:80... connected.\n",
            "HTTP request sent, awaiting response... 200 OK\n",
            "Length: 862182613 (822M) [application/zip]\n",
            "Saving to: ‘glove.6B.zip’\n",
            "\n",
            "glove.6B.zip        100%[===================>] 822.24M  5.17MB/s    in 2m 39s  \n",
            "\n",
            "2022-03-14 21:59:19 (5.16 MB/s) - ‘glove.6B.zip’ saved [862182613/862182613]\n",
            "\n",
            "Archive:  glove.6B.zip\n",
            "  inflating: glove.6B.50d.txt        \n",
            "  inflating: glove.6B.100d.txt       \n",
            "  inflating: glove.6B.200d.txt       \n",
            "  inflating: glove.6B.300d.txt       \n"
          ]
        }
      ],
      "source": [
        "!wget https://nlp.stanford.edu/data/glove.6B.zip\n",
        "!unzip glove.6B.zip"
      ]
    },
    {
      "cell_type": "code",
      "execution_count": 18,
      "metadata": {
        "colab": {
          "base_uri": "https://localhost:8080/"
        },
        "id": "nDIuYnnEpqUo",
        "outputId": "e0e9c3c2-825b-46c2-9716-1a6c41e93bc2"
      },
      "outputs": [
        {
          "output_type": "stream",
          "name": "stdout",
          "text": [
            "Train dataset shape: 15976\n",
            "Test dataset shape: 2282\n"
          ]
        }
      ],
      "source": [
        "from torchtext.legacy.data import Field, LabelField, Pipeline, TabularDataset\n",
        "import torch\n",
        "\n",
        "TEXT = Field(tokenize=\"spacy\", batch_first=True)\n",
        "LABEL = LabelField()\n",
        "\n",
        "train_data, test_data = TabularDataset.splits( \n",
        "    path=\"\", \n",
        "    train=\"cleaned_train.csv\", \n",
        "    test=\"cleaned_test.csv\",\n",
        "    format=\"csv\", \n",
        "    skip_header=True,\n",
        "    fields=[('tweet', TEXT), ('label', LABEL)])\n",
        "\n",
        "print(\"Train dataset shape:\", len(train_data))\n",
        "print(\"Test dataset shape:\", len(test_data))"
      ]
    },
    {
      "cell_type": "code",
      "execution_count": 19,
      "metadata": {
        "id": "Hdty39Lnglh4"
      },
      "outputs": [],
      "source": [
        "## please change when using other dataset\n",
        "GLOVE_DATASET = 'glove.6B.200d'\n",
        "D_EMB = 200"
      ]
    },
    {
      "cell_type": "code",
      "execution_count": 43,
      "metadata": {
        "colab": {
          "base_uri": "https://localhost:8080/"
        },
        "id": "s2uZ-DgjCQkz",
        "outputId": "9a3db7d6-6b6f-4bc5-ece3-6af63acc73ef"
      },
      "outputs": [
        {
          "output_type": "stream",
          "name": "stdout",
          "text": [
            "TEXT shape: 24529\n",
            "LABEL shape: 3\n"
          ]
        }
      ],
      "source": [
        "TEXT.build_vocab(train_data, vectors=GLOVE_DATASET)\n",
        "# LABEL.build_vocab(train_data)\n",
        "LABEL.build_vocab(train_data)\n",
        "for i in range (3):\n",
        "  LABEL.vocab.stoi[str(i)] = i\n",
        "\n",
        "print(\"TEXT shape:\", len(TEXT.vocab))\n",
        "print(\"LABEL shape:\", len(LABEL.vocab))"
      ]
    },
    {
      "cell_type": "code",
      "source": [
        "LABEL.vocab.stoi"
      ],
      "metadata": {
        "colab": {
          "base_uri": "https://localhost:8080/"
        },
        "id": "IjK8cJGvgFyg",
        "outputId": "37a389d6-26a9-442c-f1af-0a1a5dc56e5a"
      },
      "execution_count": 44,
      "outputs": [
        {
          "output_type": "execute_result",
          "data": {
            "text/plain": [
              "defaultdict(None, {'0': 0, '1': 1, '2': 2})"
            ]
          },
          "metadata": {},
          "execution_count": 44
        }
      ]
    },
    {
      "cell_type": "markdown",
      "source": [
        "## RNN Models"
      ],
      "metadata": {
        "id": "XnoloHPHnI2y"
      }
    },
    {
      "cell_type": "markdown",
      "metadata": {
        "id": "Gq1orUNMK5e1"
      },
      "source": [
        "#### Run on GPU "
      ]
    },
    {
      "cell_type": "code",
      "execution_count": 45,
      "metadata": {
        "colab": {
          "base_uri": "https://localhost:8080/"
        },
        "id": "BiR2udcbKjJj",
        "outputId": "c1a0620c-b3d5-4057-808a-503b589e2391"
      },
      "outputs": [
        {
          "output_type": "stream",
          "name": "stdout",
          "text": [
            "Device available for running: \n",
            "cpu\n"
          ]
        }
      ],
      "source": [
        "device = torch.device('cuda' if torch.cuda.is_available() else 'cpu')\n",
        "print('Device available for running: ')\n",
        "print(device)"
      ]
    },
    {
      "cell_type": "markdown",
      "metadata": {
        "id": "9mxSlElMSfeN"
      },
      "source": [
        "#### Load datasets in BuckerIterator"
      ]
    },
    {
      "cell_type": "code",
      "execution_count": 46,
      "metadata": {
        "colab": {
          "base_uri": "https://localhost:8080/"
        },
        "id": "KFlWLUuQLDaS",
        "outputId": "98e4fb78-6bb7-4e5a-cf24-2ed22e16425c"
      },
      "outputs": [
        {
          "output_type": "stream",
          "name": "stdout",
          "text": [
            "Batches of train dataset: 16\n",
            "Batches of test dataset: 3\n"
          ]
        }
      ],
      "source": [
        "from torchtext.legacy.data import BucketIterator\n",
        "\n",
        "BATCH_SIZE = 1024\n",
        "TRAIN_BATCH_SIZE = BATCH_SIZE\n",
        "TEST_BATCH_SIZE = BATCH_SIZE\n",
        "\n",
        "train_itr, test_itr = BucketIterator.splits (\n",
        "    (train_data, test_data), batch_sizes=(TRAIN_BATCH_SIZE, TEST_BATCH_SIZE),\n",
        "    sort_key=lambda x:len(x.tweet,), shuffle=True,\n",
        "    sort_within_batch=True, device=device)\n",
        "\n",
        "print(\"Batches of train dataset:\", len(train_itr))\n",
        "print(\"Batches of test dataset:\", len(test_itr))"
      ]
    },
    {
      "cell_type": "markdown",
      "source": [
        "#### Attention Mechanism"
      ],
      "metadata": {
        "id": "VuMCl7YxnOJp"
      }
    },
    {
      "cell_type": "code",
      "source": [
        "import torch.nn as nn\n",
        "import torch.nn.functional as F\n",
        "import math\n",
        "\n",
        "# Implements the attention mechanism from https://arxiv.org/abs/1703.03130.\n",
        "class Attention(nn.Module):\n",
        "  # Initialize the weights of the Attention Mechanism.\n",
        "  def __init__(self, rnn_dim, sequence_len, mean=0.0, std=0.05):\n",
        "    super(Attention, self).__init__()\n",
        "    self.Ws1 = nn.Parameter(torch.Tensor(BATCH_SIZE, rnn_dim))\n",
        "    self.Ws2 = nn.Parameter(torch.Tensor(sequence_len, BATCH_SIZE))\n",
        "    self.Ws1.data.normal_(mean, std)\n",
        "    self.Ws2.data.normal_(mean, std)\n",
        "  \n",
        "  # Takes the output of RNN and passes it through the attention mechanism\n",
        "  def forward(self, x):\n",
        "      attn_out = torch.matmul(self.Ws1, x.permute(0, 2, 1))\n",
        "      attn_out = torch.tanh(attn_out)\n",
        "      attn_out = torch.matmul(self.Ws2, attn_out)\n",
        "      attn_out = F.softmax(attn_out, dim=2)\n",
        "      attn_out = torch.bmm(attn_out, x)\n",
        "      return attn_out"
      ],
      "metadata": {
        "id": "mTAFc4-lK4PL"
      },
      "execution_count": 47,
      "outputs": []
    },
    {
      "cell_type": "markdown",
      "source": [
        "#### RNN implementation"
      ],
      "metadata": {
        "id": "kpK9YAWRnSbv"
      }
    },
    {
      "cell_type": "code",
      "execution_count": 48,
      "metadata": {
        "id": "knD3hzOMhI5Z"
      },
      "outputs": [],
      "source": [
        "import torch.nn as nn\n",
        "import torch.nn.functional as F\n",
        "import math\n",
        "\n",
        "# Implements two types of RNNs: Bi-LSTM & GRU.\n",
        "class RNN(nn.Module):\n",
        "    def __init__(self, input_dim, hidden_dim, output_dim, num_layers, sequence_len, dropout_prob, glove_embeddings):\n",
        "        super(RNN, self).__init__()\n",
        "        # embedding layer\n",
        "        self.glove_emb = torch.nn.Embedding(input_dim, sequence_len)\n",
        "        self.glove_emb.weight = torch.nn.Parameter(glove_embeddings, requires_grad=False)\n",
        "        # rnn hidden dimensions (128)\n",
        "        self.hidden_dim = hidden_dim\n",
        "        # number of stucked rnns\n",
        "        self.num_layers = num_layers\n",
        "        # output dimensions (3)\n",
        "        self.output_dim = output_dim\n",
        "        # length of sequence (DEMB: 200)\n",
        "        self.sequence_len = sequence_len\n",
        "        # initilize dropout\n",
        "        self.dropout = nn.Dropout(dropout_prob)\n",
        "\n",
        "class RNN_LSTM(RNN):\n",
        "  def __init__(self, input_dim, hidden_dim, output_dim, num_layers, sequence_len, dropout_prob, glove_embeddings, self_attention=True):\n",
        "    super(RNN_LSTM, self).__init__(input_dim, hidden_dim, output_dim, num_layers, sequence_len, dropout_prob, glove_embeddings)\n",
        "    # initialize LSTM\n",
        "    self.lstm = nn.LSTM(self.sequence_len, self.hidden_dim, self.num_layers, batch_first=True, bidirectional=True, dropout=dropout_prob)\n",
        "    # initialize linear layer\n",
        "    self.fc = nn.Linear(self.hidden_dim*2, self.output_dim)\n",
        "    # initialize attention layer\n",
        "    if self_attention:\n",
        "      self.attention_layer = Attention(self.hidden_dim*2, self.sequence_len)\n",
        "    else:\n",
        "      self.attention_layer = None\n",
        "\n",
        "  def forward(self, x):\n",
        "      # get input embedding\n",
        "      x = self.glove_emb(x)\n",
        "      # initilize hidden and cell states to zero tensors\n",
        "      h0 = torch.zeros(self.num_layers*2, x.size(0), self.hidden_dim).to(device)\n",
        "      c0 = torch.zeros(self.num_layers*2, x.size(0), self.hidden_dim).to(device)\n",
        "      # retrieve output features (h_t) from the last layer of the LSTM\n",
        "      out, _ = self.lstm(x, (h0.detach(), c0.detach()))\n",
        "      # pass output features through attention mechanism\n",
        "      if self.attention_layer != None:\n",
        "        out = self.attention_layer(out)\n",
        "      # get the last hidden state\n",
        "      out = out[:,-1,:]\n",
        "      # dropout layer\n",
        "      out = self.dropout(out)\n",
        "      # linear layer\n",
        "      out = self.fc(out)\n",
        "      # output tensor\n",
        "      return out\n",
        "\n",
        "class RNN_GRU(RNN):\n",
        "  def __init__(self, input_dim, hidden_dim, output_dim, num_layers, sequence_len, dropout_prob, glove_embeddings, self_attention=True):\n",
        "    super(RNN_GRU, self).__init__(input_dim, hidden_dim, output_dim, num_layers, sequence_len, dropout_prob, glove_embeddings)\n",
        "    # initialize GRU\n",
        "    self.gru = nn.GRU(self.sequence_len, self.hidden_dim, self.num_layers, batch_first=True, dropout=dropout_prob)\n",
        "    # initialize linear layer\n",
        "    self.fc = nn.Linear(self.hidden_dim, self.output_dim)\n",
        "    # initialize attention layer\n",
        "    if self_attention:\n",
        "      self.attention_layer = Attention(self.hidden_dim, self.sequence_len)\n",
        "    else:\n",
        "      self.attention_layer = None\n",
        "\n",
        "  def forward(self, x):\n",
        "      # get input embedding\n",
        "      x = self.glove_emb(x)\n",
        "      # initilize hidden and cell states to zero tensors\n",
        "      h0 = torch.zeros(self.num_layers, x.size(0), self.hidden_dim).to(device)\n",
        "      # retrieve output features (h_t) from the last layer of the GRU\n",
        "      out, _ = self.gru(x, h0.detach())\n",
        "      # pass output features through attention mechanism\n",
        "      if self.attention_layer != None:\n",
        "        out = self.attention_layer(out)\n",
        "      # get the last hidden state\n",
        "      out = out[:,-1,:]\n",
        "      # dropout layer\n",
        "      out = self.dropout(out)\n",
        "      # linear layer\n",
        "      out = self.fc(out)\n",
        "      # output tensor\n",
        "      return out"
      ]
    },
    {
      "cell_type": "markdown",
      "source": [
        "#### Experiment Class \n",
        "\n",
        "\n",
        "> performs RNN train and evaluation methods\n",
        "\n"
      ],
      "metadata": {
        "id": "tRQVr6ennZ3g"
      }
    },
    {
      "cell_type": "code",
      "execution_count": 49,
      "metadata": {
        "id": "fCMVv1vOCd4k"
      },
      "outputs": [],
      "source": [
        "from sklearn.metrics import f1_score, precision_score, recall_score\n",
        "from sklearn.metrics import classification_report\n",
        "import scikitplot as skplt\n",
        "import numpy as np\n",
        "\n",
        "class Experiments():\n",
        "  def __init__(self, model, epochs, criterion, optimizer, train_dataloader, test_dataloader, clip):\n",
        "    # feed forward neural network\n",
        "    self.nn = model\n",
        "    # train parameters\n",
        "    self.epochs = epochs\n",
        "    self.criterion = criterion\n",
        "    self.optimizer = optimizer\n",
        "    self.clip = clip\n",
        "    # datasets\n",
        "    self.train_dataloader = train_dataloader\n",
        "    self.test_dataloader = test_dataloader\n",
        "    # stats\n",
        "    self.train_scores = {'loss':[], 'accuracy':[], 'predicted_labels':[], 'actual_labels':[]}\n",
        "    self.val_scores = {'loss':[], 'accuracy':[], 'predicted_labels':[], 'actual_labels':[]}\n",
        "\n",
        "  def get_pred_labels(self, out):\n",
        "    # apply softmax before obtaining results\n",
        "    soft_pred = torch.log_softmax(out, dim=1)\n",
        "    # get prediction labels\n",
        "    _, pred = torch.max(out, dim=1)\n",
        "    return pred\n",
        "  \n",
        "  def compute_accuracy(self, labels, pred):\n",
        "    correct = (pred == labels).float()\n",
        "    accuracy = correct.sum() / len(correct)\n",
        "    return accuracy\n",
        "  \n",
        "  def compute_scores(self, accuracy, loss, n, pred, actual, contrainer):\n",
        "    contrainer['accuracy'].append(accuracy/n)\n",
        "    contrainer['loss'].append(loss/n)\n",
        "    contrainer['predicted_labels'].append(np.concatenate(pred).ravel().tolist())\n",
        "    contrainer['actual_labels'].append(np.concatenate(actual).ravel().tolist())\n",
        "\n",
        "  def get_train_scores(self):\n",
        "    return self.train_scores\n",
        "  \n",
        "  def get_validation_scores(self):\n",
        "    return self.val_scores\n",
        "  \n",
        "  def epoch_report(self, epoch, method = 'train'):\n",
        "    if method == 'train':\n",
        "      print('====')\n",
        "      print('Classification report for train set')\n",
        "      print('====')\n",
        "      print(classification_report(self.train_scores['actual_labels'][epoch-1], self.train_scores['predicted_labels'][epoch-1]))\n",
        "    else:\n",
        "      print('====')\n",
        "      print('Classification report for validation set')\n",
        "      print('====')\n",
        "      print(classification_report(self.val_scores['actual_labels'][epoch-1], self.val_scores['predicted_labels'][epoch-1]))\n",
        "\n",
        "  def plot_roc_curves(self, iter):\n",
        "    for X, y in iter:\n",
        "      X = X.to(device)\n",
        "      pred = self.nn.forward(X).cpu().detach().numpy()\n",
        "      skplt.metrics.plot_roc(y.cpu(), pred)\n",
        "  \n",
        "  def plot_loss_curves(self):\n",
        "    plt.figure(figsize=(10,10))\n",
        "    plt.title(\"Training / Validation Loss Curves\")\n",
        "    plt.plot(self.train_scores['loss'],'-b')\n",
        "    plt.plot(self.val_scores['loss'],'-g')\n",
        "    plt.xlabel(\"epochs\")\n",
        "    plt.ylabel(\"loss\")\n",
        "    plt.legend(('Training','Validation'), loc='upper right', fontsize='x-large')\n",
        "    plt.show()\n",
        "\n",
        "  def run(self):\n",
        "    # iterate for each epoch\n",
        "    for epoch in range(self.epochs):\n",
        "      # train mode\n",
        "      self.nn.train()\n",
        "      train_loss = 0\n",
        "      train_pred = []\n",
        "      train_actual = []\n",
        "      train_accuracy = 0\n",
        "      # train per batches\n",
        "      for item in self.train_dataloader:\n",
        "        X = item.tweet.to(device)\n",
        "        y = item.label.to(device)\n",
        "        # forward pass\n",
        "        out = self.nn.forward(X)\n",
        "        loss = self.criterion(out, y)\n",
        "        # backward pass and update\n",
        "        self.optimizer.zero_grad()\n",
        "        loss.backward(retain_graph=True)\n",
        "        if self.clip != 0:\n",
        "          torch.nn.utils.clip_grad_norm_(self.nn.parameters(), self.clip)\n",
        "        self.optimizer.step()\n",
        "        # stats\n",
        "        batch_pred = self.get_pred_labels(out)\n",
        "        train_accuracy += self.compute_accuracy(y, batch_pred)\n",
        "        train_loss += loss.item()\n",
        "        train_pred.append(batch_pred.cpu().numpy())\n",
        "        train_actual.append(y.cpu().numpy())\n",
        "      # compute final stats\n",
        "      self.compute_scores(train_accuracy, train_loss, len(self.train_dataloader), train_pred, train_actual, self.train_scores)\n",
        "\n",
        "      # evaluation mode\n",
        "      self.nn.eval()\n",
        "      # predict on validation set\n",
        "      with torch.no_grad():\n",
        "        val_loss = 0\n",
        "        val_pred = []\n",
        "        val_actual = []\n",
        "        val_accuracy = 0\n",
        "        # evaluate per batches\n",
        "        for item in self.test_dataloader:\n",
        "          X_val = item.tweet.to(device)\n",
        "          y_val = item.label.to(device)\n",
        "          # get predictions\n",
        "          out = self.nn.forward(X_val)\n",
        "          loss = self.criterion(out, y_val)\n",
        "          # stats\n",
        "          batch_pred = self.get_pred_labels(out)\n",
        "          val_accuracy += self.compute_accuracy(y_val, batch_pred)\n",
        "          val_loss += loss.item()\n",
        "          val_pred.append(batch_pred.cpu().numpy())\n",
        "          val_actual.append(y_val.cpu().numpy())\n",
        "        # compute final stats\n",
        "        self.compute_scores(val_accuracy, val_loss, len(self.test_dataloader), val_pred, val_actual, self.val_scores)\n",
        "      \n",
        "      print(\"Validation Epoch\" , epoch, \" | Train Loss:\", self.train_scores['loss'][epoch], \"Train Accuracy:\", self.train_scores['accuracy'][epoch].cpu().numpy(), \" | Validation Loss:\", self.val_scores['loss'][epoch], \"Validation Accuracy:\", self.val_scores['accuracy'][epoch].cpu().numpy())\n"
      ]
    },
    {
      "cell_type": "markdown",
      "source": [
        "## Experiments"
      ],
      "metadata": {
        "id": "AMg3gHTzezPq"
      }
    },
    {
      "cell_type": "markdown",
      "source": [
        "### Experiments on GRU"
      ],
      "metadata": {
        "id": "K5Gt3c2OoW7c"
      }
    },
    {
      "cell_type": "markdown",
      "source": [
        "#### Grid Search of parameters on GRU\n"
      ],
      "metadata": {
        "id": "YSZ7EUX7cpa5"
      }
    },
    {
      "cell_type": "code",
      "source": [
        "\"\"\"\n",
        "input_dim = len(TEXT.vocab)\n",
        "hidden_sizes = [128]\n",
        "output_size = 3\n",
        "\n",
        "glove_embeddings = TEXT.vocab.vectors\n",
        "sequence_len = D_EMB\n",
        "\n",
        "num_stacked = [2]\n",
        "dropout_prob = [0.5, 0.7, 0.8]\n",
        "clipping = [0.5, 1, 1.5, 5, 10]\n",
        "lrs = [1e-3, 2e-3, 1e-3, 2e-4]\n",
        "\n",
        "criterion = nn.CrossEntropyLoss()\n",
        "criterion = criterion.to(device)\n",
        "\n",
        "n_epochs = 8\n",
        "\n",
        "for hidden_size in hidden_sizes:\n",
        "  for n_stacked in num_stacked:\n",
        "    for drop_p in dropout_prob:\n",
        "      for clip in clipping:\n",
        "        for learning_rate in lrs:\n",
        "          rnn = RNN_GRU(input_dim, hidden_size, output_size, n_stacked, sequence_len, drop_p, TEXT.vocab.vectors, self_attention=False)\n",
        "          rnn = rnn.to(device)\n",
        "          optimizer = torch.optim.Adam(rnn.parameters(), lr=learning_rate)\n",
        "          \n",
        "          print(\"Case: hidden size:\", hidden_size, \"num stacked:\", n_stacked, \"dropout prob:\", drop_p, \"clipping:\", clip, \"learning rate:\", learning_rate)\n",
        "          print()\n",
        "\n",
        "          exp = Experiments(rnn, n_epochs, criterion, optimizer, train_itr, test_itr, clip)\n",
        "          exp.run()\n",
        "\n",
        "          print()\n",
        "          exp.plot_loss_curves()\n",
        "          print()\n",
        "          exp.epoch_report(8, 'val')\n",
        "          print()\n",
        "          print()\n",
        "\"\"\""
      ],
      "metadata": {
        "colab": {
          "base_uri": "https://localhost:8080/",
          "height": 109
        },
        "id": "j0NMYc4MgDMY",
        "outputId": "74c8a7d9-a27b-4967-ef60-42a61a308d66"
      },
      "execution_count": 26,
      "outputs": [
        {
          "output_type": "execute_result",
          "data": {
            "text/plain": [
              "'\\ninput_dim = len(TEXT.vocab)\\nhidden_sizes = [128]\\noutput_size = 3\\n\\nglove_embeddings = TEXT.vocab.vectors\\nsequence_len = D_EMB\\n\\nnum_stacked = [2]\\ndropout_prob = [0.5, 0.7, 0.8]\\nclipping = [0.5, 1, 1.5, 5, 10]\\nlrs = [1e-3, 2e-3, 1e-3, 2e-4]\\n\\ncriterion = nn.CrossEntropyLoss()\\ncriterion = criterion.to(device)\\n\\nn_epochs = 8\\n\\nfor hidden_size in hidden_sizes:\\n  for n_stacked in num_stacked:\\n    for drop_p in dropout_prob:\\n      for clip in clipping:\\n        for learning_rate in lrs:\\n          rnn = RNN_GRU(input_dim, hidden_size, output_size, n_stacked, sequence_len, drop_p, TEXT.vocab.vectors, self_attention=False)\\n          rnn = rnn.to(device)\\n          optimizer = torch.optim.Adam(rnn.parameters(), lr=learning_rate)\\n          \\n          print(\"Case: hidden size:\", hidden_size, \"num stacked:\", n_stacked, \"dropout prob:\", drop_p, \"clipping:\", clip, \"learning rate:\", learning_rate)\\n          print()\\n\\n          exp = Experiments(rnn, n_epochs, criterion, optimizer, train_itr, test_itr, clip)\\n          exp.run()\\n\\n          print()\\n          exp.plot_loss_curves()\\n          print()\\n          exp.epoch_report(8, \\'val\\')\\n          print()\\n          print()\\n'"
            ],
            "application/vnd.google.colaboratory.intrinsic+json": {
              "type": "string"
            }
          },
          "metadata": {},
          "execution_count": 26
        }
      ]
    },
    {
      "cell_type": "markdown",
      "source": [
        "#### Best GRU model\n",
        "\n",
        "\n",
        "\n",
        "*   Hidden size: 128\n",
        "*   Stacked RNNs: 2\n",
        "*   Dropout Pr: 0.7\n",
        "*   Clip: 0.5\n",
        "*   Learining Rate: 0.001"
      ],
      "metadata": {
        "id": "fCUTOgzqn8Qz"
      }
    },
    {
      "cell_type": "code",
      "source": [
        "input_dim = len(TEXT.vocab)\n",
        "hidden_size = 128\n",
        "output_size = 3\n",
        "\n",
        "glove_embeddings = TEXT.vocab.vectors\n",
        "sequence_len = D_EMB\n",
        "\n",
        "n_stacked = 2\n",
        "dropout_prob = 0.7\n",
        "clip = 0.5\n",
        "learning_rate = 0.001\n",
        "\n",
        "criterion = nn.CrossEntropyLoss()\n",
        "criterion = criterion.to(device)\n",
        "\n",
        "n_epochs = 8\n",
        "rnn_gru = RNN_GRU(input_dim, hidden_size, output_size, n_stacked, sequence_len, dropout_prob, TEXT.vocab.vectors, self_attention=False)\n",
        "rnn_gru = rnn_gru.to(device)\n",
        "optimizer = torch.optim.Adam(rnn_gru.parameters(), lr=learning_rate)\n",
        "\n",
        "exp_gru = Experiments(rnn_gru, n_epochs, criterion, optimizer, train_itr, test_itr, clip)\n",
        "exp_gru.run()\n",
        "\n",
        "print()\n",
        "exp_gru.plot_loss_curves()\n",
        "print()\n",
        "exp_gru.epoch_report(8, 'val')"
      ],
      "metadata": {
        "colab": {
          "base_uri": "https://localhost:8080/",
          "height": 1000
        },
        "id": "gcsv8gyPa0wl",
        "outputId": "3698123b-42c7-4e3e-f267-cd6bb0510fcc"
      },
      "execution_count": 50,
      "outputs": [
        {
          "output_type": "stream",
          "name": "stdout",
          "text": [
            "Validation Epoch 0  | Train Loss: 0.9978789277374744 Train Accuracy: 0.495982  | Validation Loss: 0.9985355138778687 Validation Accuracy: 0.5041344\n",
            "Validation Epoch 1  | Train Loss: 0.8979198336601257 Train Accuracy: 0.5956524  | Validation Loss: 0.9359548290570577 Validation Accuracy: 0.53583235\n",
            "Validation Epoch 2  | Train Loss: 0.8279296085238457 Train Accuracy: 0.63404506  | Validation Loss: 0.8966233531634012 Validation Accuracy: 0.5537777\n",
            "Validation Epoch 3  | Train Loss: 0.7873756848275661 Train Accuracy: 0.6512554  | Validation Loss: 0.818896472454071 Validation Accuracy: 0.63228667\n",
            "Validation Epoch 4  | Train Loss: 0.7689924240112305 Train Accuracy: 0.650565  | Validation Loss: 0.8112843632698059 Validation Accuracy: 0.64115924\n",
            "Validation Epoch 5  | Train Loss: 0.7418881841003895 Train Accuracy: 0.67003363  | Validation Loss: 0.7877723773320516 Validation Accuracy: 0.64372164\n",
            "Validation Epoch 6  | Train Loss: 0.7259220220148563 Train Accuracy: 0.68259025  | Validation Loss: 0.7619711955388387 Validation Accuracy: 0.6683833\n",
            "Validation Epoch 7  | Train Loss: 0.7198885753750801 Train Accuracy: 0.6840448  | Validation Loss: 0.7456494768460592 Validation Accuracy: 0.67933136\n",
            "\n"
          ]
        },
        {
          "output_type": "display_data",
          "data": {
            "text/plain": [
              "<Figure size 720x720 with 1 Axes>"
            ],
            "image/png": "[encoded data removed]"
          },
          "metadata": {
            "needs_background": "light"
          }
        },
        {
          "output_type": "stream",
          "name": "stdout",
          "text": [
            "\n",
            "====\n",
            "Classification report for validation set\n",
            "====\n",
            "              precision    recall  f1-score   support\n",
            "\n",
            "           0       0.82      0.74      0.78      1065\n",
            "           1       0.44      0.26      0.32       296\n",
            "           2       0.64      0.79      0.71       921\n",
            "\n",
            "    accuracy                           0.70      2282\n",
            "   macro avg       0.63      0.60      0.60      2282\n",
            "weighted avg       0.70      0.70      0.69      2282\n",
            "\n"
          ]
        }
      ]
    },
    {
      "cell_type": "code",
      "source": [
        "iterator = BucketIterator (dataset=test_data, batch_size=(2282), sort_key=lambda x:len(x.tweet,), shuffle=True, sort_within_batch=True, device=device)\n",
        "exp_gru.plot_roc_curves(iterator)"
      ],
      "metadata": {
        "colab": {
          "base_uri": "https://localhost:8080/",
          "height": 295
        },
        "id": "dr7qhNJ1aLOG",
        "outputId": "1bb3e291-4f3c-4364-f4f1-c1174ab3cdbd"
      },
      "execution_count": 51,
      "outputs": [
        {
          "output_type": "display_data",
          "data": {
            "text/plain": [
              "<Figure size 432x288 with 1 Axes>"
            ],
            "image/png": "[encoded data removed]"
          },
          "metadata": {
            "needs_background": "light"
          }
        }
      ]
    },
    {
      "cell_type": "markdown",
      "source": [
        "#### Best GRU model with Attention"
      ],
      "metadata": {
        "id": "7KdQ5D4C5_qX"
      }
    },
    {
      "cell_type": "code",
      "source": [
        "input_dim = len(TEXT.vocab)\n",
        "hidden_size = 128\n",
        "output_size = 3\n",
        "\n",
        "glove_embeddings = TEXT.vocab.vectors\n",
        "sequence_len = D_EMB\n",
        "\n",
        "n_stacked = 2\n",
        "dropout_prob = 0.7\n",
        "clip = 0.5\n",
        "learning_rate = 0.001\n",
        "\n",
        "criterion = nn.CrossEntropyLoss()\n",
        "criterion = criterion.to(device)\n",
        "\n",
        "n_epochs = 8\n",
        "rnn_attn = RNN_GRU(input_dim, hidden_size, output_size, n_stacked, sequence_len, dropout_prob, TEXT.vocab.vectors, self_attention=True)\n",
        "rnn_attn = rnn_attn.to(device)\n",
        "optimizer = torch.optim.Adam(rnn_attn.parameters(), lr=learning_rate)\n",
        "\n",
        "exp_attn = Experiments(rnn_attn, n_epochs, criterion, optimizer, train_itr, test_itr, clip)\n",
        "exp_attn.run()\n",
        "\n",
        "print()\n",
        "exp_attn.plot_loss_curves()\n",
        "print()\n",
        "exp_attn.epoch_report(8, 'val')"
      ],
      "metadata": {
        "colab": {
          "base_uri": "https://localhost:8080/",
          "height": 1000
        },
        "id": "0WeeTm8ppgCx",
        "outputId": "cef0a462-021e-4fac-cffd-b5e448521198"
      },
      "execution_count": 52,
      "outputs": [
        {
          "output_type": "stream",
          "name": "stdout",
          "text": [
            "Validation Epoch 0  | Train Loss: 0.9988927580416203 Train Accuracy: 0.48341033  | Validation Loss: 0.9720354676246643 Validation Accuracy: 0.5528902\n",
            "Validation Epoch 1  | Train Loss: 0.8820187263190746 Train Accuracy: 0.60808694  | Validation Loss: 0.8435504833857218 Validation Accuracy: 0.6203231\n",
            "Validation Epoch 2  | Train Loss: 0.8036439679563046 Train Accuracy: 0.64132494  | Validation Loss: 0.8078112602233887 Validation Accuracy: 0.6241069\n",
            "Validation Epoch 3  | Train Loss: 0.781887125223875 Train Accuracy: 0.65624285  | Validation Loss: 0.7739571134249369 Validation Accuracy: 0.64148474\n",
            "Validation Epoch 4  | Train Loss: 0.7518652342259884 Train Accuracy: 0.6690864  | Validation Loss: 0.7562790711720785 Validation Accuracy: 0.65296143\n",
            "Validation Epoch 5  | Train Loss: 0.7322471216320992 Train Accuracy: 0.6786903  | Validation Loss: 0.7508234779040018 Validation Accuracy: 0.6724954\n",
            "Validation Epoch 6  | Train Loss: 0.7185390703380108 Train Accuracy: 0.6886319  | Validation Loss: 0.7543137669563293 Validation Accuracy: 0.6562166\n",
            "Validation Epoch 7  | Train Loss: 0.7104086875915527 Train Accuracy: 0.69392455  | Validation Loss: 0.724143405755361 Validation Accuracy: 0.68152934\n",
            "\n"
          ]
        },
        {
          "output_type": "display_data",
          "data": {
            "text/plain": [
              "<Figure size 720x720 with 1 Axes>"
            ],
            "image/png": "[encoded data removed]"
          },
          "metadata": {
            "needs_background": "light"
          }
        },
        {
          "output_type": "stream",
          "name": "stdout",
          "text": [
            "\n",
            "====\n",
            "Classification report for validation set\n",
            "====\n",
            "              precision    recall  f1-score   support\n",
            "\n",
            "           0       0.80      0.73      0.77      1065\n",
            "           1       0.55      0.25      0.34       296\n",
            "           2       0.63      0.80      0.71       921\n",
            "\n",
            "    accuracy                           0.70      2282\n",
            "   macro avg       0.66      0.59      0.60      2282\n",
            "weighted avg       0.70      0.70      0.69      2282\n",
            "\n"
          ]
        }
      ]
    },
    {
      "cell_type": "code",
      "source": [
        "iterator = BucketIterator (dataset=test_data, batch_size=(2282), sort_key=lambda x:len(x.tweet,), shuffle=True, sort_within_batch=True, device=device)\n",
        "exp_attn.plot_roc_curves(iterator)"
      ],
      "metadata": {
        "colab": {
          "base_uri": "https://localhost:8080/",
          "height": 295
        },
        "id": "_5hDbGRKFU7R",
        "outputId": "ea3d2179-c68e-4a16-977d-f59e770df89a"
      },
      "execution_count": 53,
      "outputs": [
        {
          "output_type": "display_data",
          "data": {
            "text/plain": [
              "<Figure size 432x288 with 1 Axes>"
            ],
            "image/png": "[encoded data removed]"
          },
          "metadata": {
            "needs_background": "light"
          }
        }
      ]
    },
    {
      "cell_type": "markdown",
      "source": [
        "### Experiments on LSTM"
      ],
      "metadata": {
        "id": "O0bbU3-dpDMm"
      }
    },
    {
      "cell_type": "markdown",
      "source": [
        "#### Grid Search of parameters on LSTM\n"
      ],
      "metadata": {
        "id": "E0w0r5dEcwVn"
      }
    },
    {
      "cell_type": "code",
      "source": [
        "\"\"\"\n",
        "input_dim = len(TEXT.vocab)\n",
        "hidden_sizes = [128]\n",
        "output_size = 3\n",
        "\n",
        "glove_embeddings = TEXT.vocab.vectors\n",
        "sequence_len = D_EMB\n",
        "\n",
        "num_stacked = [2]\n",
        "dropout_prob = [0.2, 0.7, 0.8]\n",
        "clipping = [0.5, 1, 1.5, 5]\n",
        "lrs = [1e-3, 2e-3, 1e-3, 2e-4]\n",
        "\n",
        "class_weights = class_weight.compute_class_weight(class_weight='balanced', classes=np.unique(df_train.label), y=df_train.label)\n",
        "class_weights = torch.tensor(class_weights,dtype=torch.float)\n",
        "criterion = nn.CrossEntropyLoss(weight=class_weights, reduction='mean')\n",
        "\n",
        "# criterion = nn.CrossEntropyLoss()\n",
        "criterion = criterion.to(device)\n",
        "\n",
        "n_epochs = 8\n",
        "\n",
        "for hidden_size in hidden_sizes:\n",
        "  for n_stacked in num_stacked:\n",
        "    for drop_p in dropout_prob:\n",
        "      for clip in clipping:\n",
        "        for learning_rate in lrs:\n",
        "          rnn = RNN_LSTM(input_dim, hidden_size, output_size, n_stacked, sequence_len, drop_p, TEXT.vocab.vectors, self_attention=False)\n",
        "          rnn = rnn.to(device)\n",
        "          optimizer = torch.optim.Adam(rnn.parameters(), lr=learning_rate)\n",
        "          \n",
        "          print(\"Case: hidden size:\", hidden_size, \"num stacked:\", n_stacked, \"dropout prob:\", drop_p, \"clipping:\", clip, \"learning rate:\", learning_rate)\n",
        "          print()\n",
        "\n",
        "          exp = Experiments(rnn, n_epochs, criterion, optimizer, train_itr, test_itr, clip)\n",
        "          exp.run()\n",
        "\n",
        "          print()\n",
        "          exp.plot_loss_curves()\n",
        "          print()\n",
        "          exp.epoch_report(8, 'val')\n",
        "          print()\n",
        "          print()\n",
        "\"\"\""
      ],
      "metadata": {
        "id": "l-s0KFM1jNKA",
        "colab": {
          "base_uri": "https://localhost:8080/",
          "height": 109
        },
        "outputId": "0569fe59-d005-406e-cae0-2cd19dccd10f"
      },
      "execution_count": 31,
      "outputs": [
        {
          "output_type": "execute_result",
          "data": {
            "text/plain": [
              "'\\ninput_dim = len(TEXT.vocab)\\nhidden_sizes = [128]\\noutput_size = 3\\n\\nglove_embeddings = TEXT.vocab.vectors\\nsequence_len = D_EMB\\n\\nnum_stacked = [2]\\ndropout_prob = [0.2, 0.7, 0.8]\\nclipping = [0.5, 1, 1.5, 5]\\nlrs = [1e-3, 2e-3, 1e-3, 2e-4]\\n\\nclass_weights = class_weight.compute_class_weight(class_weight=\\'balanced\\', classes=np.unique(df_train.label), y=df_train.label)\\nclass_weights = torch.tensor(class_weights,dtype=torch.float)\\ncriterion = nn.CrossEntropyLoss(weight=class_weights, reduction=\\'mean\\')\\n\\n# criterion = nn.CrossEntropyLoss()\\ncriterion = criterion.to(device)\\n\\nn_epochs = 8\\n\\nfor hidden_size in hidden_sizes:\\n  for n_stacked in num_stacked:\\n    for drop_p in dropout_prob:\\n      for clip in clipping:\\n        for learning_rate in lrs:\\n          rnn = RNN_LSTM(input_dim, hidden_size, output_size, n_stacked, sequence_len, drop_p, TEXT.vocab.vectors, self_attention=False)\\n          rnn = rnn.to(device)\\n          optimizer = torch.optim.Adam(rnn.parameters(), lr=learning_rate)\\n          \\n          print(\"Case: hidden size:\", hidden_size, \"num stacked:\", n_stacked, \"dropout prob:\", drop_p, \"clipping:\", clip, \"learning rate:\", learning_rate)\\n          print()\\n\\n          exp = Experiments(rnn, n_epochs, criterion, optimizer, train_itr, test_itr, clip)\\n          exp.run()\\n\\n          print()\\n          exp.plot_loss_curves()\\n          print()\\n          exp.epoch_report(8, \\'val\\')\\n          print()\\n          print()\\n'"
            ],
            "application/vnd.google.colaboratory.intrinsic+json": {
              "type": "string"
            }
          },
          "metadata": {},
          "execution_count": 31
        }
      ]
    },
    {
      "cell_type": "markdown",
      "source": [
        "#### Best LSTM model"
      ],
      "metadata": {
        "id": "eHWUS6Kk_0Ty"
      }
    },
    {
      "cell_type": "code",
      "source": [
        "from sklearn.utils import class_weight\n",
        "\n",
        "input_dim = len(TEXT.vocab)\n",
        "hidden_size = 128\n",
        "output_size = 3\n",
        "\n",
        "glove_embeddings = TEXT.vocab.vectors\n",
        "sequence_len = D_EMB\n",
        "\n",
        "n_stacked = 2\n",
        "dropout_prob = 0.7\n",
        "clip = 1\n",
        "learning_rate = 0.001\n",
        "\n",
        "criterion = nn.CrossEntropyLoss()\n",
        "criterion = criterion.to(device)\n",
        "\n",
        "n_epochs = 8\n",
        "rnn_lstm = RNN_LSTM(input_dim, hidden_size, output_size, n_stacked, sequence_len, dropout_prob, TEXT.vocab.vectors, self_attention=False)\n",
        "rnn_lstm = rnn_lstm.to(device)\n",
        "optimizer = torch.optim.Adam(rnn_lstm.parameters(), lr=learning_rate)\n",
        "\n",
        "exp_lstm_1 = Experiments(rnn_lstm, n_epochs, criterion, optimizer, train_itr, test_itr, clip)\n",
        "exp_lstm_1.run()\n",
        "\n",
        "print()\n",
        "exp_lstm_1.plot_loss_curves()\n",
        "print()\n",
        "exp_lstm_1.epoch_report(8, 'val')"
      ],
      "metadata": {
        "colab": {
          "base_uri": "https://localhost:8080/",
          "height": 1000
        },
        "id": "oOaqV6pI4gDG",
        "outputId": "9d2e2379-45ca-4b70-a068-dd2e846931c3"
      },
      "execution_count": 54,
      "outputs": [
        {
          "output_type": "stream",
          "name": "stdout",
          "text": [
            "Validation Epoch 0  | Train Loss: 1.0284339934587479 Train Accuracy: 0.4294933  | Validation Loss: 1.0073017080624898 Validation Accuracy: 0.45436868\n",
            "Validation Epoch 1  | Train Loss: 0.9185571819543839 Train Accuracy: 0.59156466  | Validation Loss: 0.9346658984820048 Validation Accuracy: 0.5384365\n",
            "Validation Epoch 2  | Train Loss: 0.8500558659434319 Train Accuracy: 0.6218975  | Validation Loss: 0.901937743028005 Validation Accuracy: 0.55019695\n",
            "Validation Epoch 3  | Train Loss: 0.8168023377656937 Train Accuracy: 0.63862115  | Validation Loss: 0.8998984495798746 Validation Accuracy: 0.5439286\n",
            "Validation Epoch 4  | Train Loss: 0.7967936508357525 Train Accuracy: 0.64299506  | Validation Loss: 0.8366490801175436 Validation Accuracy: 0.6253283\n",
            "Validation Epoch 5  | Train Loss: 0.7617833390831947 Train Accuracy: 0.65478754  | Validation Loss: 0.8141742547353109 Validation Accuracy: 0.61584646\n",
            "Validation Epoch 6  | Train Loss: 0.7375620976090431 Train Accuracy: 0.67231894  | Validation Loss: 0.799288829167684 Validation Accuracy: 0.652391\n",
            "Validation Epoch 7  | Train Loss: 0.733989555388689 Train Accuracy: 0.6878258  | Validation Loss: 0.790736198425293 Validation Accuracy: 0.62475795\n",
            "\n"
          ]
        },
        {
          "output_type": "display_data",
          "data": {
            "text/plain": [
              "<Figure size 720x720 with 1 Axes>"
            ],
            "image/png": "[encoded data removed]"
          },
          "metadata": {
            "needs_background": "light"
          }
        },
        {
          "output_type": "stream",
          "name": "stdout",
          "text": [
            "\n",
            "====\n",
            "Classification report for validation set\n",
            "====\n",
            "              precision    recall  f1-score   support\n",
            "\n",
            "           0       0.81      0.66      0.73      1065\n",
            "           1       0.33      0.30      0.32       296\n",
            "           2       0.62      0.77      0.69       921\n",
            "\n",
            "    accuracy                           0.66      2282\n",
            "   macro avg       0.59      0.58      0.58      2282\n",
            "weighted avg       0.67      0.66      0.66      2282\n",
            "\n"
          ]
        }
      ]
    },
    {
      "cell_type": "code",
      "source": [
        "iterator = BucketIterator (dataset=test_data, batch_size=(2282), sort_key=lambda x:len(x.tweet,), shuffle=True, sort_within_batch=True, device=device)\n",
        "exp_lstm_1.plot_roc_curves(iterator)"
      ],
      "metadata": {
        "colab": {
          "base_uri": "https://localhost:8080/",
          "height": 295
        },
        "id": "LaykbM0EaV20",
        "outputId": "44cc0771-a2b4-43c0-cc09-e3ecf3525b10"
      },
      "execution_count": 55,
      "outputs": [
        {
          "output_type": "display_data",
          "data": {
            "text/plain": [
              "<Figure size 432x288 with 1 Axes>"
            ],
            "image/png": "[encoded data removed]"
          },
          "metadata": {
            "needs_background": "light"
          }
        }
      ]
    },
    {
      "cell_type": "markdown",
      "source": [
        "#### Best LSTM model with attention"
      ],
      "metadata": {
        "id": "C0KdJt944Yva"
      }
    },
    {
      "cell_type": "code",
      "source": [
        "input_dim = len(TEXT.vocab)\n",
        "hidden_size = 128\n",
        "output_size = 3\n",
        "\n",
        "glove_embeddings = TEXT.vocab.vectors\n",
        "sequence_len = D_EMB\n",
        "\n",
        "n_stacked = 2\n",
        "dropout_prob = 0.7\n",
        "clip = 1\n",
        "learning_rate = 0.001\n",
        "\n",
        "criterion = nn.CrossEntropyLoss()\n",
        "criterion = criterion.to(device)\n",
        "\n",
        "n_epochs = 8\n",
        "rnn_lstm = RNN_LSTM(input_dim, hidden_size, output_size, n_stacked, sequence_len, dropout_prob, TEXT.vocab.vectors, self_attention=True)\n",
        "rnn_lstm = rnn_lstm.to(device)\n",
        "optimizer = torch.optim.Adam(rnn_lstm.parameters(), lr=learning_rate)\n",
        "\n",
        "exp_lstm_attn = Experiments(rnn_lstm, n_epochs, criterion, optimizer, train_itr, test_itr, clip)\n",
        "exp_lstm_attn.run()\n",
        "\n",
        "print()\n",
        "exp_lstm_attn.plot_loss_curves()\n",
        "print()\n",
        "exp_lstm_attn.epoch_report(8, 'val')"
      ],
      "metadata": {
        "colab": {
          "base_uri": "https://localhost:8080/",
          "height": 1000
        },
        "id": "AZS4NQYudEXe",
        "outputId": "54efd25d-2f04-4c4a-bf52-3d3e5e6696ed"
      },
      "execution_count": 56,
      "outputs": [
        {
          "output_type": "stream",
          "name": "stdout",
          "text": [
            "Validation Epoch 0  | Train Loss: 1.00771489366889 Train Accuracy: 0.51182973  | Validation Loss: 0.9561183849970499 Validation Accuracy: 0.562372\n",
            "Validation Epoch 1  | Train Loss: 0.8789208456873894 Train Accuracy: 0.61807215  | Validation Loss: 0.842943032582601 Validation Accuracy: 0.6282608\n",
            "Validation Epoch 2  | Train Loss: 0.81647028028965 Train Accuracy: 0.6356883  | Validation Loss: 0.8023601770401001 Validation Accuracy: 0.6393702\n",
            "Validation Epoch 3  | Train Loss: 0.7721096575260162 Train Accuracy: 0.653589  | Validation Loss: 0.777696430683136 Validation Accuracy: 0.64396644\n",
            "Validation Epoch 4  | Train Loss: 0.7441056184470654 Train Accuracy: 0.6726288  | Validation Loss: 0.7522462407747904 Validation Accuracy: 0.65939116\n",
            "Validation Epoch 5  | Train Loss: 0.7247588001191616 Train Accuracy: 0.68302226  | Validation Loss: 0.7636700868606567 Validation Accuracy: 0.64848477\n",
            "Validation Epoch 6  | Train Loss: 0.7049884274601936 Train Accuracy: 0.69155926  | Validation Loss: 0.7235718568166097 Validation Accuracy: 0.6835242\n",
            "Validation Epoch 7  | Train Loss: 0.6864139549434185 Train Accuracy: 0.7098793  | Validation Loss: 0.718314548333486 Validation Accuracy: 0.6824252\n",
            "\n"
          ]
        },
        {
          "output_type": "display_data",
          "data": {
            "text/plain": [
              "<Figure size 720x720 with 1 Axes>"
            ],
            "image/png": "[encoded data removed]"
          },
          "metadata": {
            "needs_background": "light"
          }
        },
        {
          "output_type": "stream",
          "name": "stdout",
          "text": [
            "\n",
            "====\n",
            "Classification report for validation set\n",
            "====\n",
            "              precision    recall  f1-score   support\n",
            "\n",
            "           0       0.79      0.76      0.77      1065\n",
            "           1       0.48      0.34      0.40       296\n",
            "           2       0.65      0.74      0.69       921\n",
            "\n",
            "    accuracy                           0.70      2282\n",
            "   macro avg       0.64      0.61      0.62      2282\n",
            "weighted avg       0.69      0.70      0.69      2282\n",
            "\n"
          ]
        }
      ]
    },
    {
      "cell_type": "code",
      "source": [
        "exp_lstm_attn.plot_roc_curves(iterator)"
      ],
      "metadata": {
        "colab": {
          "base_uri": "https://localhost:8080/",
          "height": 295
        },
        "id": "i4NmfAapY6F8",
        "outputId": "c30a6dda-0d80-4472-ff18-9ba6af33502e"
      },
      "execution_count": 57,
      "outputs": [
        {
          "output_type": "display_data",
          "data": {
            "text/plain": [
              "<Figure size 432x288 with 1 Axes>"
            ],
            "image/png": "[encoded data removed]"
          },
          "metadata": {
            "needs_background": "light"
          }
        }
      ]
    }
  ],
  "metadata": {
    "accelerator": "GPU",
    "colab": {
      "collapsed_sections": [],
      "name": "AI_II_Proj3.ipynb",
      "provenance": []
    },
    "kernelspec": {
      "display_name": "Python 3",
      "name": "python3"
    },
    "language_info": {
      "name": "python"
    }
  },
  "nbformat": 4,
  "nbformat_minor": 0
}
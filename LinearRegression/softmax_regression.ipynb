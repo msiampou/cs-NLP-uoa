{
  "nbformat": 4,
  "nbformat_minor": 0,
  "metadata": {
    "colab": {
      "name": "AI_proj1.ipynb",
      "provenance": [],
      "collapsed_sections": []
    },
    "kernelspec": {
      "name": "python3",
      "display_name": "Python 3"
    },
    "language_info": {
      "name": "python"
    }
  },
  "cells": [
    {
      "cell_type": "markdown",
      "metadata": {
        "id": "-9zFOEmFImIt"
      },
      "source": [
        "###Mount on drive"
      ]
    },
    {
      "cell_type": "code",
      "metadata": {
        "colab": {
          "base_uri": "https://localhost:8080/"
        },
        "id": "PfcKWVa_wOGD",
        "outputId": "f57cee24-3296-4b7f-995f-0bdb2046d5d5"
      },
      "source": [
        "from google.colab import drive\n",
        "drive.mount('/content/gdrive')"
      ],
      "execution_count": 120,
      "outputs": [
        {
          "output_type": "stream",
          "name": "stdout",
          "text": [
            "Drive already mounted at /content/gdrive; to attempt to forcibly remount, call drive.mount(\"/content/gdrive\", force_remount=True).\n"
          ]
        }
      ]
    },
    {
      "cell_type": "markdown",
      "metadata": {
        "id": "lILMKTRBIt4X"
      },
      "source": [
        "### Download related libraries"
      ]
    },
    {
      "cell_type": "code",
      "metadata": {
        "colab": {
          "base_uri": "https://localhost:8080/"
        },
        "id": "vVLXimHjHNTC",
        "outputId": "ec069781-b18b-4cc8-bc85-c042b11d406f"
      },
      "source": [
        "import nltk\n",
        "nltk.download('stopwords')\n",
        "\n",
        "import nltk\n",
        "nltk.download('punkt')\n",
        "\n",
        "from nltk.stem.porter import PorterStemmer\n",
        "from nltk.stem import WordNetLemmatizer"
      ],
      "execution_count": 121,
      "outputs": [
        {
          "output_type": "stream",
          "name": "stdout",
          "text": [
            "[nltk_data] Downloading package stopwords to /root/nltk_data...\n",
            "[nltk_data]   Package stopwords is already up-to-date!\n",
            "[nltk_data] Downloading package punkt to /root/nltk_data...\n",
            "[nltk_data]   Package punkt is already up-to-date!\n"
          ]
        }
      ]
    },
    {
      "cell_type": "code",
      "metadata": {
        "colab": {
          "base_uri": "https://localhost:8080/"
        },
        "id": "-x1NVkmWI8TC",
        "outputId": "29d9c116-689a-473e-ccd5-8c909513e240"
      },
      "source": [
        "nltk.download('stopwords')\n",
        "nltk.download('punkt')\n",
        "nltk.download('wordnet')\n",
        "stemmerPorter = PorterStemmer()\n",
        "stemmerSnow = nltk.SnowballStemmer(language='english')\n",
        "lemmatizer = WordNetLemmatizer()"
      ],
      "execution_count": 122,
      "outputs": [
        {
          "output_type": "stream",
          "name": "stdout",
          "text": [
            "[nltk_data] Downloading package stopwords to /root/nltk_data...\n",
            "[nltk_data]   Package stopwords is already up-to-date!\n",
            "[nltk_data] Downloading package punkt to /root/nltk_data...\n",
            "[nltk_data]   Package punkt is already up-to-date!\n",
            "[nltk_data] Downloading package wordnet to /root/nltk_data...\n",
            "[nltk_data]   Package wordnet is already up-to-date!\n"
          ]
        }
      ]
    },
    {
      "cell_type": "code",
      "metadata": {
        "colab": {
          "base_uri": "https://localhost:8080/"
        },
        "id": "IlhxANP_6z_d",
        "outputId": "f03deb3f-a3d3-42cb-e4f9-d600138f4f81"
      },
      "source": [
        "!pip install yellowbrick"
      ],
      "execution_count": 123,
      "outputs": [
        {
          "output_type": "stream",
          "name": "stdout",
          "text": [
            "Requirement already satisfied: yellowbrick in /usr/local/lib/python3.7/dist-packages (1.3.post1)\n",
            "Requirement already satisfied: matplotlib!=3.0.0,>=2.0.2 in /usr/local/lib/python3.7/dist-packages (from yellowbrick) (3.2.2)\n",
            "Requirement already satisfied: scipy>=1.0.0 in /usr/local/lib/python3.7/dist-packages (from yellowbrick) (1.4.1)\n",
            "Requirement already satisfied: numpy<1.20,>=1.16.0 in /usr/local/lib/python3.7/dist-packages (from yellowbrick) (1.19.5)\n",
            "Requirement already satisfied: cycler>=0.10.0 in /usr/local/lib/python3.7/dist-packages (from yellowbrick) (0.11.0)\n",
            "Requirement already satisfied: scikit-learn>=0.20 in /usr/local/lib/python3.7/dist-packages (from yellowbrick) (1.0.1)\n",
            "Requirement already satisfied: pyparsing!=2.0.4,!=2.1.2,!=2.1.6,>=2.0.1 in /usr/local/lib/python3.7/dist-packages (from matplotlib!=3.0.0,>=2.0.2->yellowbrick) (3.0.6)\n",
            "Requirement already satisfied: kiwisolver>=1.0.1 in /usr/local/lib/python3.7/dist-packages (from matplotlib!=3.0.0,>=2.0.2->yellowbrick) (1.3.2)\n",
            "Requirement already satisfied: python-dateutil>=2.1 in /usr/local/lib/python3.7/dist-packages (from matplotlib!=3.0.0,>=2.0.2->yellowbrick) (2.8.2)\n",
            "Requirement already satisfied: six>=1.5 in /usr/local/lib/python3.7/dist-packages (from python-dateutil>=2.1->matplotlib!=3.0.0,>=2.0.2->yellowbrick) (1.15.0)\n",
            "Requirement already satisfied: threadpoolctl>=2.0.0 in /usr/local/lib/python3.7/dist-packages (from scikit-learn>=0.20->yellowbrick) (3.0.0)\n",
            "Requirement already satisfied: joblib>=0.11 in /usr/local/lib/python3.7/dist-packages (from scikit-learn>=0.20->yellowbrick) (1.1.0)\n"
          ]
        }
      ]
    },
    {
      "cell_type": "code",
      "metadata": {
        "id": "3tcKAeDmZV7k"
      },
      "source": [
        "import numpy as np\n",
        "import matplotlib.pyplot as plt\n",
        "import matplotlib.pyplot as plt\n",
        "import statistics\n",
        "from scipy.interpolate import make_interp_spline, BSpline"
      ],
      "execution_count": null,
      "outputs": []
    },
    {
      "cell_type": "markdown",
      "metadata": {
        "id": "vzr3WO6mI4MP"
      },
      "source": [
        "### Load and explore datasets"
      ]
    },
    {
      "cell_type": "code",
      "metadata": {
        "id": "tyyigq7FyyE8"
      },
      "source": [
        "train_csv = '/content/gdrive/My Drive/datasets/vaccine_train_set.csv'\n",
        "\n",
        "test_csv = '/content/gdrive/My Drive/datasets/vaccine_validation_set.csv'"
      ],
      "execution_count": 124,
      "outputs": []
    },
    {
      "cell_type": "code",
      "metadata": {
        "colab": {
          "base_uri": "https://localhost:8080/",
          "height": 204
        },
        "id": "saR-9UAR0DyR",
        "outputId": "50a17848-5b19-491d-e73d-c59921e83caf"
      },
      "source": [
        "import pandas as pd\n",
        "\n",
        "df_train = pd.read_csv(train_csv)\n",
        "\n",
        "df_train.head()"
      ],
      "execution_count": 125,
      "outputs": [
        {
          "output_type": "execute_result",
          "data": {
            "text/html": [
              "<div>\n",
              "<style scoped>\n",
              "    .dataframe tbody tr th:only-of-type {\n",
              "        vertical-align: middle;\n",
              "    }\n",
              "\n",
              "    .dataframe tbody tr th {\n",
              "        vertical-align: top;\n",
              "    }\n",
              "\n",
              "    .dataframe thead th {\n",
              "        text-align: right;\n",
              "    }\n",
              "</style>\n",
              "<table border=\"1\" class=\"dataframe\">\n",
              "  <thead>\n",
              "    <tr style=\"text-align: right;\">\n",
              "      <th></th>\n",
              "      <th>Unnamed: 0</th>\n",
              "      <th>tweet</th>\n",
              "      <th>label</th>\n",
              "    </tr>\n",
              "  </thead>\n",
              "  <tbody>\n",
              "    <tr>\n",
              "      <th>0</th>\n",
              "      <td>0</td>\n",
              "      <td>Sip N Shop Come thru right now #Marjais #Popul...</td>\n",
              "      <td>0</td>\n",
              "    </tr>\n",
              "    <tr>\n",
              "      <th>1</th>\n",
              "      <td>1</td>\n",
              "      <td>I don't know about you but My family and I wil...</td>\n",
              "      <td>1</td>\n",
              "    </tr>\n",
              "    <tr>\n",
              "      <th>2</th>\n",
              "      <td>2</td>\n",
              "      <td>@MSignorile Immunizations should be mandatory....</td>\n",
              "      <td>2</td>\n",
              "    </tr>\n",
              "    <tr>\n",
              "      <th>3</th>\n",
              "      <td>3</td>\n",
              "      <td>President Obama spoke in favor of vaccination ...</td>\n",
              "      <td>0</td>\n",
              "    </tr>\n",
              "    <tr>\n",
              "      <th>4</th>\n",
              "      <td>4</td>\n",
              "      <td>\"@myfoxla: Arizona monitoring hundreds for mea...</td>\n",
              "      <td>0</td>\n",
              "    </tr>\n",
              "  </tbody>\n",
              "</table>\n",
              "</div>"
            ],
            "text/plain": [
              "   Unnamed: 0                                              tweet  label\n",
              "0           0  Sip N Shop Come thru right now #Marjais #Popul...      0\n",
              "1           1  I don't know about you but My family and I wil...      1\n",
              "2           2  @MSignorile Immunizations should be mandatory....      2\n",
              "3           3  President Obama spoke in favor of vaccination ...      0\n",
              "4           4  \"@myfoxla: Arizona monitoring hundreds for mea...      0"
            ]
          },
          "metadata": {},
          "execution_count": 125
        }
      ]
    },
    {
      "cell_type": "code",
      "metadata": {
        "id": "i8o1Z-bJ1qfH",
        "colab": {
          "base_uri": "https://localhost:8080/"
        },
        "outputId": "13ebd705-18ba-4a1a-b1bc-1fdaf77548db"
      },
      "source": [
        "df_train.shape"
      ],
      "execution_count": 126,
      "outputs": [
        {
          "output_type": "execute_result",
          "data": {
            "text/plain": [
              "(15976, 3)"
            ]
          },
          "metadata": {},
          "execution_count": 126
        }
      ]
    },
    {
      "cell_type": "code",
      "metadata": {
        "id": "PdZ1RbpsrK87"
      },
      "source": [
        "df_train = df_train.drop(['Unnamed: 0'], axis=1)"
      ],
      "execution_count": 127,
      "outputs": []
    },
    {
      "cell_type": "code",
      "metadata": {
        "colab": {
          "base_uri": "https://localhost:8080/",
          "height": 204
        },
        "id": "cZZcFXrR0Yd3",
        "outputId": "505f8a25-c991-4db3-8d71-95cac10e0ce4"
      },
      "source": [
        "df_test = pd.read_csv(test_csv)\n",
        "\n",
        "df_test.head()"
      ],
      "execution_count": 128,
      "outputs": [
        {
          "output_type": "execute_result",
          "data": {
            "text/html": [
              "<div>\n",
              "<style scoped>\n",
              "    .dataframe tbody tr th:only-of-type {\n",
              "        vertical-align: middle;\n",
              "    }\n",
              "\n",
              "    .dataframe tbody tr th {\n",
              "        vertical-align: top;\n",
              "    }\n",
              "\n",
              "    .dataframe thead th {\n",
              "        text-align: right;\n",
              "    }\n",
              "</style>\n",
              "<table border=\"1\" class=\"dataframe\">\n",
              "  <thead>\n",
              "    <tr style=\"text-align: right;\">\n",
              "      <th></th>\n",
              "      <th>Unnamed: 0</th>\n",
              "      <th>tweet</th>\n",
              "      <th>label</th>\n",
              "    </tr>\n",
              "  </thead>\n",
              "  <tbody>\n",
              "    <tr>\n",
              "      <th>0</th>\n",
              "      <td>0</td>\n",
              "      <td>@user They had a massive surge in with covid d...</td>\n",
              "      <td>1</td>\n",
              "    </tr>\n",
              "    <tr>\n",
              "      <th>1</th>\n",
              "      <td>1</td>\n",
              "      <td>Required vaccines for school: Parents and guar...</td>\n",
              "      <td>0</td>\n",
              "    </tr>\n",
              "    <tr>\n",
              "      <th>2</th>\n",
              "      <td>2</td>\n",
              "      <td>“@KCStar: Two more Johnson County children hav...</td>\n",
              "      <td>0</td>\n",
              "    </tr>\n",
              "    <tr>\n",
              "      <th>3</th>\n",
              "      <td>3</td>\n",
              "      <td>NV can do better. Which states are the best (a...</td>\n",
              "      <td>2</td>\n",
              "    </tr>\n",
              "    <tr>\n",
              "      <th>4</th>\n",
              "      <td>4</td>\n",
              "      <td>Nothing like killing ourselves w/ our own fear...</td>\n",
              "      <td>2</td>\n",
              "    </tr>\n",
              "  </tbody>\n",
              "</table>\n",
              "</div>"
            ],
            "text/plain": [
              "   Unnamed: 0                                              tweet  label\n",
              "0           0  @user They had a massive surge in with covid d...      1\n",
              "1           1  Required vaccines for school: Parents and guar...      0\n",
              "2           2  “@KCStar: Two more Johnson County children hav...      0\n",
              "3           3  NV can do better. Which states are the best (a...      2\n",
              "4           4  Nothing like killing ourselves w/ our own fear...      2"
            ]
          },
          "metadata": {},
          "execution_count": 128
        }
      ]
    },
    {
      "cell_type": "code",
      "metadata": {
        "id": "QO_w6F-P_EkS",
        "colab": {
          "base_uri": "https://localhost:8080/"
        },
        "outputId": "9cf09e97-aaee-420b-a6ab-2fc45129c31d"
      },
      "source": [
        "df_test.shape"
      ],
      "execution_count": 129,
      "outputs": [
        {
          "output_type": "execute_result",
          "data": {
            "text/plain": [
              "(2282, 3)"
            ]
          },
          "metadata": {},
          "execution_count": 129
        }
      ]
    },
    {
      "cell_type": "code",
      "metadata": {
        "id": "zWwjCmLjrOnT"
      },
      "source": [
        "df_test = df_test.drop(['Unnamed: 0'], axis=1)"
      ],
      "execution_count": 130,
      "outputs": []
    },
    {
      "cell_type": "code",
      "metadata": {
        "colab": {
          "base_uri": "https://localhost:8080/",
          "height": 297
        },
        "id": "p5SUgK7W_soz",
        "outputId": "e00f629e-7f5c-41a9-8a79-3a3c7f85a8df"
      },
      "source": [
        "import matplotlib.pyplot as plt\n",
        "\n",
        "cnt = df_train['label'].value_counts()\n",
        "\n",
        "fig, ax = plt.subplots()\n",
        "ax.pie(cnt, labels=['Neutral', 'Antivax', 'Provax'])\n",
        "# ax.set_title('Cardinality of Values')\n",
        "plt.tight_layout()"
      ],
      "execution_count": 131,
      "outputs": [
        {
          "output_type": "display_data",
          "data": {
            "image/png": "[encoded data removed]",
            "text/plain": [
              "<Figure size 432x288 with 1 Axes>"
            ]
          },
          "metadata": {}
        }
      ]
    },
    {
      "cell_type": "code",
      "metadata": {
        "colab": {
          "base_uri": "https://localhost:8080/",
          "height": 297
        },
        "id": "icE5MmlIx77i",
        "outputId": "59b586e0-ab09-48b6-a4ad-edb5f6b6d273"
      },
      "source": [
        "import matplotlib.pyplot as plt\n",
        "\n",
        "cnt = df_test['label'].value_counts()\n",
        "\n",
        "fig, ax = plt.subplots()\n",
        "ax.pie(cnt, labels=['Neutral', 'Antivax', 'Provax'])\n",
        "# ax.set_title('Cardinality of Values')\n",
        "plt.tight_layout()"
      ],
      "execution_count": 132,
      "outputs": [
        {
          "output_type": "display_data",
          "data": {
            "image/png": "[encoded data removed]",
            "text/plain": [
              "<Figure size 432x288 with 1 Axes>"
            ]
          },
          "metadata": {}
        }
      ]
    },
    {
      "cell_type": "markdown",
      "metadata": {
        "id": "K8jUdiSPJEHF"
      },
      "source": [
        "### Data cleaning"
      ]
    },
    {
      "cell_type": "code",
      "metadata": {
        "id": "XPr9u5fJGwpQ"
      },
      "source": [
        "from nltk.corpus import stopwords\n",
        "import re\n",
        "from bs4 import BeautifulSoup\n",
        "from nltk.tokenize import word_tokenize as wt\n",
        "\n",
        "stopWords = set(stopwords.words('english'))"
      ],
      "execution_count": 133,
      "outputs": []
    },
    {
      "cell_type": "code",
      "metadata": {
        "id": "ejjfYwNIBYHs"
      },
      "source": [
        "def stem(data):\n",
        "  f_data = []\n",
        "  for row in range(data.shape[0]):\n",
        "    merge = data.iloc[row, 2]\n",
        "    tokenized_text = wt(merge)\n",
        "    cleaned_text = []\n",
        "    for word in tokenized_text:\n",
        "      if word not in stopWords:\n",
        "        cleaned_text.append(stemmerPorter.stem(word))\n",
        "    final_text = ' '.join(cleaned_text)\n",
        "    f_data.append(final_text)\n",
        "  return data\n",
        "\n",
        "def data_cleaning(df):\n",
        "  df['cleaned_tweet'] = df['tweet'].apply(lambda x : re.sub(r'http\\S+', ' ', x))\n",
        "  df['cleaned_tweet'] = df['cleaned_tweet'].apply(lambda x : re.sub(r'https\\S+', ' ', x))\n",
        "  df['cleaned_tweet'] = df['cleaned_tweet'].apply(lambda x : re.sub(r'@\\S+', ' ', x))\n",
        "  df['cleaned_tweet'] = df['cleaned_tweet'].apply(lambda x : re.sub(r'#\\S+', ' ', x))\n",
        "  df['cleaned_tweet'] = df['cleaned_tweet'].str.lower()\n",
        "  df['cleaned_tweet'] = df['cleaned_tweet'].str.encode('ascii', 'ignore').str.decode('ascii')\n",
        "  df['cleaned_tweet'] = df['cleaned_tweet'].str.replace('[^\\w\\s@/:%.,_-]', ' ', flags=re.UNICODE)\n",
        "  df['cleaned_tweet'] = df['cleaned_tweet'].str.replace(r'[^\\w\\s]+', ' ', regex=True)\n",
        "  df['cleaned_tweet'] = df['cleaned_tweet'].str.replace(r'<[^>]+>', ' ', regex=True)\n",
        "  df['cleaned_tweet'] = df['cleaned_tweet'].apply(lambda x: re.sub(r\"@[A-Za-z0-9]+\", ' ', x))\n",
        "  df['cleaned_tweet'] = df['cleaned_tweet'].apply(lambda x: ' '.join([word for word in x.split() if word not in (stopWords)]))\n",
        "  df['cleaned_tweet'] = df['cleaned_tweet'].str.replace(r'\\s+[a-zA-Z]\\s+', ' ', regex=True)\n",
        "  df['cleaned_tweet'] = df['cleaned_tweet'].apply(lambda x : re.sub('<.*?>','', x))\n",
        "  df['cleaned_tweet'] = df['cleaned_tweet'].str.replace(r'\\d+', ' ', regex=True)\n",
        "  df['cleaned_tweet'] = df['cleaned_tweet'].str.replace(r'\\s+', ' ', regex=True)\n",
        "  stem(df)"
      ],
      "execution_count": 134,
      "outputs": []
    },
    {
      "cell_type": "code",
      "metadata": {
        "id": "pqihBKXiG4Iv"
      },
      "source": [
        "data_cleaning(df_train)\n",
        "data_cleaning(df_test)"
      ],
      "execution_count": 135,
      "outputs": []
    },
    {
      "cell_type": "code",
      "metadata": {
        "colab": {
          "base_uri": "https://localhost:8080/",
          "height": 35
        },
        "id": "KmPARBDfqPDw",
        "outputId": "9a208095-b41e-4a35-df1d-0ef2fe6d8627"
      },
      "source": [
        "df_test.tweet[100]"
      ],
      "execution_count": 136,
      "outputs": [
        {
          "output_type": "execute_result",
          "data": {
            "application/vnd.google.colaboratory.intrinsic+json": {
              "type": "string"
            },
            "text/plain": [
              "'The only vaccine he should get comes from a vet to put him to sleep https://t.co/Ao6qVFuRVO'"
            ]
          },
          "metadata": {},
          "execution_count": 136
        }
      ]
    },
    {
      "cell_type": "code",
      "metadata": {
        "colab": {
          "base_uri": "https://localhost:8080/",
          "height": 35
        },
        "id": "Adn4XTJ6qX5j",
        "outputId": "efde9505-1738-4209-9dd8-74ff0a97fd5f"
      },
      "source": [
        "df_test.cleaned_tweet[100]"
      ],
      "execution_count": 137,
      "outputs": [
        {
          "output_type": "execute_result",
          "data": {
            "application/vnd.google.colaboratory.intrinsic+json": {
              "type": "string"
            },
            "text/plain": [
              "'vaccine get comes vet put sleep'"
            ]
          },
          "metadata": {},
          "execution_count": 137
        }
      ]
    },
    {
      "cell_type": "code",
      "metadata": {
        "id": "dUROVMMTEMcu"
      },
      "source": [
        "from sklearn.model_selection import train_test_split\n",
        "\n",
        "X_train = df_train['cleaned_tweet']\n",
        "y_train = df_train['label']\n",
        "\n",
        "X_test = df_test['cleaned_tweet']\n",
        "y_test = df_test['label']"
      ],
      "execution_count": 138,
      "outputs": []
    },
    {
      "cell_type": "code",
      "metadata": {
        "id": "uFRxr9sT-T9I"
      },
      "source": [
        "from sklearn.feature_extraction.text import TfidfVectorizer\n",
        "from sklearn.linear_model import LogisticRegression\n",
        "from sklearn.pipeline import Pipeline\n",
        "from sklearn.decomposition import SparsePCA, TruncatedSVD\n",
        "from sklearn.feature_extraction.text import CountVectorizer\n",
        "\n",
        "\n",
        "def create_pipeline(vectorizer=TfidfVectorizer(ngram_range=(1,2)), svd = None):\n",
        "  pip = Pipeline(steps=[\n",
        "                      ('vectorizer', vectorizer),\n",
        "                      ('svd', svd),\n",
        "                      ('logistic', LogisticRegression(multi_class='multinomial', max_iter=10000))\n",
        "                      ])\n",
        "  return pip"
      ],
      "execution_count": 139,
      "outputs": []
    },
    {
      "cell_type": "markdown",
      "metadata": {
        "id": "9g2WhQv5VRzS"
      },
      "source": [
        "### Experiments\n",
        "#### This section performs cross validation over 14 combinations to select the best one. It is therefore, commented out in order to avoid long runs. There is no need for evaluating this section, as every combination is presented on ReadMe alongside with various plots."
      ]
    },
    {
      "cell_type": "code",
      "metadata": {
        "id": "DoWGivDEAYb1"
      },
      "source": [
        "\"\"\"\n",
        "scorer = {'precision': make_scorer(precision_score, average='micro'),\n",
        "          'recall': make_scorer(recall_score, average='micro'),\n",
        "          'f1': make_scorer(f1_score, average='micro')}\n",
        "\n",
        "scores = {'tf-idf + ngram(1,2)': {},\n",
        "          'tf-idf + ngram(1,3)': {},\n",
        "          'tf-idf + ngram(1,4)': {},\n",
        "          'tf-idf + ngram(1,2) + svd + 8 comp': {},\n",
        "          'tf-idf + ngram(1,2) + svd + 10 comp': {},\n",
        "          'tf-idf + ngram(1,2) + svd + 3 comp': {},\n",
        "          'tf-idf': {},\n",
        "          'count-vec + ngram(1,2)': {},\n",
        "          'count-vec + ngram(1,3)': {},\n",
        "          'count-vec + ngram(1,4)': {},\n",
        "          'count-vec + ngram(1,2) + svd + 8 comp': {},\n",
        "          'count-vec + ngram(1,2) + svd + 10 comp': {},\n",
        "          'count-vec + ngram(1,2) + svd + 3 comp': {},\n",
        "          'count-vec': {},\n",
        "          }\n",
        "\n",
        "cv = ShuffleSplit(n_splits=5, test_size=0.3, random_state=0)\n",
        "\"\"\""
      ],
      "execution_count": null,
      "outputs": []
    },
    {
      "cell_type": "code",
      "metadata": {
        "id": "UkHjILZmEAzm"
      },
      "source": [
        "\"\"\"\n",
        "pipelines = {'tf-idf + ngram(1,2)': create_pipeline(),\n",
        "             'tf-idf + ngram(1,3)': create_pipeline(TfidfVectorizer(ngram_range=(1,3))),\n",
        "             'tf-idf + ngram(1,4)': create_pipeline(TfidfVectorizer(ngram_range=(1,4))),\n",
        "             'tf-idf + ngram(1,2) + svd + 8 comp': create_pipeline(TfidfVectorizer(ngram_range=(1,2)), TruncatedSVD(n_components=8, random_state=42)),\n",
        "             'tf-idf + ngram(1,2) + svd + 10 comp': create_pipeline(TfidfVectorizer(ngram_range=(1,2)), TruncatedSVD(n_components=10, random_state=42)),\n",
        "            #  'tf-idf + ngram(1,2) + svd + 3 comp': create_pipeline(TfidfVectorizer(ngram_range=(1,2)), TruncatedSVD(n_components=3, random_state=42)),\n",
        "             'tf-idf': create_pipeline(TfidfVectorizer()),\n",
        "             'count-vec + ngram(1,2)': create_pipeline(CountVectorizer(ngram_range=(1,2))),\n",
        "             'count-vec + ngram(1,3)': create_pipeline(CountVectorizer(ngram_range=(1,3))),\n",
        "             'count-vec + ngram(1,4)': create_pipeline(CountVectorizer(ngram_range=(1,4))),\n",
        "             'count-vec + ngram(1,2) + svd + 8 comp': create_pipeline(CountVectorizer(ngram_range=(1,2)), TruncatedSVD(n_components=8, random_state=42)),\n",
        "             'count-vec + ngram(1,2) + svd + 10 comp': create_pipeline(CountVectorizer(ngram_range=(1,2)), TruncatedSVD(n_components=10, random_state=42)),\n",
        "            #  'count-vec + ngram(1,2) + svd + 3 comp': create_pipeline(CountVectorizer(ngram_range=(1,2)), TruncatedSVD(n_components=3, random_state=42)),\n",
        "             'count-vec': create_pipeline(CountVectorizer()),\n",
        "             }\n",
        "\"\"\""
      ],
      "execution_count": null,
      "outputs": []
    },
    {
      "cell_type": "code",
      "metadata": {
        "id": "SRcwQcNisH2V"
      },
      "source": [
        "\"\"\"\n",
        "from sklearn.metrics import make_scorer, precision_score, recall_score, f1_score\n",
        "from sklearn.model_selection import ShuffleSplit\n",
        "from sklearn.model_selection import cross_validate\n",
        "\n",
        "for model in pipelines:\n",
        "  pip = pipelines[model]\n",
        "  cv_scores = cross_validate(pip, X_train, y_train, cv=cv, scoring=scorer)\n",
        "  scores[model] = cv_scores\n",
        "\"\"\""
      ],
      "execution_count": null,
      "outputs": []
    },
    {
      "cell_type": "code",
      "metadata": {
        "id": "bGwnum5mMTmM"
      },
      "source": [
        "\"\"\"\n",
        "T = np.array(range(0,5))\n",
        "plot = np.linspace(T.min(), T.max(), 300)\n",
        "\n",
        "prec = (scores['tf-idf'])['test_precision']\n",
        "prec = np.sort(prec)\n",
        "spl = make_interp_spline(T, prec, k=3)\n",
        "spl_smooth = spl(plot)\n",
        "plt.plot(plot, spl_smooth, label='Tf-Idf')\n",
        "\n",
        "prec = (scores['tf-idf + ngram(1,2)'])['test_precision']\n",
        "prec = np.sort(prec)\n",
        "spl = make_interp_spline(T, prec, k=3)\n",
        "spl_smooth = spl(plot)\n",
        "plt.plot(plot, spl_smooth, label='Tf-Idf + ngrams(1,2)')\n",
        "\n",
        "prec = (scores['tf-idf + ngram(1,3)'])['test_precision']\n",
        "prec = np.sort(prec)\n",
        "spl = make_interp_spline(T, prec, k=3)\n",
        "spl_smooth = spl(plot)\n",
        "plt.plot(plot, spl_smooth, label='Tf-Idf + ngrams(1,3)')\n",
        "\n",
        "prec = (scores['tf-idf + ngram(1,4)'])['test_precision']\n",
        "prec = np.sort(prec)\n",
        "spl = make_interp_spline(T, prec, k=3)\n",
        "spl_smooth = spl(plot)\n",
        "plt.plot(plot, spl_smooth, label='Tf-Idf + ngrams(1,4)')\n",
        "\n",
        "plt.legend(loc='best')\n",
        "plt.show()\n",
        "\"\"\""
      ],
      "execution_count": null,
      "outputs": []
    },
    {
      "cell_type": "code",
      "metadata": {
        "id": "SfuwX3ROoaus"
      },
      "source": [
        "\"\"\"\n",
        "T = np.array(range(0,5))\n",
        "plot = np.linspace(T.min(), T.max(), 300)\n",
        "\n",
        "prec = (scores['tf-idf + ngram(1,2) + svd + 10 comp'])['test_precision']\n",
        "prec = np.sort(prec)\n",
        "spl = make_interp_spline(T, prec, k=3)\n",
        "spl_smooth = spl(plot)\n",
        "plt.plot(plot, spl_smooth, label='Tf-Idf(1,2) + SVD(10)')\n",
        "\n",
        "prec = (scores['tf-idf + ngram(1,2) + svd + 8 comp'])['test_precision']\n",
        "prec = np.sort(prec)\n",
        "spl = make_interp_spline(T, prec, k=3)\n",
        "spl_smooth = spl(plot)\n",
        "plt.plot(plot, spl_smooth, label='Tf-Idf(1,2) + SVD(8)')\n",
        "\n",
        "prec = (scores['tf-idf + ngram(1,2)'])['test_precision']\n",
        "prec = np.sort(prec)\n",
        "spl = make_interp_spline(T, prec, k=3)\n",
        "spl_smooth = spl(plot)\n",
        "plt.plot(plot, spl_smooth, label='Tf-Idf(1,2)')\n",
        "\n",
        "plt.legend()\n",
        "plt.show()\n",
        "\"\"\""
      ],
      "execution_count": null,
      "outputs": []
    },
    {
      "cell_type": "code",
      "metadata": {
        "id": "7cIgHHA-9APQ"
      },
      "source": [
        "\"\"\"\n",
        "prec = (scores['count-vec'])['test_precision']\n",
        "prec = np.sort(prec)\n",
        "spl = make_interp_spline(T, prec, k=3)\n",
        "spl_smooth = spl(plot)\n",
        "plt.plot(plot, spl_smooth, label='CountVec')\n",
        "\n",
        "prec = (scores['count-vec + ngram(1,2)'])['test_precision']\n",
        "prec = np.sort(prec)\n",
        "spl = make_interp_spline(T, prec, k=3)\n",
        "spl_smooth = spl(plot)\n",
        "plt.plot(plot, spl_smooth, label='CountVec + ngrams(1,2)')\n",
        "\n",
        "prec = (scores['count-vec + ngram(1,3)'])['test_precision']\n",
        "prec = np.sort(prec)\n",
        "spl = make_interp_spline(T, prec, k=3)\n",
        "spl_smooth = spl(plot)\n",
        "plt.plot(plot, spl_smooth, label='CountVec + ngrams(1,3)')\n",
        "\n",
        "prec = (scores['count-vec + ngram(1,4)'])['test_precision']\n",
        "prec = np.sort(prec)\n",
        "spl = make_interp_spline(T, prec, k=3)\n",
        "spl_smooth = spl(plot)\n",
        "plt.plot(plot, spl_smooth, label='CountVec + ngrams(1,4)')\n",
        "\n",
        "plt.legend(loc='best')\n",
        "plt.show()\n",
        "\"\"\""
      ],
      "execution_count": null,
      "outputs": []
    },
    {
      "cell_type": "code",
      "metadata": {
        "id": "dyvm3nG-96gJ"
      },
      "source": [
        "\"\"\"\n",
        "T = np.array(range(0,5))\n",
        "plot = np.linspace(T.min(), T.max(), 300)\n",
        "\n",
        "prec = (scores['count-vec + ngram(1,2) + svd + 10 comp'])['test_precision']\n",
        "prec = np.sort(prec)\n",
        "spl = make_interp_spline(T, prec, k=3)\n",
        "spl_smooth = spl(plot)\n",
        "plt.plot(plot, spl_smooth, label='CountVec(1,2) + SVD(10)')\n",
        "\n",
        "prec = (scores['count-vec + ngram(1,2) + svd + 8 comp'])['test_precision']\n",
        "prec = np.sort(prec)\n",
        "spl = make_interp_spline(T, prec, k=3)\n",
        "spl_smooth = spl(plot)\n",
        "plt.plot(plot, spl_smooth, label='CountVec(1,2) + SVD(8)')\n",
        "\n",
        "prec = (scores['count-vec + ngram(1,2)'])['test_precision']\n",
        "prec = np.sort(prec)\n",
        "spl = make_interp_spline(T, prec, k=3)\n",
        "spl_smooth = spl(plot)\n",
        "plt.plot(plot, spl_smooth, label='CountVec + ngrams(1,2)')\n",
        "\n",
        "plt.legend()\n",
        "plt.show()\n",
        "\"\"\""
      ],
      "execution_count": null,
      "outputs": []
    },
    {
      "cell_type": "code",
      "metadata": {
        "id": "W0_5Vv229YrN"
      },
      "source": [
        "\"\"\"\n",
        "prec = (scores['tf-idf + ngram(1,2)'])['test_precision']\n",
        "prec = np.sort(prec)\n",
        "spl = make_interp_spline(T, prec, k=3)\n",
        "spl_smooth = spl(plot)\n",
        "plt.plot(plot, spl_smooth, label='Tf-Idf(1,2)')\n",
        "\n",
        "prec = (scores['count-vec + ngram(1,2)'])['test_precision']\n",
        "prec = np.sort(prec)\n",
        "spl = make_interp_spline(T, prec, k=3)\n",
        "spl_smooth = spl(plot)\n",
        "plt.plot(plot, spl_smooth, label='CountVec + ngrams(1,2)')\n",
        "\n",
        "prec = (scores['count-vec + ngram(1,3)'])['test_precision']\n",
        "prec = np.sort(prec)\n",
        "spl = make_interp_spline(T, prec, k=3)\n",
        "spl_smooth = spl(plot)\n",
        "plt.plot(plot, spl_smooth, label='CountVec + ngrams(1,3)')\n",
        "\n",
        "prec = (scores['count-vec + ngram(1,4)'])['test_precision']\n",
        "prec = np.sort(prec)\n",
        "spl = make_interp_spline(T, prec, k=3)\n",
        "spl_smooth = spl(plot)\n",
        "plt.plot(plot, spl_smooth, label='CountVec + ngrams(1,4)')\n",
        "\n",
        "plt.legend(loc='best')\n",
        "plt.show()\n",
        "\"\"\""
      ],
      "execution_count": null,
      "outputs": []
    },
    {
      "cell_type": "markdown",
      "metadata": {
        "id": "15lqClOhV2HE"
      },
      "source": [
        "### Test model on validation set\n"
      ]
    },
    {
      "cell_type": "code",
      "metadata": {
        "colab": {
          "base_uri": "https://localhost:8080/"
        },
        "id": "4YTBqzb0OFqE",
        "outputId": "25e30afd-ce9d-4079-b647-527a2c925c24"
      },
      "source": [
        "from sklearn.metrics import f1_score, precision_score, recall_score\n",
        "\n",
        "model = create_pipeline()\n",
        "model.fit(X_train, y_train)\n",
        "y_pred = model.predict(X_test)\n",
        "\n",
        "print(\"Precision Score: \", precision_score(y_test, y_pred, average='micro'))\n",
        "print(\"Recall Score: \", recall_score(y_test, y_pred, average='micro'))\n",
        "print(\"F1 Score: \", f1_score(y_test, y_pred, average='micro'))"
      ],
      "execution_count": 148,
      "outputs": [
        {
          "output_type": "stream",
          "name": "stdout",
          "text": [
            "Precision Score:  0.7296231375985978\n",
            "Recall Score:  0.7296231375985978\n",
            "F1 Score:  0.7296231375985978\n"
          ]
        }
      ]
    },
    {
      "cell_type": "markdown",
      "metadata": {
        "id": "QcLPdd1FV9Yq"
      },
      "source": [
        "### Compute and plot learning curves"
      ]
    },
    {
      "cell_type": "code",
      "metadata": {
        "id": "pT9YQqbJY_a-"
      },
      "source": [
        "chunk = df_test.shape[0]"
      ],
      "execution_count": 149,
      "outputs": []
    },
    {
      "cell_type": "code",
      "metadata": {
        "colab": {
          "base_uri": "https://localhost:8080/"
        },
        "id": "Q-AYNFNLUDe8",
        "outputId": "abcdb4a5-df6f-4798-e4f6-1dced23403c0"
      },
      "source": [
        "df_val = df_train.sample(n=chunk, random_state=42)\n",
        "df_tr = df_train.drop(df_val.index)\n",
        "\n",
        "print(df_tr.shape, df_val.shape)"
      ],
      "execution_count": 150,
      "outputs": [
        {
          "output_type": "stream",
          "name": "stdout",
          "text": [
            "(13694, 3) (2282, 3)\n"
          ]
        }
      ]
    },
    {
      "cell_type": "code",
      "metadata": {
        "id": "Gdw948xnYu0u"
      },
      "source": [
        "splits = np.linspace(.1, 1.0, 5)\n",
        "train_scores = {'precision':[], 'recall':[], 'f1':[]}\n",
        "test_scores = {'precision':[], 'recall':[], 'f1':[]}"
      ],
      "execution_count": 151,
      "outputs": []
    },
    {
      "cell_type": "code",
      "metadata": {
        "id": "fhcwkHwBbLUo"
      },
      "source": [
        "def compute_scores(scores, y_actual, y_pred):\n",
        "  scores['precision'].append(precision_score(y_actual, y_pred, average='micro'))\n",
        "  scores['recall'].append(recall_score(y_actual, y_pred, average='micro'))\n",
        "  scores['f1'].append(f1_score(y_actual, y_pred, average='micro'))"
      ],
      "execution_count": 152,
      "outputs": []
    },
    {
      "cell_type": "code",
      "metadata": {
        "id": "MqepcDB9aS4l"
      },
      "source": [
        "def data_label_split(df):\n",
        "  return (df['cleaned_tweet'], df['label'])"
      ],
      "execution_count": 153,
      "outputs": []
    },
    {
      "cell_type": "code",
      "metadata": {
        "id": "gLfdpEaR7-pT"
      },
      "source": [
        "import numpy as np\n",
        "\n",
        "X_val, y_val = data_label_split(df_val)\n",
        "X_test, y_test = data_label_split(df_test)\n",
        "pip = create_pipeline()\n",
        "for split in splits:\n",
        "  # get a chunk of train set\n",
        "  X = df_tr.sample(frac = split)\n",
        "  X_train, y_train = data_label_split(X)\n",
        "  # train model\n",
        "  pip.fit(X_train, y_train)\n",
        "  # predict on the rest of the train set\n",
        "  y_pred = pip.predict(X_val)\n",
        "  compute_scores(train_scores, y_val, y_pred)\n",
        "  #predict on validation set\n",
        "  y_pred = pip.predict(X_test)\n",
        "  compute_scores(test_scores, y_test, y_pred)\n"
      ],
      "execution_count": 154,
      "outputs": []
    },
    {
      "cell_type": "code",
      "metadata": {
        "colab": {
          "base_uri": "https://localhost:8080/"
        },
        "id": "ahBBYjXuI8sk",
        "outputId": "f72e9587-2b5b-4ef8-975e-d50552b860f6"
      },
      "source": [
        "print(train_scores)\n",
        "print(test_scores)"
      ],
      "execution_count": 155,
      "outputs": [
        {
          "output_type": "stream",
          "name": "stdout",
          "text": [
            "{'precision': [0.6652059596844873, 0.6910604732690623, 0.708150744960561, 0.7156003505696757, 0.7208588957055214], 'recall': [0.6652059596844873, 0.6910604732690623, 0.708150744960561, 0.7156003505696757, 0.7208588957055214], 'f1': [0.6652059596844873, 0.6910604732690623, 0.708150744960561, 0.7156003505696757, 0.7208588957055214]}\n",
            "{'precision': [0.6555652936021035, 0.6958808063102542, 0.708150744960561, 0.7195442594215601, 0.7256792287467134], 'recall': [0.6555652936021035, 0.6958808063102542, 0.708150744960561, 0.7195442594215601, 0.7256792287467134], 'f1': [0.6555652936021035, 0.6958808063102542, 0.708150744960561, 0.7195442594215601, 0.7256792287467133]}\n"
          ]
        }
      ]
    },
    {
      "cell_type": "code",
      "metadata": {
        "colab": {
          "base_uri": "https://localhost:8080/",
          "height": 295
        },
        "id": "yihx8EP3myV3",
        "outputId": "fdaf432c-5e89-415f-9f72-be2d425ca3ad"
      },
      "source": [
        "plt.plot(splits, train_scores['f1'], color='blue', markersize=5, label='Train Score')\n",
        "plt.plot(splits, test_scores['f1'], color='green', markersize=5, linestyle='--', label='Validation Score')\n",
        "plt.title('Learning Curve')\n",
        "plt.xlabel('Training Data Size')\n",
        "plt.ylabel('F1 Scores')\n",
        "# plt.legend(loc='lower right')\n",
        "plt.show()"
      ],
      "execution_count": 156,
      "outputs": [
        {
          "output_type": "display_data",
          "data": {
            "image/png": "[encoded data removed]",
            "text/plain": [
              "<Figure size 432x288 with 1 Axes>"
            ]
          },
          "metadata": {
            "needs_background": "light"
          }
        }
      ]
    },
    {
      "cell_type": "code",
      "metadata": {
        "colab": {
          "base_uri": "https://localhost:8080/",
          "height": 295
        },
        "id": "hO_o_HGrUL8k",
        "outputId": "3e6465d5-9d1f-4900-a5a4-2d4f17f3255a"
      },
      "source": [
        "plt.plot(splits, train_scores['precision'], color='blue', markersize=5, label='Train Score')\n",
        "plt.plot(splits, test_scores['precision'], color='green', markersize=5, linestyle='--', label='Validation Score')\n",
        "plt.title('Learning Curve')\n",
        "plt.xlabel('Training Data Size')\n",
        "plt.ylabel('Precision Scores')\n",
        "# plt.legend(loc='lower right')\n",
        "plt.show()"
      ],
      "execution_count": 157,
      "outputs": [
        {
          "output_type": "display_data",
          "data": {
            "image/png": "[encoded data removed]",
            "text/plain": [
              "<Figure size 432x288 with 1 Axes>"
            ]
          },
          "metadata": {
            "needs_background": "light"
          }
        }
      ]
    },
    {
      "cell_type": "code",
      "metadata": {
        "colab": {
          "base_uri": "https://localhost:8080/",
          "height": 295
        },
        "id": "gySexJmCUP3Z",
        "outputId": "01e93981-23ee-4beb-f124-526e59d8a60f"
      },
      "source": [
        "plt.plot(splits, train_scores['recall'], color='blue', markersize=5, label='Train Score')\n",
        "plt.plot(splits, test_scores['recall'], color='green', markersize=5, linestyle='--', label='Validation Score')\n",
        "plt.title('Learning Curve')\n",
        "plt.xlabel('Training Data Size')\n",
        "plt.ylabel('Recall Scores')\n",
        "# plt.legend(loc='lower right')\n",
        "plt.show()"
      ],
      "execution_count": 158,
      "outputs": [
        {
          "output_type": "display_data",
          "data": {
            "image/png": "[encoded data removed]",
            "text/plain": [
              "<Figure size 432x288 with 1 Axes>"
            ]
          },
          "metadata": {
            "needs_background": "light"
          }
        }
      ]
    }
  ]
}
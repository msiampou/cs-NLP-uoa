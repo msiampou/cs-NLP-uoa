{
  "cells": [
    {
      "cell_type": "markdown",
      "source": [
        "## Importing libraries"
      ],
      "metadata": {
        "id": "UxQOUPAyAwgT"
      }
    },
    {
      "cell_type": "markdown",
      "metadata": {
        "id": "-9zFOEmFImIt"
      },
      "source": [
        "###Mount on drive"
      ]
    },
    {
      "cell_type": "code",
      "execution_count": 1,
      "metadata": {
        "colab": {
          "base_uri": "https://localhost:8080/"
        },
        "id": "PfcKWVa_wOGD",
        "outputId": "c368be4a-ebde-4a8d-ba2a-6a98bdef6f12"
      },
      "outputs": [
        {
          "output_type": "stream",
          "name": "stdout",
          "text": [
            "Mounted at /content/gdrive\n"
          ]
        }
      ],
      "source": [
        "from google.colab import drive\n",
        "drive.mount('/content/gdrive')"
      ]
    },
    {
      "cell_type": "markdown",
      "metadata": {
        "id": "lILMKTRBIt4X"
      },
      "source": [
        "### Download related libraries"
      ]
    },
    {
      "cell_type": "code",
      "execution_count": 2,
      "metadata": {
        "colab": {
          "base_uri": "https://localhost:8080/"
        },
        "id": "vVLXimHjHNTC",
        "outputId": "dea00f2d-0ec6-489e-d9bb-ff315d4e9979"
      },
      "outputs": [
        {
          "output_type": "stream",
          "name": "stdout",
          "text": [
            "[nltk_data] Downloading package stopwords to /root/nltk_data...\n",
            "[nltk_data]   Unzipping corpora/stopwords.zip.\n",
            "[nltk_data] Downloading package punkt to /root/nltk_data...\n",
            "[nltk_data]   Unzipping tokenizers/punkt.zip.\n"
          ]
        }
      ],
      "source": [
        "import nltk\n",
        "nltk.download('stopwords')\n",
        "\n",
        "import nltk\n",
        "nltk.download('punkt')\n",
        "\n",
        "from nltk.stem.porter import PorterStemmer\n",
        "from nltk.stem import WordNetLemmatizer\n",
        "from nltk.stem.snowball import SnowballStemmer"
      ]
    },
    {
      "cell_type": "code",
      "execution_count": 3,
      "metadata": {
        "colab": {
          "base_uri": "https://localhost:8080/"
        },
        "id": "-x1NVkmWI8TC",
        "outputId": "d7bc7ac4-40a1-4c24-b0e0-f1bddcafcab1"
      },
      "outputs": [
        {
          "output_type": "stream",
          "name": "stdout",
          "text": [
            "[nltk_data] Downloading package stopwords to /root/nltk_data...\n",
            "[nltk_data]   Package stopwords is already up-to-date!\n",
            "[nltk_data] Downloading package punkt to /root/nltk_data...\n",
            "[nltk_data]   Package punkt is already up-to-date!\n",
            "[nltk_data] Downloading package wordnet to /root/nltk_data...\n",
            "[nltk_data]   Unzipping corpora/wordnet.zip.\n"
          ]
        }
      ],
      "source": [
        "nltk.download('stopwords')\n",
        "nltk.download('punkt')\n",
        "nltk.download('wordnet')\n",
        "stemmerPorter = PorterStemmer()\n",
        "stemmerSnow = nltk.SnowballStemmer(language='english')\n",
        "lemmatizer = WordNetLemmatizer()"
      ]
    },
    {
      "cell_type": "code",
      "source": [
        "!pip install scikit-plot"
      ],
      "metadata": {
        "colab": {
          "base_uri": "https://localhost:8080/"
        },
        "id": "I-t4SVIV8dG0",
        "outputId": "1ecd4228-57c7-4d6d-b565-e8a8820e2767"
      },
      "execution_count": 4,
      "outputs": [
        {
          "output_type": "stream",
          "name": "stdout",
          "text": [
            "Collecting scikit-plot\n",
            "  Downloading scikit_plot-0.3.7-py3-none-any.whl (33 kB)\n",
            "Requirement already satisfied: scipy>=0.9 in /usr/local/lib/python3.7/dist-packages (from scikit-plot) (1.4.1)\n",
            "Requirement already satisfied: matplotlib>=1.4.0 in /usr/local/lib/python3.7/dist-packages (from scikit-plot) (3.2.2)\n",
            "Requirement already satisfied: scikit-learn>=0.18 in /usr/local/lib/python3.7/dist-packages (from scikit-plot) (1.0.2)\n",
            "Requirement already satisfied: joblib>=0.10 in /usr/local/lib/python3.7/dist-packages (from scikit-plot) (1.1.0)\n",
            "Requirement already satisfied: cycler>=0.10 in /usr/local/lib/python3.7/dist-packages (from matplotlib>=1.4.0->scikit-plot) (0.11.0)\n",
            "Requirement already satisfied: numpy>=1.11 in /usr/local/lib/python3.7/dist-packages (from matplotlib>=1.4.0->scikit-plot) (1.19.5)\n",
            "Requirement already satisfied: pyparsing!=2.0.4,!=2.1.2,!=2.1.6,>=2.0.1 in /usr/local/lib/python3.7/dist-packages (from matplotlib>=1.4.0->scikit-plot) (3.0.7)\n",
            "Requirement already satisfied: python-dateutil>=2.1 in /usr/local/lib/python3.7/dist-packages (from matplotlib>=1.4.0->scikit-plot) (2.8.2)\n",
            "Requirement already satisfied: kiwisolver>=1.0.1 in /usr/local/lib/python3.7/dist-packages (from matplotlib>=1.4.0->scikit-plot) (1.3.2)\n",
            "Requirement already satisfied: six>=1.5 in /usr/local/lib/python3.7/dist-packages (from python-dateutil>=2.1->matplotlib>=1.4.0->scikit-plot) (1.15.0)\n",
            "Requirement already satisfied: threadpoolctl>=2.0.0 in /usr/local/lib/python3.7/dist-packages (from scikit-learn>=0.18->scikit-plot) (3.0.0)\n",
            "Installing collected packages: scikit-plot\n",
            "Successfully installed scikit-plot-0.3.7\n"
          ]
        }
      ]
    },
    {
      "cell_type": "code",
      "execution_count": 5,
      "metadata": {
        "id": "3tcKAeDmZV7k"
      },
      "outputs": [],
      "source": [
        "import numpy as np\n",
        "import matplotlib.pyplot as plt\n",
        "import matplotlib.pyplot as plt\n",
        "import statistics\n",
        "from scipy.interpolate import make_interp_spline, BSpline"
      ]
    },
    {
      "cell_type": "markdown",
      "metadata": {
        "id": "vzr3WO6mI4MP"
      },
      "source": [
        "## Load and explore datasets"
      ]
    },
    {
      "cell_type": "code",
      "execution_count": 6,
      "metadata": {
        "id": "tyyigq7FyyE8"
      },
      "outputs": [],
      "source": [
        "train_csv = '/content/gdrive/My Drive/datasets/vaccine_train_set.csv'\n",
        "\n",
        "test_csv = '/content/gdrive/My Drive/datasets/vaccine_validation_set.csv'"
      ]
    },
    {
      "cell_type": "code",
      "execution_count": 7,
      "metadata": {
        "colab": {
          "base_uri": "https://localhost:8080/",
          "height": 206
        },
        "id": "saR-9UAR0DyR",
        "outputId": "61518123-2f81-4c00-d518-87de0b5a5454"
      },
      "outputs": [
        {
          "output_type": "execute_result",
          "data": {
            "text/html": [
              "\n",
              "  <div id=\"df-ac747150-a0d4-4426-9800-ea543734decb\">\n",
              "    <div class=\"colab-df-container\">\n",
              "      <div>\n",
              "<style scoped>\n",
              "    .dataframe tbody tr th:only-of-type {\n",
              "        vertical-align: middle;\n",
              "    }\n",
              "\n",
              "    .dataframe tbody tr th {\n",
              "        vertical-align: top;\n",
              "    }\n",
              "\n",
              "    .dataframe thead th {\n",
              "        text-align: right;\n",
              "    }\n",
              "</style>\n",
              "<table border=\"1\" class=\"dataframe\">\n",
              "  <thead>\n",
              "    <tr style=\"text-align: right;\">\n",
              "      <th></th>\n",
              "      <th>Unnamed: 0</th>\n",
              "      <th>tweet</th>\n",
              "      <th>label</th>\n",
              "    </tr>\n",
              "  </thead>\n",
              "  <tbody>\n",
              "    <tr>\n",
              "      <th>0</th>\n",
              "      <td>0</td>\n",
              "      <td>Sip N Shop Come thru right now #Marjais #Popul...</td>\n",
              "      <td>0</td>\n",
              "    </tr>\n",
              "    <tr>\n",
              "      <th>1</th>\n",
              "      <td>1</td>\n",
              "      <td>I don't know about you but My family and I wil...</td>\n",
              "      <td>1</td>\n",
              "    </tr>\n",
              "    <tr>\n",
              "      <th>2</th>\n",
              "      <td>2</td>\n",
              "      <td>@MSignorile Immunizations should be mandatory....</td>\n",
              "      <td>2</td>\n",
              "    </tr>\n",
              "    <tr>\n",
              "      <th>3</th>\n",
              "      <td>3</td>\n",
              "      <td>President Obama spoke in favor of vaccination ...</td>\n",
              "      <td>0</td>\n",
              "    </tr>\n",
              "    <tr>\n",
              "      <th>4</th>\n",
              "      <td>4</td>\n",
              "      <td>\"@myfoxla: Arizona monitoring hundreds for mea...</td>\n",
              "      <td>0</td>\n",
              "    </tr>\n",
              "  </tbody>\n",
              "</table>\n",
              "</div>\n",
              "      <button class=\"colab-df-convert\" onclick=\"convertToInteractive('df-ac747150-a0d4-4426-9800-ea543734decb')\"\n",
              "              title=\"Convert this dataframe to an interactive table.\"\n",
              "              style=\"display:none;\">\n",
              "        \n",
              "  <svg xmlns=\"http://www.w3.org/2000/svg\" height=\"24px\"viewBox=\"0 0 24 24\"\n",
              "       width=\"24px\">\n",
              "    <path d=\"M0 0h24v24H0V0z\" fill=\"none\"/>\n",
              "    <path d=\"M18.56 5.44l.94 2.06.94-2.06 2.06-.94-2.06-.94-.94-2.06-.94 2.06-2.06.94zm-11 1L8.5 8.5l.94-2.06 2.06-.94-2.06-.94L8.5 2.5l-.94 2.06-2.06.94zm10 10l.94 2.06.94-2.06 2.06-.94-2.06-.94-.94-2.06-.94 2.06-2.06.94z\"/><path d=\"M17.41 7.96l-1.37-1.37c-.4-.4-.92-.59-1.43-.59-.52 0-1.04.2-1.43.59L10.3 9.45l-7.72 7.72c-.78.78-.78 2.05 0 2.83L4 21.41c.39.39.9.59 1.41.59.51 0 1.02-.2 1.41-.59l7.78-7.78 2.81-2.81c.8-.78.8-2.07 0-2.86zM5.41 20L4 18.59l7.72-7.72 1.47 1.35L5.41 20z\"/>\n",
              "  </svg>\n",
              "      </button>\n",
              "      \n",
              "  <style>\n",
              "    .colab-df-container {\n",
              "      display:flex;\n",
              "      flex-wrap:wrap;\n",
              "      gap: 12px;\n",
              "    }\n",
              "\n",
              "    .colab-df-convert {\n",
              "      background-color: #E8F0FE;\n",
              "      border: none;\n",
              "      border-radius: 50%;\n",
              "      cursor: pointer;\n",
              "      display: none;\n",
              "      fill: #1967D2;\n",
              "      height: 32px;\n",
              "      padding: 0 0 0 0;\n",
              "      width: 32px;\n",
              "    }\n",
              "\n",
              "    .colab-df-convert:hover {\n",
              "      background-color: #E2EBFA;\n",
              "      box-shadow: 0px 1px 2px rgba(60, 64, 67, 0.3), 0px 1px 3px 1px rgba(60, 64, 67, 0.15);\n",
              "      fill: #174EA6;\n",
              "    }\n",
              "\n",
              "    [theme=dark] .colab-df-convert {\n",
              "      background-color: #3B4455;\n",
              "      fill: #D2E3FC;\n",
              "    }\n",
              "\n",
              "    [theme=dark] .colab-df-convert:hover {\n",
              "      background-color: #434B5C;\n",
              "      box-shadow: 0px 1px 3px 1px rgba(0, 0, 0, 0.15);\n",
              "      filter: drop-shadow(0px 1px 2px rgba(0, 0, 0, 0.3));\n",
              "      fill: #FFFFFF;\n",
              "    }\n",
              "  </style>\n",
              "\n",
              "      <script>\n",
              "        const buttonEl =\n",
              "          document.querySelector('#df-ac747150-a0d4-4426-9800-ea543734decb button.colab-df-convert');\n",
              "        buttonEl.style.display =\n",
              "          google.colab.kernel.accessAllowed ? 'block' : 'none';\n",
              "\n",
              "        async function convertToInteractive(key) {\n",
              "          const element = document.querySelector('#df-ac747150-a0d4-4426-9800-ea543734decb');\n",
              "          const dataTable =\n",
              "            await google.colab.kernel.invokeFunction('convertToInteractive',\n",
              "                                                     [key], {});\n",
              "          if (!dataTable) return;\n",
              "\n",
              "          const docLinkHtml = 'Like what you see? Visit the ' +\n",
              "            '<a target=\"_blank\" href=https://colab.research.google.com/notebooks/data_table.ipynb>data table notebook</a>'\n",
              "            + ' to learn more about interactive tables.';\n",
              "          element.innerHTML = '';\n",
              "          dataTable['output_type'] = 'display_data';\n",
              "          await google.colab.output.renderOutput(dataTable, element);\n",
              "          const docLink = document.createElement('div');\n",
              "          docLink.innerHTML = docLinkHtml;\n",
              "          element.appendChild(docLink);\n",
              "        }\n",
              "      </script>\n",
              "    </div>\n",
              "  </div>\n",
              "  "
            ],
            "text/plain": [
              "   Unnamed: 0                                              tweet  label\n",
              "0           0  Sip N Shop Come thru right now #Marjais #Popul...      0\n",
              "1           1  I don't know about you but My family and I wil...      1\n",
              "2           2  @MSignorile Immunizations should be mandatory....      2\n",
              "3           3  President Obama spoke in favor of vaccination ...      0\n",
              "4           4  \"@myfoxla: Arizona monitoring hundreds for mea...      0"
            ]
          },
          "metadata": {},
          "execution_count": 7
        }
      ],
      "source": [
        "import pandas as pd\n",
        "\n",
        "df_train = pd.read_csv(train_csv)\n",
        "\n",
        "df_train.head()"
      ]
    },
    {
      "cell_type": "code",
      "execution_count": 8,
      "metadata": {
        "colab": {
          "base_uri": "https://localhost:8080/"
        },
        "id": "i8o1Z-bJ1qfH",
        "outputId": "e62d2726-d10a-4ba3-9f34-07b2e8993bcb"
      },
      "outputs": [
        {
          "output_type": "execute_result",
          "data": {
            "text/plain": [
              "(15976, 3)"
            ]
          },
          "metadata": {},
          "execution_count": 8
        }
      ],
      "source": [
        "df_train.shape"
      ]
    },
    {
      "cell_type": "code",
      "execution_count": 9,
      "metadata": {
        "id": "PdZ1RbpsrK87"
      },
      "outputs": [],
      "source": [
        "df_train = df_train.drop(['Unnamed: 0'], axis=1)"
      ]
    },
    {
      "cell_type": "code",
      "execution_count": 10,
      "metadata": {
        "colab": {
          "base_uri": "https://localhost:8080/",
          "height": 206
        },
        "id": "cZZcFXrR0Yd3",
        "outputId": "9fed1207-7f51-4a91-a569-b4c37c3a68bc"
      },
      "outputs": [
        {
          "output_type": "execute_result",
          "data": {
            "text/html": [
              "\n",
              "  <div id=\"df-268f211a-d31a-4cb8-a5b1-4b968355088b\">\n",
              "    <div class=\"colab-df-container\">\n",
              "      <div>\n",
              "<style scoped>\n",
              "    .dataframe tbody tr th:only-of-type {\n",
              "        vertical-align: middle;\n",
              "    }\n",
              "\n",
              "    .dataframe tbody tr th {\n",
              "        vertical-align: top;\n",
              "    }\n",
              "\n",
              "    .dataframe thead th {\n",
              "        text-align: right;\n",
              "    }\n",
              "</style>\n",
              "<table border=\"1\" class=\"dataframe\">\n",
              "  <thead>\n",
              "    <tr style=\"text-align: right;\">\n",
              "      <th></th>\n",
              "      <th>Unnamed: 0</th>\n",
              "      <th>tweet</th>\n",
              "      <th>label</th>\n",
              "    </tr>\n",
              "  </thead>\n",
              "  <tbody>\n",
              "    <tr>\n",
              "      <th>0</th>\n",
              "      <td>0</td>\n",
              "      <td>@user They had a massive surge in with covid d...</td>\n",
              "      <td>1</td>\n",
              "    </tr>\n",
              "    <tr>\n",
              "      <th>1</th>\n",
              "      <td>1</td>\n",
              "      <td>Required vaccines for school: Parents and guar...</td>\n",
              "      <td>0</td>\n",
              "    </tr>\n",
              "    <tr>\n",
              "      <th>2</th>\n",
              "      <td>2</td>\n",
              "      <td>“@KCStar: Two more Johnson County children hav...</td>\n",
              "      <td>0</td>\n",
              "    </tr>\n",
              "    <tr>\n",
              "      <th>3</th>\n",
              "      <td>3</td>\n",
              "      <td>NV can do better. Which states are the best (a...</td>\n",
              "      <td>2</td>\n",
              "    </tr>\n",
              "    <tr>\n",
              "      <th>4</th>\n",
              "      <td>4</td>\n",
              "      <td>Nothing like killing ourselves w/ our own fear...</td>\n",
              "      <td>2</td>\n",
              "    </tr>\n",
              "  </tbody>\n",
              "</table>\n",
              "</div>\n",
              "      <button class=\"colab-df-convert\" onclick=\"convertToInteractive('df-268f211a-d31a-4cb8-a5b1-4b968355088b')\"\n",
              "              title=\"Convert this dataframe to an interactive table.\"\n",
              "              style=\"display:none;\">\n",
              "        \n",
              "  <svg xmlns=\"http://www.w3.org/2000/svg\" height=\"24px\"viewBox=\"0 0 24 24\"\n",
              "       width=\"24px\">\n",
              "    <path d=\"M0 0h24v24H0V0z\" fill=\"none\"/>\n",
              "    <path d=\"M18.56 5.44l.94 2.06.94-2.06 2.06-.94-2.06-.94-.94-2.06-.94 2.06-2.06.94zm-11 1L8.5 8.5l.94-2.06 2.06-.94-2.06-.94L8.5 2.5l-.94 2.06-2.06.94zm10 10l.94 2.06.94-2.06 2.06-.94-2.06-.94-.94-2.06-.94 2.06-2.06.94z\"/><path d=\"M17.41 7.96l-1.37-1.37c-.4-.4-.92-.59-1.43-.59-.52 0-1.04.2-1.43.59L10.3 9.45l-7.72 7.72c-.78.78-.78 2.05 0 2.83L4 21.41c.39.39.9.59 1.41.59.51 0 1.02-.2 1.41-.59l7.78-7.78 2.81-2.81c.8-.78.8-2.07 0-2.86zM5.41 20L4 18.59l7.72-7.72 1.47 1.35L5.41 20z\"/>\n",
              "  </svg>\n",
              "      </button>\n",
              "      \n",
              "  <style>\n",
              "    .colab-df-container {\n",
              "      display:flex;\n",
              "      flex-wrap:wrap;\n",
              "      gap: 12px;\n",
              "    }\n",
              "\n",
              "    .colab-df-convert {\n",
              "      background-color: #E8F0FE;\n",
              "      border: none;\n",
              "      border-radius: 50%;\n",
              "      cursor: pointer;\n",
              "      display: none;\n",
              "      fill: #1967D2;\n",
              "      height: 32px;\n",
              "      padding: 0 0 0 0;\n",
              "      width: 32px;\n",
              "    }\n",
              "\n",
              "    .colab-df-convert:hover {\n",
              "      background-color: #E2EBFA;\n",
              "      box-shadow: 0px 1px 2px rgba(60, 64, 67, 0.3), 0px 1px 3px 1px rgba(60, 64, 67, 0.15);\n",
              "      fill: #174EA6;\n",
              "    }\n",
              "\n",
              "    [theme=dark] .colab-df-convert {\n",
              "      background-color: #3B4455;\n",
              "      fill: #D2E3FC;\n",
              "    }\n",
              "\n",
              "    [theme=dark] .colab-df-convert:hover {\n",
              "      background-color: #434B5C;\n",
              "      box-shadow: 0px 1px 3px 1px rgba(0, 0, 0, 0.15);\n",
              "      filter: drop-shadow(0px 1px 2px rgba(0, 0, 0, 0.3));\n",
              "      fill: #FFFFFF;\n",
              "    }\n",
              "  </style>\n",
              "\n",
              "      <script>\n",
              "        const buttonEl =\n",
              "          document.querySelector('#df-268f211a-d31a-4cb8-a5b1-4b968355088b button.colab-df-convert');\n",
              "        buttonEl.style.display =\n",
              "          google.colab.kernel.accessAllowed ? 'block' : 'none';\n",
              "\n",
              "        async function convertToInteractive(key) {\n",
              "          const element = document.querySelector('#df-268f211a-d31a-4cb8-a5b1-4b968355088b');\n",
              "          const dataTable =\n",
              "            await google.colab.kernel.invokeFunction('convertToInteractive',\n",
              "                                                     [key], {});\n",
              "          if (!dataTable) return;\n",
              "\n",
              "          const docLinkHtml = 'Like what you see? Visit the ' +\n",
              "            '<a target=\"_blank\" href=https://colab.research.google.com/notebooks/data_table.ipynb>data table notebook</a>'\n",
              "            + ' to learn more about interactive tables.';\n",
              "          element.innerHTML = '';\n",
              "          dataTable['output_type'] = 'display_data';\n",
              "          await google.colab.output.renderOutput(dataTable, element);\n",
              "          const docLink = document.createElement('div');\n",
              "          docLink.innerHTML = docLinkHtml;\n",
              "          element.appendChild(docLink);\n",
              "        }\n",
              "      </script>\n",
              "    </div>\n",
              "  </div>\n",
              "  "
            ],
            "text/plain": [
              "   Unnamed: 0                                              tweet  label\n",
              "0           0  @user They had a massive surge in with covid d...      1\n",
              "1           1  Required vaccines for school: Parents and guar...      0\n",
              "2           2  “@KCStar: Two more Johnson County children hav...      0\n",
              "3           3  NV can do better. Which states are the best (a...      2\n",
              "4           4  Nothing like killing ourselves w/ our own fear...      2"
            ]
          },
          "metadata": {},
          "execution_count": 10
        }
      ],
      "source": [
        "df_test = pd.read_csv(test_csv)\n",
        "\n",
        "df_test.head()"
      ]
    },
    {
      "cell_type": "code",
      "execution_count": 11,
      "metadata": {
        "colab": {
          "base_uri": "https://localhost:8080/"
        },
        "id": "OhKv9LqoOZqh",
        "outputId": "f273b497-3637-4827-afd2-1a84cf3a94a9"
      },
      "outputs": [
        {
          "output_type": "execute_result",
          "data": {
            "text/plain": [
              "(2282, 3)"
            ]
          },
          "metadata": {},
          "execution_count": 11
        }
      ],
      "source": [
        "df_test.shape"
      ]
    },
    {
      "cell_type": "code",
      "execution_count": 12,
      "metadata": {
        "id": "qU_agyWTyxH7"
      },
      "outputs": [],
      "source": [
        "df_test = df_test.drop(['Unnamed: 0'], axis=1)"
      ]
    },
    {
      "cell_type": "markdown",
      "metadata": {
        "id": "K8jUdiSPJEHF"
      },
      "source": [
        "## Data preprocessing"
      ]
    },
    {
      "cell_type": "markdown",
      "metadata": {
        "id": "YMEX-QCVImpm"
      },
      "source": [
        "#### Note: code bellow has been also implemented for the assignment of 'Big Data Mining Techniques'"
      ]
    },
    {
      "cell_type": "code",
      "execution_count": 13,
      "metadata": {
        "id": "XPr9u5fJGwpQ"
      },
      "outputs": [],
      "source": [
        "from nltk.corpus import stopwords\n",
        "import re\n",
        "from bs4 import BeautifulSoup\n",
        "from nltk.tokenize import word_tokenize as wt\n",
        "\n",
        "stopWords = set(stopwords.words('english'))"
      ]
    },
    {
      "cell_type": "code",
      "execution_count": 14,
      "metadata": {
        "id": "ejjfYwNIBYHs"
      },
      "outputs": [],
      "source": [
        "def stem(data):\n",
        "  f_data = []\n",
        "  for row in range(data.shape[0]):\n",
        "    merge = data.iloc[row, 2]\n",
        "    tokenized_text = wt(merge)\n",
        "    cleaned_text = []\n",
        "    for word in tokenized_text:\n",
        "      if word not in stopWords:\n",
        "        cleaned_text.append(stemmerSnow.stem(word))\n",
        "    final_text = ' '.join(cleaned_text)\n",
        "    f_data.append(final_text)\n",
        "  return data\n",
        "\n",
        "def data_cleaning(df):\n",
        "  df['cleaned_tweet'] = df['tweet'].apply(lambda x : re.sub(r'http\\S+', ' ', x))\n",
        "  df['cleaned_tweet'] = df['cleaned_tweet'].apply(lambda x : re.sub(r'https\\S+', ' ', x))\n",
        "  # df['cleaned_tweet'] = df['cleaned_tweet'].apply(lambda x : re.sub(r'@\\S+', ' ', x))\n",
        "  # df['cleaned_tweet'] = df['cleaned_tweet'].apply(lambda x : re.sub(r'#\\S+', ' ', x))\n",
        "  df['cleaned_tweet'] = df['cleaned_tweet'].str.lower()\n",
        "  # df['cleaned_tweet'] = df['cleaned_tweet'].str.encode('ascii', 'ignore').str.decode('ascii')\n",
        "  # df['cleaned_tweet'] = df['cleaned_tweet'].str.replace('[^\\w\\s@/:%.,_-]', ' ', flags=re.UNICODE)\n",
        "  df['cleaned_tweet'] = df['cleaned_tweet'].str.replace(r'[^\\w\\s]+', ' ', regex=True)\n",
        "  # df['cleaned_tweet'] = df['cleaned_tweet'].str.replace(r'<[^>]+>', ' ', regex=True)\n",
        "  # df['cleaned_tweet'] = df['cleaned_tweet'].apply(lambda x: re.sub(r\"@[A-Za-z0-9]+\", ' ', x))\n",
        "  df['cleaned_tweet'] = df['cleaned_tweet'].apply(lambda x: ' '.join([word for word in x.split() if word not in (stopWords)]))\n",
        "  # df['cleaned_tweet'] = df['cleaned_tweet'].str.replace(r'\\s+[a-zA-Z]\\s+', ' ', regex=True)\n",
        "  # df['cleaned_tweet'] = df['cleaned_tweet'].apply(lambda x : re.sub('<.*?>',' ', x))\n",
        "  # df['cleaned_tweet'] = df['cleaned_tweet'].str.replace(r'\\d+', ' ', regex=True)\n",
        "  # df['cleaned_tweet'] = df['cleaned_tweet'].str.replace(r'\\s+', ' ', regex=True)\n",
        "  stem(df)"
      ]
    },
    {
      "cell_type": "code",
      "execution_count": 15,
      "metadata": {
        "id": "lCSDiaHPzFSY"
      },
      "outputs": [],
      "source": [
        "data_cleaning(df_train)\n",
        "data_cleaning(df_test)"
      ]
    },
    {
      "cell_type": "code",
      "execution_count": 16,
      "metadata": {
        "id": "e99dnCVk6g6M"
      },
      "outputs": [],
      "source": [
        "import nltk\n",
        "\n",
        "df_train['tokenized_tweets'] = df_train.apply(lambda row: nltk.word_tokenize(row['cleaned_tweet']), axis=1)\n",
        "df_test['tokenized_tweets'] = df_test.apply(lambda row: nltk.word_tokenize(row['cleaned_tweet']), axis=1)"
      ]
    },
    {
      "cell_type": "code",
      "execution_count": 17,
      "metadata": {
        "colab": {
          "base_uri": "https://localhost:8080/",
          "height": 35
        },
        "id": "YJvQ7U_sZthz",
        "outputId": "ef0eb80d-3efa-48af-ebf4-0b83e0ff1dbe"
      },
      "outputs": [
        {
          "output_type": "execute_result",
          "data": {
            "application/vnd.google.colaboratory.intrinsic+json": {
              "type": "string"
            },
            "text/plain": [
              "'@user They had a massive surge in with covid deaths immediately after the vaccine rollout, way more than they had during the entirety of the \"pandemic\" up to that point. Fuck those jabs, Dr.Death.'"
            ]
          },
          "metadata": {},
          "execution_count": 17
        }
      ],
      "source": [
        "df_test.tweet[0]"
      ]
    },
    {
      "cell_type": "code",
      "execution_count": 18,
      "metadata": {
        "colab": {
          "base_uri": "https://localhost:8080/",
          "height": 35
        },
        "id": "Zgy78l0OZzpn",
        "outputId": "65ee8b8f-5eb6-49e9-a8b9-65c885a84bed"
      },
      "outputs": [
        {
          "output_type": "execute_result",
          "data": {
            "application/vnd.google.colaboratory.intrinsic+json": {
              "type": "string"
            },
            "text/plain": [
              "'user massive surge covid deaths immediately vaccine rollout way entirety pandemic point fuck jabs dr death'"
            ]
          },
          "metadata": {},
          "execution_count": 18
        }
      ],
      "source": [
        "df_test.cleaned_tweet[0]"
      ]
    },
    {
      "cell_type": "code",
      "execution_count": 19,
      "metadata": {
        "colab": {
          "base_uri": "https://localhost:8080/"
        },
        "id": "TV3Igrdz8Ks3",
        "outputId": "08b21912-8b00-4fde-c981-2bd532e01db6"
      },
      "outputs": [
        {
          "output_type": "execute_result",
          "data": {
            "text/plain": [
              "['user',\n",
              " 'massive',\n",
              " 'surge',\n",
              " 'covid',\n",
              " 'deaths',\n",
              " 'immediately',\n",
              " 'vaccine',\n",
              " 'rollout',\n",
              " 'way',\n",
              " 'entirety',\n",
              " 'pandemic',\n",
              " 'point',\n",
              " 'fuck',\n",
              " 'jabs',\n",
              " 'dr',\n",
              " 'death']"
            ]
          },
          "metadata": {},
          "execution_count": 19
        }
      ],
      "source": [
        "df_test.tokenized_tweets[0]"
      ]
    },
    {
      "cell_type": "markdown",
      "source": [
        "## Glove Embeddings"
      ],
      "metadata": {
        "id": "XjWsg_v5AsFm"
      }
    },
    {
      "cell_type": "markdown",
      "metadata": {
        "id": "uagLRedb11ec"
      },
      "source": [
        "### Download GloVe"
      ]
    },
    {
      "cell_type": "code",
      "execution_count": 20,
      "metadata": {
        "id": "jI3z26B31f2T",
        "colab": {
          "base_uri": "https://localhost:8080/"
        },
        "outputId": "a0f68c8d-70b2-4894-d3ed-998a39a18513"
      },
      "outputs": [
        {
          "output_type": "stream",
          "name": "stdout",
          "text": [
            "--2022-02-04 00:23:51--  https://nlp.stanford.edu/data/glove.6B.zip\n",
            "Resolving nlp.stanford.edu (nlp.stanford.edu)... 171.64.67.140\n",
            "Connecting to nlp.stanford.edu (nlp.stanford.edu)|171.64.67.140|:443... connected.\n",
            "HTTP request sent, awaiting response... 301 Moved Permanently\n",
            "Location: http://downloads.cs.stanford.edu/nlp/data/glove.6B.zip [following]\n",
            "--2022-02-04 00:23:51--  http://downloads.cs.stanford.edu/nlp/data/glove.6B.zip\n",
            "Resolving downloads.cs.stanford.edu (downloads.cs.stanford.edu)... 171.64.64.22\n",
            "Connecting to downloads.cs.stanford.edu (downloads.cs.stanford.edu)|171.64.64.22|:80... connected.\n",
            "HTTP request sent, awaiting response... 200 OK\n",
            "Length: 862182613 (822M) [application/zip]\n",
            "Saving to: ‘glove.6B.zip’\n",
            "\n",
            "glove.6B.zip        100%[===================>] 822.24M  5.07MB/s    in 2m 41s  \n",
            "\n",
            "2022-02-04 00:26:33 (5.10 MB/s) - ‘glove.6B.zip’ saved [862182613/862182613]\n",
            "\n",
            "Archive:  glove.6B.zip\n",
            "  inflating: glove.6B.50d.txt        \n",
            "  inflating: glove.6B.100d.txt       \n",
            "  inflating: glove.6B.200d.txt       \n",
            "  inflating: glove.6B.300d.txt       \n"
          ]
        }
      ],
      "source": [
        "!wget https://nlp.stanford.edu/data/glove.6B.zip\n",
        "!unzip glove.6B.zip"
      ]
    },
    {
      "cell_type": "markdown",
      "source": [
        "### Classes Related to Glove Embeddings costruction"
      ],
      "metadata": {
        "id": "ak2APqhhBIae"
      }
    },
    {
      "cell_type": "code",
      "execution_count": 21,
      "metadata": {
        "id": "rdwiY67WkLP-"
      },
      "outputs": [],
      "source": [
        "from keras.preprocessing.text import Tokenizer\n",
        "\n",
        "### Class to represent glove embeddings\n",
        "class GloVe_Emb():\n",
        "  ## Initialize\n",
        "  def __init__(self, file, dims):\n",
        "    self.glove_file = file\n",
        "    self.dims = dims\n",
        "    self.glove_dict = {}\n",
        "\n",
        "    with open(self.glove_file, 'r') as glove_embeddings:\n",
        "      for entry in glove_embeddings:\n",
        "        values = entry.split()\n",
        "        word = values[0]\n",
        "        vectors = np.asarray(values[1:], 'float32')\n",
        "        # create a dictionary from glove dataset\n",
        "        self.glove_dict[word] = vectors\n",
        "    glove_embeddings.close()\n",
        "\n",
        "  ## Associate dataset with glove embeddings\n",
        "  def dataset_embeddings(self, corpus):\n",
        "    corpus_embeddings = []\n",
        "    for _, tokens in enumerate(corpus):\n",
        "      # some tweets may have resulted in empty tokenization lists  \n",
        "      if len(tokens) != 0:\n",
        "        # initialize array with zeros   \n",
        "        tweet_embeddings = np.zeros((len(tokens), self.dims))\n",
        "        for idx, token in enumerate(tokens):\n",
        "          # if word exists in glove dictionary get its vector\n",
        "          if token in self.glove_dict:\n",
        "            tweet_embeddings[idx] = self.glove_dict[token]\n",
        "        # create an embedding vector for each tweet by calculating\n",
        "        # the mean of its words' vectors\n",
        "        corpus_embeddings.append(np.mean(tweet_embeddings, axis=0))\n",
        "      else:\n",
        "        # assign an empty vector to the tweet \n",
        "        corpus_embeddings.append(np.zeros(self.dims))\n",
        "    return np.array(corpus_embeddings)\n",
        "\n",
        "  def get_glove_dict(self):\n",
        "    return self.glove_dict"
      ]
    },
    {
      "cell_type": "markdown",
      "source": [
        "### Contruction of embeddings for each tweet"
      ],
      "metadata": {
        "id": "B8gl0ESON0Hg"
      }
    },
    {
      "cell_type": "code",
      "execution_count": 22,
      "metadata": {
        "id": "qsDaLpa5lTMb"
      },
      "outputs": [],
      "source": [
        "# For other dataset, change `D_EMB` accordingly\n",
        "D_EMB = 200\n",
        "glove = GloVe_Emb('glove.6B.200d.txt', D_EMB)"
      ]
    },
    {
      "cell_type": "code",
      "execution_count": 23,
      "metadata": {
        "id": "Eu4gHiGEqIRz"
      },
      "outputs": [],
      "source": [
        "glove_dict = glove.get_glove_dict()"
      ]
    },
    {
      "cell_type": "code",
      "execution_count": 24,
      "metadata": {
        "id": "MK4gTTyIsMr_"
      },
      "outputs": [],
      "source": [
        "train_emb = glove.dataset_embeddings(df_train['tokenized_tweets'])"
      ]
    },
    {
      "cell_type": "code",
      "execution_count": 25,
      "metadata": {
        "colab": {
          "base_uri": "https://localhost:8080/"
        },
        "id": "Nla-OT4QsccZ",
        "outputId": "35ffa511-2628-4354-9bbf-50a96495f3b1"
      },
      "outputs": [
        {
          "output_type": "execute_result",
          "data": {
            "text/plain": [
              "(15976, 200)"
            ]
          },
          "metadata": {},
          "execution_count": 25
        }
      ],
      "source": [
        "train_emb.shape"
      ]
    },
    {
      "cell_type": "code",
      "execution_count": 26,
      "metadata": {
        "id": "RqAycBOPtFg5"
      },
      "outputs": [],
      "source": [
        "test_emb = glove.dataset_embeddings(df_test['tokenized_tweets'])"
      ]
    },
    {
      "cell_type": "code",
      "execution_count": 27,
      "metadata": {
        "colab": {
          "base_uri": "https://localhost:8080/"
        },
        "id": "vL9C5I27tMfE",
        "outputId": "bf0b8208-b229-4f67-e1a2-be66db5495a3"
      },
      "outputs": [
        {
          "output_type": "execute_result",
          "data": {
            "text/plain": [
              "(2282, 200)"
            ]
          },
          "metadata": {},
          "execution_count": 27
        }
      ],
      "source": [
        "test_emb.shape"
      ]
    },
    {
      "cell_type": "markdown",
      "source": [
        "## Create Dataset Tensors"
      ],
      "metadata": {
        "id": "0AWPPs1rBqqH"
      }
    },
    {
      "cell_type": "code",
      "execution_count": 29,
      "metadata": {
        "id": "2HnBak-CzT2L"
      },
      "outputs": [],
      "source": [
        "import torch\n",
        "\n",
        "X_train, y_train = torch.tensor(train_emb, dtype=torch.float), torch.tensor(df_train.label)\n",
        "X_test, y_test = torch.tensor(test_emb, dtype=torch.float), torch.tensor(df_test.label)"
      ]
    },
    {
      "cell_type": "markdown",
      "source": [
        "## Run to GPU if available"
      ],
      "metadata": {
        "id": "5zOPbMjaBiRY"
      }
    },
    {
      "cell_type": "code",
      "execution_count": 30,
      "metadata": {
        "colab": {
          "base_uri": "https://localhost:8080/"
        },
        "id": "XAdvA0sC1nTX",
        "outputId": "1a7d08ac-b4eb-49c1-f922-4f26c709674f"
      },
      "outputs": [
        {
          "output_type": "stream",
          "name": "stdout",
          "text": [
            "Device available for running: \n",
            "cuda\n"
          ]
        }
      ],
      "source": [
        "device = torch.device('cuda' if torch.cuda.is_available() else 'cpu')\n",
        "print('Device available for running: ')\n",
        "print(device)"
      ]
    },
    {
      "cell_type": "markdown",
      "source": [
        "## Feed Forward Network Classes"
      ],
      "metadata": {
        "id": "oHQ7lKH5BxoD"
      }
    },
    {
      "cell_type": "code",
      "execution_count": 31,
      "metadata": {
        "id": "FR1l_AswxZUa"
      },
      "outputs": [],
      "source": [
        "### Dummy class to assist inserting datasets to dataloader\n",
        "class Dataset():\n",
        "  def __init__(self, X, y):\n",
        "    self.x_data, self.y_data = X, y\n",
        "\n",
        "  def __len__(self):\n",
        "    return len(self.x_data)\n",
        "\n",
        "  def __getitem__(self, idx):\n",
        "    return self.x_data[idx], self.y_data[idx]"
      ]
    },
    {
      "cell_type": "code",
      "source": [
        "import torch.nn as nn\n",
        "\n",
        "class FeedForwardNeuralNet_1U(nn.Module):\n",
        "    def __init__(self, input_dim, output_dim, activation='ReLU'):\n",
        "        super(FeedForwardNeuralNet_1U, self).__init__()\n",
        "        # Linear function 1\n",
        "        self.fc1 = nn.Linear(input_dim, output_dim) \n",
        "\n",
        "    def forward(self, x):\n",
        "        # Linear function 1\n",
        "        out = self.fc1(x)\n",
        "        return out"
      ],
      "metadata": {
        "id": "gBIbTagbVI_Y"
      },
      "execution_count": 32,
      "outputs": []
    },
    {
      "cell_type": "code",
      "source": [
        "import torch.nn as nn\n",
        "\n",
        "class FeedForwardNeuralNet_2U(nn.Module):\n",
        "    def __init__(self, input_dim, hidden_dim, output_dim, activation='ReLU'):\n",
        "        super(FeedForwardNeuralNet_2U, self).__init__()\n",
        "        # Linear function 1\n",
        "        self.fc1 = nn.Linear(input_dim, hidden_dim) \n",
        "        # Non-linearity 1\n",
        "        if activation == 'ReLU':\n",
        "          self.activation = nn.ReLU()\n",
        "        else:\n",
        "          self.activation = nn.Sigmoid()\n",
        "        # Linear function 2\n",
        "        self.fc2 = nn.Linear(hidden_dim, output_dim)\n",
        "\n",
        "    def forward(self, x):\n",
        "        # Linear function 1\n",
        "        out = self.fc1(x)\n",
        "        # Non-linearity 1\n",
        "        out = self.activation(out)\n",
        "        # Linear function 2\n",
        "        out = self.fc2(out)\n",
        "        return out"
      ],
      "metadata": {
        "id": "7H1W7o0Poc3o"
      },
      "execution_count": 33,
      "outputs": []
    },
    {
      "cell_type": "code",
      "execution_count": 34,
      "metadata": {
        "id": "AFFkzj4wEA28"
      },
      "outputs": [],
      "source": [
        "import torch.nn as nn\n",
        "\n",
        "class FeedForwardNeuralNet_3U(nn.Module):\n",
        "    def __init__(self, input_dim, hidden_dims, output_dim, activation='ReLU'):\n",
        "        super(FeedForwardNeuralNet_3U, self).__init__()\n",
        "        # Linear function 1\n",
        "        self.fc1 = nn.Linear(input_dim, hidden_dims[0]) \n",
        "        # Non-linearity 1\n",
        "        if activation == 'ReLU':\n",
        "          self.act = nn.ReLU()\n",
        "        else:\n",
        "          self.act = nn.Sigmoid()\n",
        "        # Linear function 2\n",
        "        self.fc2 = nn.Linear(hidden_dims[0], hidden_dims[1])\n",
        "        # Linear function 3 (readout)\n",
        "        self.fc3 = nn.Linear(hidden_dims[1], output_dim)  \n",
        "\n",
        "    def forward(self, x):\n",
        "        # Linear function 1\n",
        "        out = self.fc1(x)\n",
        "        # Non-linearity 1\n",
        "        out = self.act(out)\n",
        "        # Linear function 2\n",
        "        out = self.fc2(out)\n",
        "        # Non-linearity 2\n",
        "        out = self.act(out)\n",
        "        # Linear function 3 (readout)\n",
        "        out = self.fc3(out)\n",
        "        return out"
      ]
    },
    {
      "cell_type": "markdown",
      "source": [
        "## Experiments Class: This class was implemented to assist in running multiple experiments "
      ],
      "metadata": {
        "id": "7HYdxrlAB2vP"
      }
    },
    {
      "cell_type": "code",
      "execution_count": 35,
      "metadata": {
        "id": "wddd_IIgjz2C"
      },
      "outputs": [],
      "source": [
        "from sklearn.metrics import f1_score, precision_score, recall_score\n",
        "from sklearn.metrics import classification_report\n",
        "import scikitplot as skplt\n",
        "\n",
        "class Experiments():\n",
        "  def __init__(self, model, epochs, criterion, optimizer, train_dataloader, test_dataloader):\n",
        "    # feed forward neural network\n",
        "    self.nn = model\n",
        "    # train parameters\n",
        "    self.epochs = epochs\n",
        "    self.criterion = criterion\n",
        "    self.optimizer = optimizer\n",
        "    # datasets\n",
        "    self.train_dataloader = train_dataloader\n",
        "    self.test_dataloader = test_dataloader\n",
        "    # stats\n",
        "    self.train_scores = {'loss':[], 'accuracy':[], 'predicted_labels':[]}\n",
        "    self.val_scores = {'loss':[], 'accuracy':[], 'predicted_labels':[]}\n",
        "\n",
        "  def get_pred_labels(self, out):\n",
        "    # apply softmax before obtaining results\n",
        "    soft_pred = torch.log_softmax(out, dim=1)\n",
        "    # get prediction labels\n",
        "    _, pred = torch.max(soft_pred, dim=1)\n",
        "    return pred\n",
        "  \n",
        "  def compute_accuracy(self, labels, pred):\n",
        "    correct = (pred == labels).float()\n",
        "    accuracy = correct.sum() / len(correct)\n",
        "    return accuracy\n",
        "  \n",
        "  def compute_scores(self, accuracy, loss, n, pred, contrainer):\n",
        "    contrainer['accuracy'].append(accuracy/n)\n",
        "    contrainer['loss'].append(loss/n)\n",
        "    contrainer['predicted_labels'].append(np.concatenate(pred).ravel().tolist())\n",
        "\n",
        "  def get_train_scores(self):\n",
        "    return self.train_scores\n",
        "  \n",
        "  def get_validation_scores(self):\n",
        "    return self.val_scores\n",
        "  \n",
        "  def epoch_report(self, epoch, labels, method = 'train'):\n",
        "    if method == 'train':\n",
        "      print('====')\n",
        "      print('Classification report for train set')\n",
        "      print('====')\n",
        "      print(classification_report(labels, self.train_scores['predicted_labels'][epoch-1]))\n",
        "    else:\n",
        "      print('====')\n",
        "      print('Classification report for validation set')\n",
        "      print('====')\n",
        "      print(classification_report(labels, self.val_scores['predicted_labels'][epoch-1]))\n",
        "\n",
        "  def plot_roc_curves(self, X, y):\n",
        "    X = X.to(device)\n",
        "    pred = model.forward(X).cpu().detach().numpy()\n",
        "    skplt.metrics.plot_roc(y, pred)\n",
        "  \n",
        "  def plot_loss_curves(self):\n",
        "    plt.figure(figsize=(10,10))\n",
        "    plt.title(\"Training / Validation Loss Curves\")\n",
        "    plt.plot(self.train_scores['loss'],'-b')\n",
        "    plt.plot(self.val_scores['loss'],'-g')\n",
        "    plt.xlabel(\"epochs\")\n",
        "    plt.ylabel(\"loss\")\n",
        "    plt.legend(('Training','Validation'), loc='upper right', fontsize='x-large')\n",
        "    plt.show()\n",
        "\n",
        "  def run(self):\n",
        "    # iterate for each epoch\n",
        "    for epoch in range(self.epochs):\n",
        "      # train mode\n",
        "      # self.nn.train()\n",
        "      train_loss = 0\n",
        "      train_pred = []\n",
        "      train_accuracy = 0\n",
        "      # train per batches\n",
        "      for idx, (X, y) in enumerate(self.train_dataloader):\n",
        "        X.to(device)\n",
        "        y.to(device)\n",
        "        # forward pass\n",
        "        out = self.nn.forward(X)\n",
        "        loss = self.criterion(out, y)\n",
        "        # backward pass and update\n",
        "        self.optimizer.zero_grad()\n",
        "        loss.backward(retain_graph=True)\n",
        "        self.optimizer.step()\n",
        "        # stats\n",
        "        batch_pred = self.get_pred_labels(out)\n",
        "        train_accuracy += self.compute_accuracy(y, batch_pred)\n",
        "        train_loss += loss.item()\n",
        "        train_pred.append(batch_pred.cpu().numpy())\n",
        "      # compute final stats\n",
        "      self.compute_scores(train_accuracy, train_loss, len(train_dataloader), train_pred, self.train_scores)\n",
        "\n",
        "      # predict on validation set\n",
        "      with torch.no_grad():\n",
        "        # evaluation mode\n",
        "        # self.nn.eval()\n",
        "        val_loss = 0\n",
        "        val_pred = []\n",
        "        val_accuracy = 0\n",
        "        # evaluate per batches\n",
        "        for idx, (X_val, y_val) in enumerate(self.test_dataloader):\n",
        "          X_val.to(device)\n",
        "          y_val.to(device)\n",
        "          # get predictions\n",
        "          out = self.nn.forward(X_val)\n",
        "          loss = self.criterion(out, y_val)\n",
        "          # stats\n",
        "          batch_pred = self.get_pred_labels(out)\n",
        "          val_accuracy += self.compute_accuracy(y_val, batch_pred)\n",
        "          val_loss += loss.item()\n",
        "          val_pred.append(batch_pred.cpu().numpy())\n",
        "        # compute final stats\n",
        "        self.compute_scores(val_accuracy, val_loss, len(test_dataloader), val_pred, self.val_scores)\n",
        "\n",
        "        # verbose\n",
        "        # print('Epoch: {}. Train Loss: {}. Val Loss: {}. Train Accuracy: {} Val Accuracy: {}'.format(epoch, (train_loss/len(self.train_dataloader)), (val_loss/len(self.test_dataloader)), (train_accuracy/len(self.train_dataloader)), (val_accuracy/len(self.test_dataloader))))"
      ]
    },
    {
      "cell_type": "markdown",
      "source": [
        "## Running Experiments & Final Model\n",
        "\n",
        "Most of the experiments in this section are commented out to avoid unnecessary runs. The results of the selected model are presented at the bottom of the section.\n"
      ],
      "metadata": {
        "id": "8H51skX2V83T"
      }
    },
    {
      "cell_type": "markdown",
      "source": [
        "### Model 1:  \n",
        "\n",
        "*   Network: 1 Layer Feed Forward Network\n",
        "*   Loss: Cross Entropy\n",
        "*   Learning Rate: 0.001\n",
        "*   Optimizer SGD\n",
        "*   Epochs: 14\n"
      ],
      "metadata": {
        "id": "_gO83gbYE155"
      }
    },
    {
      "cell_type": "code",
      "execution_count": 36,
      "metadata": {
        "id": "zmRdmgcU-DRI",
        "colab": {
          "base_uri": "https://localhost:8080/",
          "height": 87
        },
        "outputId": "2deaf1cd-e664-4699-9f84-c95a6b0fd9b6"
      },
      "outputs": [
        {
          "output_type": "execute_result",
          "data": {
            "application/vnd.google.colaboratory.intrinsic+json": {
              "type": "string"
            },
            "text/plain": [
              "\"\\nfrom sklearn.utils import class_weight\\nfrom torch.utils.data.dataloader import default_collate\\n\\nbatch_size = 32\\ntrain_dataset = Dataset(X_train, y_train)\\ntest_dataset = Dataset(X_test, y_test)\\ntrain_dataloader = torch.utils.data.DataLoader(dataset=train_dataset, batch_size=batch_size, shuffle=True, collate_fn=lambda x: tuple(x_.to(device) for x_ in default_collate(x)))\\ntest_dataloader = torch.utils.data.DataLoader(dataset=test_dataset, batch_size=batch_size, collate_fn=lambda x: tuple(x_.to(device) for x_ in default_collate(x)))\\n\\ninput_dim = X_train.shape[1]\\noutput_dim = 3\\n\\nmodel = FeedForwardNeuralNet_1U(input_dim, output_dim)\\nmodel.to(device)\\n\\nclass_weights = class_weight.compute_class_weight(class_weight='balanced', classes=np.unique(df_train.label), y=df_train.label)\\nclass_weights = torch.tensor(class_weights,dtype=torch.float)\\n\\ncriterion = nn.CrossEntropyLoss(weight=class_weights, reduction='mean')\\ncriterion = criterion.to(device)\\n\\nlearning_rate = 0.001\\noptimizer = torch.optim.SGD(model.parameters(), lr=learning_rate)\\n\\nn_epochs = 20\\nexp_1U = Experiments(model, n_epochs, criterion, optimizer, train_dataloader, test_dataloader)\\nexp_1U.run() \""
            ]
          },
          "metadata": {},
          "execution_count": 36
        }
      ],
      "source": [
        "\"\"\"\n",
        "from sklearn.utils import class_weight\n",
        "from torch.utils.data.dataloader import default_collate\n",
        "\n",
        "batch_size = 32\n",
        "train_dataset = Dataset(X_train, y_train)\n",
        "test_dataset = Dataset(X_test, y_test)\n",
        "train_dataloader = torch.utils.data.DataLoader(dataset=train_dataset, batch_size=batch_size, shuffle=True, collate_fn=lambda x: tuple(x_.to(device) for x_ in default_collate(x)))\n",
        "test_dataloader = torch.utils.data.DataLoader(dataset=test_dataset, batch_size=batch_size, collate_fn=lambda x: tuple(x_.to(device) for x_ in default_collate(x)))\n",
        "\n",
        "input_dim = X_train.shape[1]\n",
        "output_dim = 3\n",
        "\n",
        "model = FeedForwardNeuralNet_1U(input_dim, output_dim)\n",
        "model.to(device)\n",
        "\n",
        "class_weights = class_weight.compute_class_weight(class_weight='balanced', classes=np.unique(df_train.label), y=df_train.label)\n",
        "class_weights = torch.tensor(class_weights,dtype=torch.float)\n",
        "\n",
        "criterion = nn.CrossEntropyLoss(weight=class_weights, reduction='mean')\n",
        "criterion = criterion.to(device)\n",
        "\n",
        "learning_rate = 0.001\n",
        "optimizer = torch.optim.SGD(model.parameters(), lr=learning_rate)\n",
        "\n",
        "n_epochs = 20\n",
        "exp_1U = Experiments(model, n_epochs, criterion, optimizer, train_dataloader, test_dataloader)\n",
        "exp_1U.run() \"\"\""
      ]
    },
    {
      "cell_type": "code",
      "source": [
        "\"\"\"\n",
        "exp_1U.epoch_report(14, df_test.label.to_list(), 'val')\n",
        "\"\"\""
      ],
      "metadata": {
        "colab": {
          "base_uri": "https://localhost:8080/",
          "height": 35
        },
        "id": "WFhqdxSHCHMC",
        "outputId": "19901f11-7c9f-456b-caab-61f0de37f335"
      },
      "execution_count": 37,
      "outputs": [
        {
          "output_type": "execute_result",
          "data": {
            "application/vnd.google.colaboratory.intrinsic+json": {
              "type": "string"
            },
            "text/plain": [
              "\"\\nexp_1U.epoch_report(14, df_test.label.to_list(), 'val')\\n\""
            ]
          },
          "metadata": {},
          "execution_count": 37
        }
      ]
    },
    {
      "cell_type": "code",
      "source": [
        "\"\"\"\n",
        "exp_1U.plot_loss_curves()\n",
        "\"\"\""
      ],
      "metadata": {
        "colab": {
          "base_uri": "https://localhost:8080/",
          "height": 35
        },
        "id": "0MC5CbR39Dd4",
        "outputId": "ca227f92-961e-4f6f-bb1a-b016450807fb"
      },
      "execution_count": 38,
      "outputs": [
        {
          "output_type": "execute_result",
          "data": {
            "application/vnd.google.colaboratory.intrinsic+json": {
              "type": "string"
            },
            "text/plain": [
              "'\\nexp_1U.plot_loss_curves()\\n'"
            ]
          },
          "metadata": {},
          "execution_count": 38
        }
      ]
    },
    {
      "cell_type": "markdown",
      "source": [
        "### Model 2:  \n",
        "\n",
        "*   Network: 2 Layer Feed Forward Network\n",
        "*   Loss: Cross Entropy\n",
        "*   Learning Rate: 0.001\n",
        "*   Optimizer SGD\n",
        "*   Epochs: 40\n"
      ],
      "metadata": {
        "id": "eEqUNnRCFHvg"
      }
    },
    {
      "cell_type": "code",
      "source": [
        "\"\"\"\n",
        "input_dim = X_train.shape[1]\n",
        "hidden_dim = 64\n",
        "output_dim = 3\n",
        "\n",
        "batch_size = 64\n",
        "train_dataset = Dataset(X_train, y_train)\n",
        "test_dataset = Dataset(X_test, y_test)\n",
        "train_dataloader = torch.utils.data.DataLoader(dataset=train_dataset, batch_size=batch_size, shuffle=True, collate_fn=lambda x: tuple(x_.to(device) for x_ in default_collate(x)))\n",
        "test_dataloader = torch.utils.data.DataLoader(dataset=test_dataset, batch_size=batch_size, collate_fn=lambda x: tuple(x_.to(device) for x_ in default_collate(x)))\n",
        "\n",
        "model = FeedForwardNeuralNet_2U(input_dim, hidden_dim, output_dim)\n",
        "model.to(device)\n",
        "\n",
        "class_weights = class_weight.compute_class_weight(class_weight='balanced', classes=np.unique(df_train.label), y=df_train.label)\n",
        "class_weights = torch.tensor(class_weights,dtype=torch.float)\n",
        "\n",
        "criterion = nn.CrossEntropyLoss(weight=class_weights, reduction='mean')\n",
        "criterion = criterion.to(device)\n",
        "\n",
        "learning_rate = 0.001\n",
        "optimizer = torch.optim.SGD(model.parameters(), lr=learning_rate)\n",
        "\n",
        "n_epochs = 100\n",
        "exp_2U = Experiments(model, n_epochs, criterion, optimizer, train_dataloader, test_dataloader)\n",
        "exp_2U.run()\n",
        "\"\"\""
      ],
      "metadata": {
        "id": "0dQkBmX7wanr",
        "colab": {
          "base_uri": "https://localhost:8080/",
          "height": 87
        },
        "outputId": "837bf046-5edb-4e80-8985-427ebfdceca5"
      },
      "execution_count": 39,
      "outputs": [
        {
          "output_type": "execute_result",
          "data": {
            "application/vnd.google.colaboratory.intrinsic+json": {
              "type": "string"
            },
            "text/plain": [
              "\"\\ninput_dim = X_train.shape[1]\\nhidden_dim = 64\\noutput_dim = 3\\n\\nbatch_size = 64\\ntrain_dataset = Dataset(X_train, y_train)\\ntest_dataset = Dataset(X_test, y_test)\\ntrain_dataloader = torch.utils.data.DataLoader(dataset=train_dataset, batch_size=batch_size, shuffle=True, collate_fn=lambda x: tuple(x_.to(device) for x_ in default_collate(x)))\\ntest_dataloader = torch.utils.data.DataLoader(dataset=test_dataset, batch_size=batch_size, collate_fn=lambda x: tuple(x_.to(device) for x_ in default_collate(x)))\\n\\nmodel = FeedForwardNeuralNet_2U(input_dim, hidden_dim, output_dim)\\nmodel.to(device)\\n\\nclass_weights = class_weight.compute_class_weight(class_weight='balanced', classes=np.unique(df_train.label), y=df_train.label)\\nclass_weights = torch.tensor(class_weights,dtype=torch.float)\\n\\ncriterion = nn.CrossEntropyLoss(weight=class_weights, reduction='mean')\\ncriterion = criterion.to(device)\\n\\nlearning_rate = 0.001\\noptimizer = torch.optim.SGD(model.parameters(), lr=learning_rate)\\n\\nn_epochs = 100\\nexp_2U = Experiments(model, n_epochs, criterion, optimizer, train_dataloader, test_dataloader)\\nexp_2U.run()\\n\""
            ]
          },
          "metadata": {},
          "execution_count": 39
        }
      ]
    },
    {
      "cell_type": "code",
      "source": [
        "\"\"\"\n",
        "exp_2U.epoch_report(40, df_test.label.to_list(), 'val')\n",
        "\"\"\""
      ],
      "metadata": {
        "colab": {
          "base_uri": "https://localhost:8080/",
          "height": 35
        },
        "id": "jyTe0CSJ-lls",
        "outputId": "cbbf3337-9be0-476f-930a-19d78c64a864"
      },
      "execution_count": 40,
      "outputs": [
        {
          "output_type": "execute_result",
          "data": {
            "application/vnd.google.colaboratory.intrinsic+json": {
              "type": "string"
            },
            "text/plain": [
              "\"\\nexp_2U.epoch_report(40, df_test.label.to_list(), 'val')\\n\""
            ]
          },
          "metadata": {},
          "execution_count": 40
        }
      ]
    },
    {
      "cell_type": "code",
      "source": [
        "\"\"\"\n",
        "exp_2U.plot_loss_curves()\n",
        "\"\"\""
      ],
      "metadata": {
        "colab": {
          "base_uri": "https://localhost:8080/",
          "height": 35
        },
        "id": "8GSpU4fdiXtE",
        "outputId": "e76c714c-e763-44ba-c521-335c0b376e14"
      },
      "execution_count": 41,
      "outputs": [
        {
          "output_type": "execute_result",
          "data": {
            "application/vnd.google.colaboratory.intrinsic+json": {
              "type": "string"
            },
            "text/plain": [
              "'\\nexp_2U.plot_loss_curves()\\n'"
            ]
          },
          "metadata": {},
          "execution_count": 41
        }
      ]
    },
    {
      "cell_type": "markdown",
      "source": [
        "### Model 3:  \n",
        "\n",
        "*   Network: 3 Layer Feed Forward Network\n",
        "*   Loss: Cross Entropy\n",
        "*   Learning Rate: 0.001\n",
        "*   Optimizer SGD\n",
        "*   Epochs: 50\n"
      ],
      "metadata": {
        "id": "w0No_PVNFSra"
      }
    },
    {
      "cell_type": "code",
      "source": [
        "\"\"\"\n",
        "input_dim = X_train.shape[1]\n",
        "hidden_dims = [128, 64]\n",
        "output_dim = 3\n",
        "\n",
        "batch_size = 32\n",
        "train_dataset = Dataset(X_train, y_train)\n",
        "test_dataset = Dataset(X_test, y_test)\n",
        "train_dataloader = torch.utils.data.DataLoader(dataset=train_dataset, batch_size=batch_size, shuffle=True, collate_fn=lambda x: tuple(x_.to(device) for x_ in default_collate(x)))\n",
        "test_dataloader = torch.utils.data.DataLoader(dataset=test_dataset, batch_size=batch_size, collate_fn=lambda x: tuple(x_.to(device) for x_ in default_collate(x)))\n",
        "\n",
        "model = FeedForwardNeuralNet_3U(input_dim, hidden_dims, output_dim)\n",
        "model.to(device)\n",
        "\n",
        "class_weights = class_weight.compute_class_weight(class_weight='balanced', classes=np.unique(df_train.label), y=df_train.label)\n",
        "class_weights = torch.tensor(class_weights,dtype=torch.float)\n",
        "\n",
        "criterion = nn.CrossEntropyLoss(weight=class_weights,reduction='mean')\n",
        "criterion = criterion.to(device)\n",
        "\n",
        "learning_rate = 0.001\n",
        "optimizer = torch.optim.SGD(model.parameters(), lr=learning_rate)\n",
        "\n",
        "n_epochs = 50\n",
        "exp_3U = Experiments(model, n_epochs, criterion, optimizer, train_dataloader, test_dataloader)\n",
        "exp_3U.run()\n",
        "\"\"\""
      ],
      "metadata": {
        "id": "87ApEMEG_3gy",
        "colab": {
          "base_uri": "https://localhost:8080/",
          "height": 87
        },
        "outputId": "82c89714-b268-412d-91ec-f527528b0325"
      },
      "execution_count": 42,
      "outputs": [
        {
          "output_type": "execute_result",
          "data": {
            "application/vnd.google.colaboratory.intrinsic+json": {
              "type": "string"
            },
            "text/plain": [
              "\"\\ninput_dim = X_train.shape[1]\\nhidden_dims = [128, 64]\\noutput_dim = 3\\n\\nbatch_size = 32\\ntrain_dataset = Dataset(X_train, y_train)\\ntest_dataset = Dataset(X_test, y_test)\\ntrain_dataloader = torch.utils.data.DataLoader(dataset=train_dataset, batch_size=batch_size, shuffle=True, collate_fn=lambda x: tuple(x_.to(device) for x_ in default_collate(x)))\\ntest_dataloader = torch.utils.data.DataLoader(dataset=test_dataset, batch_size=batch_size, collate_fn=lambda x: tuple(x_.to(device) for x_ in default_collate(x)))\\n\\nmodel = FeedForwardNeuralNet_3U(input_dim, hidden_dims, output_dim)\\nmodel.to(device)\\n\\nclass_weights = class_weight.compute_class_weight(class_weight='balanced', classes=np.unique(df_train.label), y=df_train.label)\\nclass_weights = torch.tensor(class_weights,dtype=torch.float)\\n\\ncriterion = nn.CrossEntropyLoss(weight=class_weights,reduction='mean')\\ncriterion = criterion.to(device)\\n\\nlearning_rate = 0.001\\noptimizer = torch.optim.SGD(model.parameters(), lr=learning_rate)\\n\\nn_epochs = 50\\nexp_3U = Experiments(model, n_epochs, criterion, optimizer, train_dataloader, test_dataloader)\\nexp_3U.run()\\n\""
            ]
          },
          "metadata": {},
          "execution_count": 42
        }
      ]
    },
    {
      "cell_type": "code",
      "source": [
        "\"\"\"\n",
        "exp_3U.epoch_report(50, df_test.label.to_list(), 'val')\n",
        "\"\"\""
      ],
      "metadata": {
        "colab": {
          "base_uri": "https://localhost:8080/",
          "height": 35
        },
        "id": "jtFofQfa_37s",
        "outputId": "00142557-989e-490a-a2c5-8697503d161c"
      },
      "execution_count": 43,
      "outputs": [
        {
          "output_type": "execute_result",
          "data": {
            "application/vnd.google.colaboratory.intrinsic+json": {
              "type": "string"
            },
            "text/plain": [
              "\"\\nexp_3U.epoch_report(50, df_test.label.to_list(), 'val')\\n\""
            ]
          },
          "metadata": {},
          "execution_count": 43
        }
      ]
    },
    {
      "cell_type": "code",
      "source": [
        "\"\"\"\n",
        "exp_3U.plot_loss_curves()\n",
        "\"\"\""
      ],
      "metadata": {
        "colab": {
          "base_uri": "https://localhost:8080/",
          "height": 35
        },
        "id": "FD_LBGmOAFFs",
        "outputId": "e8f7e0b2-4bd0-4226-befe-1fffca5f5d70"
      },
      "execution_count": 44,
      "outputs": [
        {
          "output_type": "execute_result",
          "data": {
            "application/vnd.google.colaboratory.intrinsic+json": {
              "type": "string"
            },
            "text/plain": [
              "'\\nexp_3U.plot_loss_curves()\\n'"
            ]
          },
          "metadata": {},
          "execution_count": 44
        }
      ]
    },
    {
      "cell_type": "markdown",
      "source": [
        "### Model 4:  \n",
        "\n",
        "*   Network: 3 Layer Feed Forward Network\n",
        "*   Loss: Cross Entropy\n",
        "*   Learning Rate: 0.001\n",
        "*   Optimizer SGD + Momentum (0.9)\n",
        "*   Epochs: 7\n"
      ],
      "metadata": {
        "id": "e6kZYJMwU86W"
      }
    },
    {
      "cell_type": "code",
      "source": [
        "\"\"\"\n",
        "from sklearn.utils import class_weight\n",
        "from torch.utils.data.dataloader import default_collate\n",
        "\n",
        "input_dim = X_train.shape[1]\n",
        "hidden_dims = [128, 64]\n",
        "output_dim = 3\n",
        "\n",
        "batch_size = 32\n",
        "train_dataset = Dataset(X_train, y_train)\n",
        "test_dataset = Dataset(X_test, y_test)\n",
        "train_dataloader = torch.utils.data.DataLoader(dataset=train_dataset, batch_size=batch_size, shuffle=True, collate_fn=lambda x: tuple(x_.to(device) for x_ in default_collate(x)))\n",
        "test_dataloader = torch.utils.data.DataLoader(dataset=test_dataset, batch_size=batch_size, collate_fn=lambda x: tuple(x_.to(device) for x_ in default_collate(x)))\n",
        "\n",
        "model = FeedForwardNeuralNet_3U(input_dim, hidden_dims, output_dim)\n",
        "model.to(device)\n",
        "\n",
        "class_weights = class_weight.compute_class_weight(class_weight='balanced', classes=np.unique(df_train.label), y=df_train.label)\n",
        "class_weights = torch.tensor(class_weights,dtype=torch.float)\n",
        "\n",
        "criterion = nn.CrossEntropyLoss(weight=class_weights, reduction='mean')\n",
        "criterion = criterion.to(device)\n",
        "\n",
        "learning_rate = 0.001\n",
        "optimizer = torch.optim.SGD(model.parameters(), lr=learning_rate, momentum=0.9)\n",
        "# optimizer = torch.optim.Adam(model.parameters(), lr=learning_rate)\n",
        "\n",
        "n_epochs = 15\n",
        "exp_3U_1 = Experiments(model, n_epochs, criterion, optimizer, train_dataloader, test_dataloader)\n",
        "exp_3U_1.run()\n",
        "\"\"\""
      ],
      "metadata": {
        "id": "kjQoEhRyU30v",
        "colab": {
          "base_uri": "https://localhost:8080/",
          "height": 87
        },
        "outputId": "eb001785-b14d-4d95-8e03-9a886c5be488"
      },
      "execution_count": 45,
      "outputs": [
        {
          "output_type": "execute_result",
          "data": {
            "application/vnd.google.colaboratory.intrinsic+json": {
              "type": "string"
            },
            "text/plain": [
              "\"\\nfrom sklearn.utils import class_weight\\nfrom torch.utils.data.dataloader import default_collate\\n\\ninput_dim = X_train.shape[1]\\nhidden_dims = [128, 64]\\noutput_dim = 3\\n\\nbatch_size = 32\\ntrain_dataset = Dataset(X_train, y_train)\\ntest_dataset = Dataset(X_test, y_test)\\ntrain_dataloader = torch.utils.data.DataLoader(dataset=train_dataset, batch_size=batch_size, shuffle=True, collate_fn=lambda x: tuple(x_.to(device) for x_ in default_collate(x)))\\ntest_dataloader = torch.utils.data.DataLoader(dataset=test_dataset, batch_size=batch_size, collate_fn=lambda x: tuple(x_.to(device) for x_ in default_collate(x)))\\n\\nmodel = FeedForwardNeuralNet_3U(input_dim, hidden_dims, output_dim)\\nmodel.to(device)\\n\\nclass_weights = class_weight.compute_class_weight(class_weight='balanced', classes=np.unique(df_train.label), y=df_train.label)\\nclass_weights = torch.tensor(class_weights,dtype=torch.float)\\n\\ncriterion = nn.CrossEntropyLoss(weight=class_weights, reduction='mean')\\ncriterion = criterion.to(device)\\n\\nlearning_rate = 0.001\\noptimizer = torch.optim.SGD(model.parameters(), lr=learning_rate, momentum=0.9)\\n# optimizer = torch.optim.Adam(model.parameters(), lr=learning_rate)\\n\\nn_epochs = 15\\nexp_3U_1 = Experiments(model, n_epochs, criterion, optimizer, train_dataloader, test_dataloader)\\nexp_3U_1.run()\\n\""
            ]
          },
          "metadata": {},
          "execution_count": 45
        }
      ]
    },
    {
      "cell_type": "code",
      "source": [
        "\"\"\"\n",
        "exp_3U_1.epoch_report(7, df_test.label.to_list(), 'val')\n",
        "\"\"\""
      ],
      "metadata": {
        "colab": {
          "base_uri": "https://localhost:8080/",
          "height": 35
        },
        "id": "W2NpEr8bLMGr",
        "outputId": "e9a9f92a-deac-4ad5-9567-f71b7e401340"
      },
      "execution_count": 46,
      "outputs": [
        {
          "output_type": "execute_result",
          "data": {
            "application/vnd.google.colaboratory.intrinsic+json": {
              "type": "string"
            },
            "text/plain": [
              "\"\\nexp_3U_1.epoch_report(7, df_test.label.to_list(), 'val')\\n\""
            ]
          },
          "metadata": {},
          "execution_count": 46
        }
      ]
    },
    {
      "cell_type": "code",
      "source": [
        "\"\"\"\n",
        "exp_3U_1.plot_loss_curves()\n",
        "\"\"\""
      ],
      "metadata": {
        "colab": {
          "base_uri": "https://localhost:8080/",
          "height": 35
        },
        "id": "tLxKcM8WpoQ-",
        "outputId": "7a577afe-f28a-499c-c082-c6727e8a83a0"
      },
      "execution_count": 47,
      "outputs": [
        {
          "output_type": "execute_result",
          "data": {
            "application/vnd.google.colaboratory.intrinsic+json": {
              "type": "string"
            },
            "text/plain": [
              "'\\nexp_3U_1.plot_loss_curves()\\n'"
            ]
          },
          "metadata": {},
          "execution_count": 47
        }
      ]
    },
    {
      "cell_type": "markdown",
      "source": [
        "### Model 5:  \n",
        "\n",
        "*   Network: 3 Layer Feed Forward Network\n",
        "*   Loss: Cross Entropy\n",
        "*   Learning Rate: 0.001\n",
        "*   Optimizer SGD + Momentum (0.9) + Nasterov\n",
        "*   Epochs: 7\n"
      ],
      "metadata": {
        "id": "TLW40UaBFpR6"
      }
    },
    {
      "cell_type": "code",
      "source": [
        "\"\"\"\n",
        "from sklearn.utils import class_weight\n",
        "from torch.utils.data.dataloader import default_collate\n",
        "\n",
        "input_dim = X_train.shape[1]\n",
        "hidden_dims = [128, 64]\n",
        "output_dim = 3\n",
        "\n",
        "batch_size = 32\n",
        "train_dataset = Dataset(X_train, y_train)\n",
        "test_dataset = Dataset(X_test, y_test)\n",
        "train_dataloader = torch.utils.data.DataLoader(dataset=train_dataset, batch_size=batch_size, shuffle=True, collate_fn=lambda x: tuple(x_.to(device) for x_ in default_collate(x)))\n",
        "test_dataloader = torch.utils.data.DataLoader(dataset=test_dataset, batch_size=batch_size, collate_fn=lambda x: tuple(x_.to(device) for x_ in default_collate(x)))\n",
        "\n",
        "model = FeedForwardNeuralNet_3U(input_dim, hidden_dims, output_dim)\n",
        "model.to(device)\n",
        "\n",
        "class_weights = class_weight.compute_class_weight(class_weight='balanced', classes=np.unique(df_train.label), y=df_train.label)\n",
        "class_weights = torch.tensor(class_weights,dtype=torch.float)\n",
        "\n",
        "criterion = nn.CrossEntropyLoss(weight=class_weights, reduction='mean')\n",
        "criterion = criterion.to(device)\n",
        "\n",
        "learning_rate = 0.001\n",
        "optimizer = torch.optim.SGD(model.parameters(), lr=learning_rate, momentum=0.9, nesterov=True)\n",
        "# optimizer = torch.optim.Adam(model.parameters(), lr=learning_rate)\n",
        "\n",
        "n_epochs = 7\n",
        "exp_3U_2 = Experiments(model, n_epochs, criterion, optimizer, train_dataloader, test_dataloader)\n",
        "exp_3U_2.run()\n",
        "\"\"\""
      ],
      "metadata": {
        "id": "7AMyov2JsmeU",
        "colab": {
          "base_uri": "https://localhost:8080/",
          "height": 87
        },
        "outputId": "db157cda-0e4f-4bf8-8382-d4fbd627535f"
      },
      "execution_count": 48,
      "outputs": [
        {
          "output_type": "execute_result",
          "data": {
            "application/vnd.google.colaboratory.intrinsic+json": {
              "type": "string"
            },
            "text/plain": [
              "\"\\nfrom sklearn.utils import class_weight\\nfrom torch.utils.data.dataloader import default_collate\\n\\ninput_dim = X_train.shape[1]\\nhidden_dims = [128, 64]\\noutput_dim = 3\\n\\nbatch_size = 32\\ntrain_dataset = Dataset(X_train, y_train)\\ntest_dataset = Dataset(X_test, y_test)\\ntrain_dataloader = torch.utils.data.DataLoader(dataset=train_dataset, batch_size=batch_size, shuffle=True, collate_fn=lambda x: tuple(x_.to(device) for x_ in default_collate(x)))\\ntest_dataloader = torch.utils.data.DataLoader(dataset=test_dataset, batch_size=batch_size, collate_fn=lambda x: tuple(x_.to(device) for x_ in default_collate(x)))\\n\\nmodel = FeedForwardNeuralNet_3U(input_dim, hidden_dims, output_dim)\\nmodel.to(device)\\n\\nclass_weights = class_weight.compute_class_weight(class_weight='balanced', classes=np.unique(df_train.label), y=df_train.label)\\nclass_weights = torch.tensor(class_weights,dtype=torch.float)\\n\\ncriterion = nn.CrossEntropyLoss(weight=class_weights, reduction='mean')\\ncriterion = criterion.to(device)\\n\\nlearning_rate = 0.001\\noptimizer = torch.optim.SGD(model.parameters(), lr=learning_rate, momentum=0.9, nesterov=True)\\n# optimizer = torch.optim.Adam(model.parameters(), lr=learning_rate)\\n\\nn_epochs = 7\\nexp_3U_2 = Experiments(model, n_epochs, criterion, optimizer, train_dataloader, test_dataloader)\\nexp_3U_2.run()\\n\""
            ]
          },
          "metadata": {},
          "execution_count": 48
        }
      ]
    },
    {
      "cell_type": "code",
      "source": [
        "\"\"\"\n",
        "exp_3U_2.plot_loss_curves()\n",
        "\"\"\""
      ],
      "metadata": {
        "id": "zI3lMd8etcTe",
        "colab": {
          "base_uri": "https://localhost:8080/",
          "height": 35
        },
        "outputId": "126ec551-d94f-454a-861d-4dc977218865"
      },
      "execution_count": 49,
      "outputs": [
        {
          "output_type": "execute_result",
          "data": {
            "application/vnd.google.colaboratory.intrinsic+json": {
              "type": "string"
            },
            "text/plain": [
              "'\\nexp_3U_2.plot_loss_curves()\\n'"
            ]
          },
          "metadata": {},
          "execution_count": 49
        }
      ]
    },
    {
      "cell_type": "code",
      "source": [
        "\"\"\"\n",
        "exp_3U_2.epoch_report(7, df_test.label.to_list(), 'val')\n",
        "\"\"\""
      ],
      "metadata": {
        "id": "ZSSICXiDL3so",
        "colab": {
          "base_uri": "https://localhost:8080/",
          "height": 35
        },
        "outputId": "90b43e6a-bfbb-4269-b01f-b167a5013a6c"
      },
      "execution_count": 50,
      "outputs": [
        {
          "output_type": "execute_result",
          "data": {
            "application/vnd.google.colaboratory.intrinsic+json": {
              "type": "string"
            },
            "text/plain": [
              "\"\\nexp_3U_2.epoch_report(7, df_test.label.to_list(), 'val')\\n\""
            ]
          },
          "metadata": {},
          "execution_count": 50
        }
      ]
    },
    {
      "cell_type": "markdown",
      "source": [
        "### Model 6:  \n",
        "\n",
        "*   Network: 3 Layer Feed Forward Network\n",
        "*   Loss: Cross Entropy\n",
        "*   Learning Rate: 0.00001\n",
        "*   Optimizer Adam\n",
        "*   Epochs: 12\n",
        "\n"
      ],
      "metadata": {
        "id": "K-gZHbN_wdU_"
      }
    },
    {
      "cell_type": "code",
      "source": [
        "\"\"\"\n",
        "from sklearn.utils import class_weight\n",
        "from torch.utils.data.dataloader import default_collate\n",
        "\n",
        "input_dim = X_train.shape[1]\n",
        "hidden_dims = [128, 64]\n",
        "output_dim = 3\n",
        "\n",
        "batch_size = 32\n",
        "train_dataset = Dataset(X_train, y_train)\n",
        "test_dataset = Dataset(X_test, y_test)\n",
        "train_dataloader = torch.utils.data.DataLoader(dataset=train_dataset, batch_size=batch_size, shuffle=True, collate_fn=lambda x: tuple(x_.to(device) for x_ in default_collate(x)))\n",
        "test_dataloader = torch.utils.data.DataLoader(dataset=test_dataset, batch_size=batch_size, collate_fn=lambda x: tuple(x_.to(device) for x_ in default_collate(x)))\n",
        "\n",
        "model = FeedForwardNeuralNet_3U(input_dim, hidden_dims, output_dim)\n",
        "model.to(device)\n",
        "\n",
        "class_weights = class_weight.compute_class_weight(class_weight='balanced', classes=np.unique(df_train.label), y=df_train.label)\n",
        "class_weights = torch.tensor(class_weights,dtype=torch.float)\n",
        "\n",
        "criterion = nn.CrossEntropyLoss(weight=class_weights, reduction='mean')\n",
        "criterion = criterion.to(device)\n",
        "\n",
        "learning_rate = 0.00001\n",
        "optimizer = torch.optim.Adam(model.parameters(), lr=learning_rate)\n",
        "# optimizer = torch.optim.Adam(model.parameters(), lr=learning_rate)\n",
        "\n",
        "n_epochs = 20\n",
        "exp_3U_3 = Experiments(model, n_epochs, criterion, optimizer, train_dataloader, test_dataloader)\n",
        "exp_3U_3.run()\n",
        "\"\"\""
      ],
      "metadata": {
        "id": "tmvPBhyXvOP0",
        "colab": {
          "base_uri": "https://localhost:8080/",
          "height": 87
        },
        "outputId": "c5ab2767-e52d-473d-968b-433670e20ecf"
      },
      "execution_count": 51,
      "outputs": [
        {
          "output_type": "execute_result",
          "data": {
            "application/vnd.google.colaboratory.intrinsic+json": {
              "type": "string"
            },
            "text/plain": [
              "\"\\nfrom sklearn.utils import class_weight\\nfrom torch.utils.data.dataloader import default_collate\\n\\ninput_dim = X_train.shape[1]\\nhidden_dims = [128, 64]\\noutput_dim = 3\\n\\nbatch_size = 32\\ntrain_dataset = Dataset(X_train, y_train)\\ntest_dataset = Dataset(X_test, y_test)\\ntrain_dataloader = torch.utils.data.DataLoader(dataset=train_dataset, batch_size=batch_size, shuffle=True, collate_fn=lambda x: tuple(x_.to(device) for x_ in default_collate(x)))\\ntest_dataloader = torch.utils.data.DataLoader(dataset=test_dataset, batch_size=batch_size, collate_fn=lambda x: tuple(x_.to(device) for x_ in default_collate(x)))\\n\\nmodel = FeedForwardNeuralNet_3U(input_dim, hidden_dims, output_dim)\\nmodel.to(device)\\n\\nclass_weights = class_weight.compute_class_weight(class_weight='balanced', classes=np.unique(df_train.label), y=df_train.label)\\nclass_weights = torch.tensor(class_weights,dtype=torch.float)\\n\\ncriterion = nn.CrossEntropyLoss(weight=class_weights, reduction='mean')\\ncriterion = criterion.to(device)\\n\\nlearning_rate = 0.00001\\noptimizer = torch.optim.Adam(model.parameters(), lr=learning_rate)\\n# optimizer = torch.optim.Adam(model.parameters(), lr=learning_rate)\\n\\nn_epochs = 20\\nexp_3U_3 = Experiments(model, n_epochs, criterion, optimizer, train_dataloader, test_dataloader)\\nexp_3U_3.run()\\n\""
            ]
          },
          "metadata": {},
          "execution_count": 51
        }
      ]
    },
    {
      "cell_type": "code",
      "source": [
        "\"\"\"\n",
        "exp_3U_3.plot_loss_curves()\n",
        "\"\"\""
      ],
      "metadata": {
        "id": "1Q7X-k2fv3Jk",
        "colab": {
          "base_uri": "https://localhost:8080/",
          "height": 35
        },
        "outputId": "0947b11a-362c-4fae-9305-32db486a788a"
      },
      "execution_count": 52,
      "outputs": [
        {
          "output_type": "execute_result",
          "data": {
            "application/vnd.google.colaboratory.intrinsic+json": {
              "type": "string"
            },
            "text/plain": [
              "'\\nexp_3U_3.plot_loss_curves()\\n'"
            ]
          },
          "metadata": {},
          "execution_count": 52
        }
      ]
    },
    {
      "cell_type": "code",
      "source": [
        "\"\"\"\n",
        "exp_3U_3.epoch_report(12, df_test.label.to_list(), 'val')\n",
        "\"\"\""
      ],
      "metadata": {
        "id": "aPa6QED_MbTq",
        "colab": {
          "base_uri": "https://localhost:8080/",
          "height": 35
        },
        "outputId": "4002aa38-b12f-46db-841f-0ce475ab614f"
      },
      "execution_count": 53,
      "outputs": [
        {
          "output_type": "execute_result",
          "data": {
            "application/vnd.google.colaboratory.intrinsic+json": {
              "type": "string"
            },
            "text/plain": [
              "\"\\nexp_3U_3.epoch_report(12, df_test.label.to_list(), 'val')\\n\""
            ]
          },
          "metadata": {},
          "execution_count": 53
        }
      ]
    },
    {
      "cell_type": "markdown",
      "source": [
        "## Selected Model:  \n",
        "\n",
        "*   Network: 3 Layer Feed Forward Network\n",
        "*   Loss: Cross Entropy\n",
        "*   Learning Rate: 0.00001\n",
        "*   Optimizer Adam + AmsGrad\n",
        "*   Epochs: 12\n",
        "\n",
        "\n",
        "\n"
      ],
      "metadata": {
        "id": "wB22RjPKDVJW"
      }
    },
    {
      "cell_type": "code",
      "source": [
        "from sklearn.utils import class_weight\n",
        "from torch.utils.data.dataloader import default_collate\n",
        "\n",
        "input_dim = X_train.shape[1]\n",
        "hidden_dims = [128, 64]\n",
        "output_dim = 3\n",
        "\n",
        "batch_size = 32\n",
        "train_dataset = Dataset(X_train, y_train)\n",
        "test_dataset = Dataset(X_test, y_test)\n",
        "\n",
        "train_dataloader = torch.utils.data.DataLoader(dataset=train_dataset, batch_size=batch_size, shuffle=True, collate_fn=lambda x: tuple(x_.to(device) for x_ in default_collate(x)))\n",
        "test_dataloader = torch.utils.data.DataLoader(dataset=test_dataset, batch_size=batch_size, collate_fn=lambda x: tuple(x_.to(device) for x_ in default_collate(x)))\n",
        "\n",
        "model = FeedForwardNeuralNet_3U(input_dim, hidden_dims, output_dim)\n",
        "model.to(device)\n",
        "\n",
        "class_weights = class_weight.compute_class_weight(class_weight='balanced', classes=np.unique(df_train.label), y=df_train.label)\n",
        "class_weights = torch.tensor(class_weights,dtype=torch.float)\n",
        "\n",
        "criterion = nn.CrossEntropyLoss(weight=class_weights, reduction='mean')\n",
        "criterion = criterion.to(device)\n",
        "\n",
        "learning_rate = 0.00001\n",
        "optimizer = torch.optim.Adam(model.parameters(), lr=learning_rate, amsgrad=True)\n",
        "# optimizer = torch.optim.Adam(model.parameters(), lr=learning_rate)\n",
        "\n",
        "n_epochs = 12\n",
        "exp_3U_4 = Experiments(model, n_epochs, criterion, optimizer, train_dataloader, test_dataloader)\n",
        "exp_3U_4.run()"
      ],
      "metadata": {
        "id": "MwbXgdel1ArS"
      },
      "execution_count": 63,
      "outputs": []
    },
    {
      "cell_type": "code",
      "source": [
        "exp_3U_4.plot_loss_curves()"
      ],
      "metadata": {
        "id": "bkbtzvSq1NG6",
        "colab": {
          "base_uri": "https://localhost:8080/",
          "height": 621
        },
        "outputId": "5bde0f28-73ae-40cd-874f-402bddd0841c"
      },
      "execution_count": 64,
      "outputs": [
        {
          "output_type": "display_data",
          "data": {
            "image/png": "[encoded data removed]",
            "text/plain": [
              "<Figure size 720x720 with 1 Axes>"
            ]
          },
          "metadata": {
            "needs_background": "light"
          }
        }
      ]
    },
    {
      "cell_type": "code",
      "source": [
        "exp_3U_4.epoch_report(12, df_test.label.to_list(), 'val')"
      ],
      "metadata": {
        "id": "LKyZCZPORwIW",
        "colab": {
          "base_uri": "https://localhost:8080/"
        },
        "outputId": "7971de31-38d8-48e4-93c1-74083f8fae39"
      },
      "execution_count": 65,
      "outputs": [
        {
          "output_type": "stream",
          "name": "stdout",
          "text": [
            "====\n",
            "Classification report for validation set\n",
            "====\n",
            "              precision    recall  f1-score   support\n",
            "\n",
            "           0       0.73      0.67      0.70      1065\n",
            "           1       0.30      0.61      0.40       296\n",
            "           2       0.65      0.50      0.56       921\n",
            "\n",
            "    accuracy                           0.59      2282\n",
            "   macro avg       0.56      0.59      0.56      2282\n",
            "weighted avg       0.64      0.59      0.61      2282\n",
            "\n"
          ]
        }
      ]
    },
    {
      "cell_type": "code",
      "source": [
        "exp_3U_4.plot_roc_curves(X_train, y_train)"
      ],
      "metadata": {
        "colab": {
          "base_uri": "https://localhost:8080/",
          "height": 295
        },
        "id": "LbvCHx0nDwe-",
        "outputId": "e488d250-3998-4ebd-dd47-62845d952d83"
      },
      "execution_count": 66,
      "outputs": [
        {
          "output_type": "display_data",
          "data": {
            "image/png": "[encoded data removed]",
            "text/plain": [
              "<Figure size 432x288 with 1 Axes>"
            ]
          },
          "metadata": {
            "needs_background": "light"
          }
        }
      ]
    },
    {
      "cell_type": "code",
      "source": [
        "exp_3U_4.plot_roc_curves(X_test, y_test)"
      ],
      "metadata": {
        "colab": {
          "base_uri": "https://localhost:8080/",
          "height": 295
        },
        "id": "Ezo_MXOJD3Lr",
        "outputId": "c3e327e3-adb1-4448-910d-52fc31a4d38a"
      },
      "execution_count": 67,
      "outputs": [
        {
          "output_type": "display_data",
          "data": {
            "image/png": "[encoded data removed]",
            "text/plain": [
              "<Figure size 432x288 with 1 Axes>"
            ]
          },
          "metadata": {
            "needs_background": "light"
          }
        }
      ]
    }
  ],
  "metadata": {
    "colab": {
      "collapsed_sections": [],
      "name": "AI_II_Proj2.ipynb",
      "provenance": []
    },
    "kernelspec": {
      "display_name": "Python 3",
      "name": "python3"
    },
    "language_info": {
      "name": "python"
    },
    "accelerator": "GPU"
  },
  "nbformat": 4,
  "nbformat_minor": 0
}